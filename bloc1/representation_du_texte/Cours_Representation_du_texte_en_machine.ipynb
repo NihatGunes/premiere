{
 "cells": [
  {
   "cell_type": "markdown",
   "metadata": {},
   "source": [
    "# Encodage et décodage du texte\n",
    "\n",
    "## De quoi s'agit-il ?\n",
    "\n",
    "Quand nous manipulons du texte, même s'il apparaît \"tel quel\" sur les écrans, en réalité il est codé en machine par une suite de 1 et de 0 (comme n'importe quelle donnée, voir [cours d'introduction à la représentation des données](../Cours_Introduction_a_la_representation_des_donnees.ipynb)\n",
    "\n",
    "![Encodage et Decodage](img/encodageDecodage.png)\n",
    "\n",
    " * Quand on **écrit du texte** et qu'on l'**enregistre dans un fichier**, l'ordinateur réalise un **encodage**\n",
    " * Quand on **ouvre un fichier** contenant du texte pour l'**afficher** à l'écran, l'ordinateur réalise un **décodage**\n",
    "\n",
    "L'encodage se fait grâce à des **tables** ou **norme** qui fait correspondre pour chaque caractère \"humain\" un nombre (donc une suite de 1 et de 0).\n",
    "\n",
    "Il existe beaucoup de tables différentes, parmi lesquelles 3 sont à connaître : la table **ASCII**, la table **ISO-8859-1** (encore appelée **Latin-1**) et la table **UNICODE**.\n",
    " \n",
    "## ASCII\n",
    "ASCII (*American Standard Code for Information Interchange*) est la **première norme** largement utilisée pour encoder des caractères.  Comme son nom l'indique cette norme est **américaine et elle n'inclut donc que les lettres latines non\n",
    "accentuées** (en plus des chiffres, opérateurs mathématiques, caractères de ponctuation ou de délimitation et certains caractères spéciaux).\n",
    "\n",
    "Voici les caractères de la table ASCII (les 33 premiers, et le dernier, ne sont pas imprimables) :\n",
    "\n",
    "![table ascii](img/ASCII.png) _\"Source : Wikipedia\"_\n",
    "\n",
    "Exemple : En ASCII, le caracère **'a'** est codé par le nombre $97 = 61_{(16)} = 0110 0001_{(2)}$  \n",
    "Autrement dit, le caractère 'a' est **encodé** en machine par la suite 0110 0001\n",
    "\n",
    "### Quelques caractéristiques à connaître sur la norme ASCII\n",
    "\n",
    "* Chaque caractère est encodé sur 1 octet (donc 8 bits) mais en pratique **7 bits** servent à l'encodage (le 8ème étant réservé pour détecter les éventuelles erreurs de transmission). \n",
    "\n",
    "\n",
    "* La norme ASCII permet d'encoder uniquement $2^7 = 128$ caractères\n",
    "\n",
    "\n",
    "* Les caractères accentués ne sont pas encodables en ASCII\n",
    "\n",
    "## ISO-8859-1 ou LATIN-1\n",
    "\n",
    "Par la suite d'autres encodages ont vu le jour afin de pallier les limites de l'ASCII.  L'ISO-8859-1 a vu le jour en 1986 en Europe occidentale pour combler les caractères non encodables en ASCII. Pour le français il manque cependant le œ, le Œ et le Ÿ et, bien entendu, le symbole €.  \n",
    "\n",
    "Voici [la table des caractères ISO-8859-1](http://std.dkuug.dk/jtc1/sc2/wg3/docs/n411.pdf) :\n",
    "\n",
    "![latin1](img/iso-8859-1.png) _\"Source : http://std.dkuug.dk/jtc1/sc2/wg3/docs/n411.pdf\"_\n",
    "\n",
    "Exemple : En ISO-8859-1, le caracère **'é'** est codé par le nombre $E9_{(16)} = 233 = 1110 1001_{(2)}$\n",
    "\n",
    "### Quelques caractéristiques à connaître sur la norme ISO-8859-1\n",
    "\n",
    "* Chaque caractère est encodé sur 1 octet (donc 8 bits)\n",
    "\n",
    "\n",
    "* La norme ISO-8859-1 permet d'encoder uniquement $2^8 = 256$ caractères\n",
    "\n",
    "\n",
    "* La norme ISO-8859-1 est **compatible avec la norme ASCII**. Ceci veut dire que les 128 caractères de la table ASCII possède le même encodage en ISO-8859-1.  \n",
    "_Exemple : le caracère **'a'** est codé par le nombre $97 = 61_{(16)} = 0110 0001_{(2)}$ en ASCII comme en ISO-8859-1_\n",
    "\n",
    "\n",
    "* La norme ISO-8859-1 permet d'encoder la plupart des caractères utilisés dans les langues d'Europe occidentale\n",
    "\n",
    "## Comment manipuler l'encodage en Python\n",
    "\n",
    "Les méthodes `encode` et `decode` permettent d'encoder er de décoder des chaînes de caractères dans différentes normes. Exemples :"
   ]
  },
  {
   "cell_type": "code",
   "execution_count": 15,
   "metadata": {},
   "outputs": [
    {
     "name": "stdout",
     "output_type": "stream",
     "text": [
      "b'\\xe9'\n"
     ]
    }
   ],
   "source": [
    "caractereEncode = 'é'.encode('latin1')\n",
    "\n",
    "print(caractereEncode)"
   ]
  },
  {
   "cell_type": "markdown",
   "metadata": {},
   "source": [
    "On retrouve bien que 'é' s'encode en $E9_{(16)}$ dans la norme ISO-8859-1.  \n",
    "\n",
    "**Remarque :** \n",
    "* le `\\x` montre bien que le résultat est exprimé en hexadécimal.\n",
    "* le `b` montre que le résultat est de type `bytes` (hors programme)"
   ]
  },
  {
   "cell_type": "code",
   "execution_count": 17,
   "metadata": {},
   "outputs": [
    {
     "name": "stdout",
     "output_type": "stream",
     "text": [
      "é\n"
     ]
    }
   ],
   "source": [
    "# La méthode decode permet bien de retrouver le caractère 'é'\n",
    "\n",
    "caractereDecode = caractereEncode.decode('latin1')\n",
    "print(caractereDecode)"
   ]
  },
  {
   "cell_type": "markdown",
   "metadata": {},
   "source": [
    "## Problème d'encodage\n",
    "\n",
    " Il existe de [très nombreux encodages différents](https://fr.wikipedia.org/wiki/Codage_des_caract%C3%A8res#Jeux_de_caract%C3%A8res_cod%C3%A9s_populaires,_par_pays), chaque pays ou entreprise développant sa propre norme en fonction de ses besoins.\n",
    "\n",
    "Des problèmes d'affichage apparaissent lorsqu'un texte n'est pas décodé avec la même norme utilisée pour son encodage, ce qui se manifeste par un \"affichage étrange\" de certains caractères comme ici : un Ã©trange problÃ¨me d'affichage.\n",
    "Cela arrive parfois (dans des mails, sur des sites web ou encore dans un fichier texte)"
   ]
  },
  {
   "cell_type": "code",
   "execution_count": 18,
   "metadata": {},
   "outputs": [
    {
     "name": "stdout",
     "output_type": "stream",
     "text": [
      "la chaîne originale : Le père Noël est une ordure\n",
      "la chaîne décodée : Le père Noël est une ordure\n"
     ]
    }
   ],
   "source": [
    "# Utilisation de la même norme (latin1) pour l'encodage et le décodage : Pas de problème d'affichage\n",
    "chaine = \"Le père Noël est une ordure\"\n",
    "\n",
    "encodage = chaine.encode('latin1') #encodage\n",
    "decodage = encodage.decode('latin1') #décodage\n",
    "\n",
    "print(\"la chaîne originale :\",chaine)\n",
    "print(\"la chaîne décodée :\",decodage)"
   ]
  },
  {
   "cell_type": "code",
   "execution_count": 19,
   "metadata": {},
   "outputs": [
    {
     "name": "stdout",
     "output_type": "stream",
     "text": [
      "la chaîne originale : Le père Noël est une ordure\n",
      "la chaîne décodée : Le pÒre NoŠl est une ordure\n"
     ]
    }
   ],
   "source": [
    "# Utilisation d'une norme différente pour l'encodage (latin1) et le décodage(hp_roman8) : Problème d'affichage\n",
    "chaine = \"Le père Noël est une ordure\"\n",
    "\n",
    "encodage = chaine.encode('latin1') #encodage\n",
    "decodage = encodage.decode('hp_roman8') #décodage\n",
    "\n",
    "print(\"la chaîne originale :\",chaine)\n",
    "print(\"la chaîne décodée :\",decodage)"
   ]
  },
  {
   "cell_type": "code",
   "execution_count": 20,
   "metadata": {},
   "outputs": [
    {
     "name": "stdout",
     "output_type": "stream",
     "text": [
      "la chaîne originale : Le père Noël est une ordure\n",
      "la chaîne décodée : <ÁøYÊÁ+?Ô%ÁËÈÍ>Á?ÊÀÍÊÁ\n"
     ]
    }
   ],
   "source": [
    "# Mais ça peut être bien pire...\n",
    "chaine = \"Le père Noël est une ordure\"\n",
    "\n",
    "encodage = chaine.encode('latin1') #encodage\n",
    "decodage = encodage.decode('cp1026') #décodage\n",
    "\n",
    "print(\"la chaîne originale :\",chaine)\n",
    "print(\"la chaîne décodée :\",decodage)"
   ]
  },
  {
   "cell_type": "code",
   "execution_count": 21,
   "metadata": {},
   "outputs": [
    {
     "name": "stdout",
     "output_type": "stream",
     "text": [
      "la chaîne originale : Le père Noël est une ordure\n",
      "la chaîne décodée : Le père Noël est une ordure\n"
     ]
    }
   ],
   "source": [
    "# Certaines normes sont compatibles entre elles... du moins pour les caractères utilisés ici...\n",
    "chaine = \"Le père Noël est une ordure\"\n",
    "\n",
    "encodage = chaine.encode('latin1') #encodage\n",
    "decodage = encodage.decode('latin8') #décodage\n",
    "\n",
    "print(\"la chaîne originale :\",chaine)\n",
    "print(\"la chaîne décodée :\",decodage)"
   ]
  },
  {
   "cell_type": "markdown",
   "metadata": {},
   "source": [
    "### Bilan et bonnes pratiques\n",
    "\n",
    "* Lorsqu'on encode un texte : il faut toujours préciser l'encodage utilisé !!\n",
    "\n",
    "* Privilégier autant que possible un encodage \"universel\" : l'**UTF-8**  \n",
    "\n",
    "\n",
    "**Exemple de bonne pratique :**\n",
    "\n",
    "Ici Atom a été configuré pour encoder le texte en **UTF-8** (voir en bas de la fenêtre)  \n",
    "En HTML, on précise grâce à la balise `<meta>` que l'encodage utilisé est UTF-8. Ainsi le navigateur sait avec quel norme il doit lire le fichier HTML (ce qui évite les problèmes d'affichage)\n",
    "\n",
    "![atom](img/encodageAtom.png)"
   ]
  },
  {
   "cell_type": "markdown",
   "metadata": {},
   "source": [
    "## [UTF-8](https://unicode-table.com)\n",
    "\n",
    "Afin d'éviter les problèmes d'affichage liés à la profusion des normes, l'[UTF-8](https://fr.wikipedia.org/wiki/UTF-8) a été développé dans les années 90\n",
    "\n",
    "\n",
    "* L'UTF-8 permet de représenter plusieurs centaines de milliers de caractères, ce qui est suffisant pour toutes les langues vivantes ou mortes et également de nombreux emojis indispensables 😇 ...\n",
    "\n",
    "\n",
    "* UTF-8 est **compatible avec l'ASCII**\n",
    "\n",
    "\n",
    "* UTF-8 est **incompatible avec l'ISO-8859-1**\n",
    "\n",
    "\n",
    "* UTF-8 est un **encodage de longueur variable**, contrairement à l'ASCII et au codage ISO-8859-1. Certains caractères sont codés sur un seul octet, ce sont les 128 caractères du codage ASCII.  Les autres caractères peuvent être codés sur 2, 3 ou 4 octets.  \n",
    "\n",
    "\n",
    "* Avantage : Comme UTF-8 possède tous les caractères du monde, il s'impose très largemement de nos jour, ce qui limite les problèmes d'encodage/décodage puisque tout le monde utilise UTF-8. Ainsi, Python3 utilise UTF-8, UTF-8 est aussi devenu le standard du web. **Par défaut, vous DEVEZ UTILISER UTF-8**\n",
    "\n",
    "\n",
    "* Inconvénients : \n",
    "    * Perte de la correspondance _\"1 caractère / 1 octet\"_\n",
    "    * UTF-8 est un codage qui (pour les caractères non ascii) utilise **plus de ressource mémoire** que les autres normes pour encoder un texte"
   ]
  }
 ],
 "metadata": {
  "kernelspec": {
   "display_name": "Python 3",
   "language": "python",
   "name": "python3"
  },
  "language_info": {
   "codemirror_mode": {
    "name": "ipython",
    "version": 3
   },
   "file_extension": ".py",
   "mimetype": "text/x-python",
   "name": "python",
   "nbconvert_exporter": "python",
   "pygments_lexer": "ipython3",
   "version": "3.7.2"
  }
 },
 "nbformat": 4,
 "nbformat_minor": 2
}
