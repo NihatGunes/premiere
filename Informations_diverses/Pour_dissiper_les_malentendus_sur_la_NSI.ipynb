{
 "cells": [
  {
   "cell_type": "markdown",
   "metadata": {},
   "source": [
    "## Que fait-on en NSI ?\n",
    "\n",
    "> Normalement vous devriez en avoir une petite idée car **vous avez choisi de venir** et j'ai fait plusieurs interventions auprès des élèves et des familles pour dissiper un possible malentendu sur la NSI. Mais je préfère le redire une **dernière** fois en ce début d'année !!\n",
    "\n",
    "Commençons par caricaturer... malheureusement, pour quelques élèves ce n'est pas de la caricature :\n",
    "\n",
    "| <img src=\"img/gamers.jpg\" width = 60%/> | <img src=\"img/lignesCode.png\" width = 100%/>  |\n",
    "|:-------------------------------------:|:-----------------:|\n",
    "|**Certains imaginent ça en NSI**|**Le quotidien en NSI**|\n",
    "|(*probablement 4 ou 5 de moyenne à l'arrivée, voire pire*)|(*La moyenne va dépendre du travail fourni*)|\n",
    "\n",
    "* Quand on utilise une voiture, on ne fait pas de mécanique !  \n",
    "De la même façon, **quand on utilise un ordinateur, ou encore pire un smartphone, ON NE FAIT PAS d'informatique, ON NE FAIT PAS de la NSI !**\n",
    "\n",
    "\n",
    "* Ceux qui font de la mécanique, ce sont les garagistes et les constructeurs automobile : Ils savent comment la voiture fonctionne et font en sorte qu'elle puisse rouler !  \n",
    "De la même façon en NSI, on apprend comment fonctionne un ordinateur, comment on fabrique des logiciels (cela s'appelle faire de la programmation) ou comment fonctionnent internet et les réseaux. **Le travail d'un informaticien, c'est de faire en sorte que LES AUTRES puissent utiliser des ordinateurs, des logiciels, des applications et des réseaux**\n",
    "\n",
    "________________________\n",
    "\n",
    "|CECI **N'EST PAS** UN TRAVAIL D'INFORMATICIEN| CECI **EST** UN TRAVAIL D'INFORMATICIEN|\n",
    "|:--:|:--:|\n",
    "|Ecrire un rapport sous Word|Ecrire un logiciel de traitement de texte comme Word|\n",
    "|Dessiner des pièces pour les imprimer en 3D|Créer et administrer un réseau|\n",
    "|Dessiner des personnages de fortnite|Créer toute la _\"mécanique\"_ qui fait qu'on puisse jouer à fortnite|\n",
    "|Discuter sur Discord, Faire une campagne de pub sur Facebook|Créer et développer un service de messagerie|\n",
    "|Passer son temps sur You Tube et surfer sur internet| Créer un site web ou développer un serveur web|\n",
    "|**UTILISER L'OUTIL INFORMATIQUE**|**ETUDIER L'INFORMATIQUE**|\n",
    "\n",
    "__________________________________\n",
    "\n",
    "* Le travail demandé en NSI est bien plus dense que celui demandé en SNT !!\n",
    "\n",
    "\n",
    "* En NSI, on fait des TP mais pas uniquement : il y a aussi une partie théorique !!\n",
    "\n",
    "## Qualités demandées pour réussir en NSI\n",
    "\n",
    "Rigueur, capacité d'abstraction, organisation, autonomie, capacité à se mettre au travail, ESPRIT ET RAISONNEMENT SCIENTIFIQUE (il y a une assez bonne corrélation entre moyenne en math et moyenne en NSI)\n",
    "\n",
    "## Conclusion\n",
    "\n",
    "* **L'orientation prend une part fondamentale dans la réussite scolaire.** \n",
    "* Les séances durent 4 heures pour des raisons indépendantes de ma volonté et de la vôtre. Cela va être très long et pénible pour ceux qui se sont mal orientés en NSI. \n",
    "* L'expérience des années précédentes montre que ceux qui ne sont pas intéressés par la NSI et/ou qui ne veulent pas fournir le travail nécessaire et/ou qui n'ont pas les qualités demandées ont des moyennes pouvant être catastrophiques. Bien sûr ceux qui sont venu en NSI pour les bonnes raisons et en ayant les capacités demandées peuvent avoir des moyennes excellentes. **L'année dernière les moyennes ont été comprises entre 0 et 18...**\n",
    "\n",
    "# Si après cette mise au point, vous vous rendez compte que la NSI n'est pas pour vous, cherchez une autre spécialité qui vous convient mieux : c'est à vous de vous prendre en main pour demander à l'administration si il est encore possible de changer de spécialité. Ne croyez pas que pour vous, ça sera différent de ceux des années précédentes !  "
   ]
  }
 ],
 "metadata": {
  "kernelspec": {
   "display_name": "Python 3",
   "language": "python",
   "name": "python3"
  },
  "language_info": {
   "codemirror_mode": {
    "name": "ipython",
    "version": 3
   },
   "file_extension": ".py",
   "mimetype": "text/x-python",
   "name": "python",
   "nbconvert_exporter": "python",
   "pygments_lexer": "ipython3",
   "version": "3.7.2"
  }
 },
 "nbformat": 4,
 "nbformat_minor": 4
}
