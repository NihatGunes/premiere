{
 "cells": [
  {
   "cell_type": "markdown",
   "metadata": {},
   "source": [
    "# Exercice 1 (sur feuille) :\n",
    "\n",
    "Donner le résultat des expressions booléennes suivantes :\n",
    "\n",
    "* S1 = True and False\n",
    "* S2 = False or not(False)\n",
    "* S3 = not(True and (False or True))\n",
    "* S4 = True and (False or True)\n",
    "* S5 = True and (False or True)\n",
    "\n",
    "avec a = 1, b = 0, c = 1\n",
    "\n",
    "* $S6 = \\bar a \\oplus b$\n",
    "* $S7 = a \\oplus b \\oplus c$\n",
    "* $S8 = ((a + b) . c) \\oplus b$\n",
    "* $S9 = \\bar a \\land (b \\lor \\bar c)$\n",
    "* $S10 = a \\lor b \\land c$\n",
    "\n"
   ]
  },
  {
   "cell_type": "markdown",
   "metadata": {},
   "source": [
    "# Exercice 2 (sur feuille)\n",
    "\n",
    "Ecrire la table de vérité des expressions booléennes ci-dessous. Conseil : Quand l'expression booléenne se complique, ajouter des colonnes dans la table de vérité permettant de faire des calculs intermédiaires.\n",
    "\n",
    "* $S6 = \\bar a \\oplus b$\n",
    "* $S7 = a \\oplus b \\oplus c$\n",
    "* $S8 = ((a + b) . c) \\oplus b$\n",
    "* $S9 = \\bar a \\land (b \\lor \\bar c)$\n",
    "* $S10 = a \\lor b \\land c$"
   ]
  },
  {
   "cell_type": "markdown",
   "metadata": {},
   "source": [
    "# Exercice 3 (sur feuille) :\n",
    "\n",
    "Simplifier les expressions booléennes suivantes :\n",
    "\n",
    "* $S1 = x + x$\n",
    "* $S2 = e + \\bar e$\n",
    "* $S3 = a \\land \\bar a$\n",
    "* $S4 = y . (\\bar y + x)$\n",
    "* S5 = a or (not(a) and b)"
   ]
  },
  {
   "cell_type": "markdown",
   "metadata": {},
   "source": [
    "# Exercice 4 (sur feuille) :\n",
    "\n",
    "Pour chaque circuit combinatoire ci-dessous, donner l'expression booléenne de la sortie en fonction des entrées\n",
    "\n",
    "![logigramme2 norme US](img/logigramme2.png)\n",
    "![logigramme3 norme US](img/logigramme3.png)"
   ]
  },
  {
   "cell_type": "markdown",
   "metadata": {},
   "source": [
    "# Exercice 5 (sur feuille) :\n",
    "\n",
    "Donner la table de vérité correspondant au circuit logique ci-dessous\n",
    "Conseil : Ajouter des colonnes dans la table de vérité permettant de faire des calculs intermédiaires.\n",
    "\n",
    "![logigramme1 norme Eu](img/logigramme1.png)"
   ]
  },
  {
   "cell_type": "markdown",
   "metadata": {},
   "source": [
    "# Exercice 6 (sur feuille) :\n",
    "\n",
    "Pour chaque expression booléenne ci-dessous, dessiner le circuit combinatoire correspondant.\n",
    "\n",
    "* En norme française : $S6 = \\bar a \\oplus b$ \n",
    "* En norme internationale : $S8 = ((a + b) . c) \\oplus b$\n",
    "* En norme française :  $S9 = \\bar a \\land (b \\lor \\bar c)$\n",
    "* En norme internationale :$S10 = a \\lor b \\land c$ "
   ]
  },
  {
   "cell_type": "markdown",
   "metadata": {},
   "source": [
    "# Exercice 7 (sur ordinateur) :\n",
    "\n",
    "Ecrire en python, 2 versions de la **fonction xor(x,y)** qui réalise l'opérateur du même nom. La fonction devra **renvoyer** le résultat.\n",
    "\n",
    "* Version 1 : En utilisant une structure conditionnelle (`if`)\n",
    "* Version 2 : En utilisant une seule expression booléenne (sans `if`). Pour cela, compléter d'abord l'égalité ci-dessous en observant la table de vérité de la fonction XOR,\n",
    "\n",
    "$a \\oplus b = (\\bar a . b) + ......$\n",
    "\n"
   ]
  },
  {
   "cell_type": "markdown",
   "metadata": {},
   "source": [
    "# Exercice 8\n",
    "\n",
    "*A faire **d'abord** sur feuille puis vérifier **ensuite** la réponse à l'aide de Thonny.*\n",
    "\n",
    "Remarque : \n",
    "* Si nécessaire revoir le cours sur la représentation des entiers positifs et le TD numération dans le bloc 1.\n",
    "* attention lorsque vous vérifiez vos résultats sous thonny, python renvoie systématiquement le résultat en forme décimale. Vous pouvez utiliser les fonctions bin() et hex() pour convertir votre résultat dans le base souhaitée\n",
    "\n",
    "Donner le résultat de l'évaluation des expressions suivantes en python.\n",
    "\n",
    "* 0b1010 << 3\n",
    "* 45 >> 1\n",
    "* 0b110101 & 0b1100\n",
    "* 0xE445 & 0x00FF\n",
    "* 0b110101 | 0b1100\n",
    "* 0xE445 | 0x00FF\n",
    "* 0b110101 ^ 0b1100\n",
    "* 85 ^ 47"
   ]
  },
  {
   "cell_type": "markdown",
   "metadata": {},
   "source": [
    "# Exercice 9 : année bissextile (sur ordinateur)\n",
    "\n",
    "On donne la fonction *est_bissextile()* suivante qui renvoie un booléen égal à True si et seulement si l'année (type int) passée en paramètre est bissextile. Remarque : une année bissextile n'est pas juste une année divisible par 4, c'est un peu plus compliqué que cela et c'est ce que réalise cette fonction."
   ]
  },
  {
   "cell_type": "code",
   "execution_count": 1,
   "metadata": {},
   "outputs": [],
   "source": [
    "def est_bissextile(annee):\n",
    "    if annee % 4 == 0:\n",
    "            if annee % 100 == 0:\n",
    "                    if annee % 400 == 0:\n",
    "                            return True\n",
    "                    else:\n",
    "                            return False\n",
    "            else:\n",
    "                    return True\n",
    "    else:\n",
    "            return False"
   ]
  },
  {
   "cell_type": "code",
   "execution_count": 12,
   "metadata": {},
   "outputs": [
    {
     "data": {
      "text/plain": [
       "False"
      ]
     },
     "execution_count": 12,
     "metadata": {},
     "output_type": "execute_result"
    }
   ],
   "source": [
    "est_bissextile(2000)"
   ]
  },
  {
   "cell_type": "code",
   "execution_count": 10,
   "metadata": {},
   "outputs": [
    {
     "data": {
      "text/plain": [
       "False"
      ]
     },
     "execution_count": 10,
     "metadata": {},
     "output_type": "execute_result"
    }
   ],
   "source": [
    "est_bissextile(1000)"
   ]
  },
  {
   "cell_type": "markdown",
   "metadata": {},
   "source": [
    "Le code de cette fonction est assez mal écrit : on peut l'écrire de manière beaucoup plus lisible et compacte en utilisant une expression booléenne. Compléter la fonction *est_bissextile_v2()* en utilisant une seule expresssion booléenne."
   ]
  },
  {
   "cell_type": "code",
   "execution_count": 9,
   "metadata": {},
   "outputs": [],
   "source": [
    "def est_bissextile_v2(annee):\n",
    "    return ....."
   ]
  },
  {
   "cell_type": "markdown",
   "metadata": {},
   "source": [
    "# Exercice  10 : Additionneur binaire (sur feuille et sur ordinateur)\n",
    "\n",
    "## Première partie\n",
    "\n",
    "* Question préliminaire : Poser et effectuer l'addition binaire ci dessous (faire apparaître les retenues):\n",
    "\n",
    "![addition binaire](img/Addition_binaire.gif)\n",
    "\n",
    "**Le but de cet exercice est de réaliser un circuit combinatoire permettant de réaliser une addition binaire**\n",
    "\n",
    "> On appelle demi-additionneur un circuit combinatoire réalisant une addition entre 2 bits (notés A et B) sans retenue entrante. Ainsi dans la question préliminaire, le demi-additionneur est le circuit permettant d'effectuer l'addition des bits de poids faibles (pas de retenue entrante)\n",
    "\n",
    "1. Compléter ci-dessous la table de vérité du demi-additionneur. On note S le résultat et C la retenue\n",
    "\n",
    "|A|B|S|C|\n",
    "|-|-|-|-|\n",
    "|0|0|\n",
    "|0|1|\n",
    "|1|0|\n",
    "|1|1|\n",
    "\n",
    "\n",
    "2. Donner l'expression booléenne de S et de C en fonction de A et de B puis dessiner le circuit combinatoire correspondant.\n",
    "\n",
    "> Un **additionneur complet 1 bit** nécessite une entrée supplémentaire : une retenue. Dans la question préliminaire, l'additionneur complet est le ciruit permettant d'effectuer l'addition de n'importe quel bit.\n",
    "On donne ci-dessous, le circuit combinatoire correspondant à un additionneur complet 1 bit. On note Cin la retenue entrante et Cout la retenue sortante.\n",
    "\n",
    "![additionneur complet 1 bit](img/additionneur_complet.png) *Source : wikipedia*\n",
    "\n",
    "> Dans la question précédente, nous avons réalisé un demi-additionneur en associant des portes logiques (eux-mêmes constitués de transistors). C'est l'idée de *\"lego\"* mentionnée dans le cours. De la même façon, on peut remarquer que l'additionneur complet 1 bit est basé sur l'association de 2 demi-additionneurs et d'une porte logique.\n",
    "\n",
    "3. Dessiner un schéma de l'additionneur complet 1 bit faisant apparaître l'association de 2 demi-additionneurs et d'une porte logique.\n",
    "\n",
    "4. \n",
    "    * Donner l'expression booléenne de S et de Rout en fonction de A, B et Cin.\n",
    "    * A l'aide des expressions ci-dessus, montrer que le demi-additionneur est un cas particulier de l'additionneur complet 1 bit pour lequel Cin = 0\n",
    "\n",
    "> Ainsi, on peut donc considérer que l'additionneur complet 1 bit est *\"la brique de base\"* permettant de réaliser nimporte quelle addition binaire (comme celle de la question préliminaire)\n",
    "\n",
    "5. Dessiner le schéma d'un additionneur complet 4 bits montrant l'association de plusieurs *\"briques de base\"* additionneur complet 1 bit\n",
    "\n",
    "> L'additionneur binaire complet ainsi réalisé est appelé *additionneur parallèle à propagation de retenue*. Même s'il donne des résultats justes, ce n'est pas ce circuit qui est utilisé dans les processeurs pour réaliser les additions car il a un inconvénient majeur.\n",
    "\n",
    "> Même s'ils sont très rapides, les circuits logiques ne donnent pas leur sortie instantannément : il y a un temps de propagation (de l'ordre de la ns) entre le moment où on injecte les entrées et où les résultats apparaissent sur les sorties. On appelle **t** le temps de propagation d'un additionneur complet 1 bit (**t** = temps de calcul d'un additionneur complet 1 bit).\n",
    "\n",
    "6.  \n",
    "    * Quel est le temps mis pour faire une addition binaire sur 4 bits. Donner la raison en une courte phrase.\n",
    "    * En déduire la formule mathématique donnant le temps de calcul de l'addition en fonction de la longueur des nombres à additionner (nombre de bits de ces nombres)\n",
    "    * Tracer l'allure de la courbe donnant le temps de calcul de l'addition en fonction du nombre de bits composant les nombres à additionner\n",
    "\n",
    "Il existe des additionneurs de technologie plus complexes (à retenue anticipée) mais qui permettent de calculer un résultat en un temps logarithmique de la taille des entrées\n",
    "\n",
    "7. Ajouter sur le graphique précédent la courbe pour les additionneurs à retenue anticipée.\n",
    "\n",
    "8. A l'aide du graphique, expliquer en quelques lignes l'avantage des additionneurs à retenue anticipée par rapport aux additionneurs parallèles à propagation de retenue.\n",
    "\n",
    "## Deuxième partie\n",
    "\n",
    "**La suite de l'exercice devra être réalisé en mettant en oeuvre les résultats précédemment trouvés !**\n",
    "\n",
    "1. Ecrire une fonction str_to_bool() répondant à la documentation ci-dessous :"
   ]
  },
  {
   "cell_type": "code",
   "execution_count": null,
   "metadata": {},
   "outputs": [],
   "source": [
    "def str_to_bool(ch):\n",
    "    \"\"\"\n",
    "    Description de la fonction : Convertit une chaîne de caractère en booléen\n",
    "    parametre ch (str) : 1er bit à additionner\n",
    "    Préconditions sur les paramètres : ch doit prendre uniquement les valeurs '0' ou '1'\n",
    "    return (bool)\n",
    "    \"\"\""
   ]
  },
  {
   "cell_type": "markdown",
   "metadata": {},
   "source": [
    "> Ainsi str_to_bool('0') devra renvoyer `False`. str_to_bool('1') devra renvoyer `True`.\n",
    "\n",
    "2. Ecrire une fonction bool_to_str() répondant à la documentation ci-dessous :"
   ]
  },
  {
   "cell_type": "code",
   "execution_count": null,
   "metadata": {},
   "outputs": [],
   "source": [
    "def bool_to_str(booleen):\n",
    "    \"\"\"\n",
    "    Description de la fonction : Convertit un booléen en chaîne de caractère\n",
    "    parametre booleen (bool)\n",
    "    return (str) :\n",
    "    postcondition sur le résultat : le résultat ne peut être égal qu'à '0' ou '1'\n",
    "    \"\"\""
   ]
  },
  {
   "cell_type": "markdown",
   "metadata": {},
   "source": [
    "> Ainsi bool_to_str(`True`) devra renvoyer '1'. bool_to_str(`False`) devra renvoyer '0'\n",
    "\n",
    "3. Ecrire une fonction addComplet_1bit() répondant à la documentation ci-dessous. Pour cela, vous devrez utiliser les fonctions bool_to_str() et str_to_bool() ainsi que xor() réalisée à l'exercice 7"
   ]
  },
  {
   "cell_type": "code",
   "execution_count": null,
   "metadata": {},
   "outputs": [],
   "source": [
    "def addComplet_1bit(A,B,Cin):\n",
    "    \"\"\"\n",
    "    Description de la fonction : Additionneur complet 1 bit\n",
    "    parametre A (str) : 1er bit à additionner\n",
    "    parametre B (str) : 2eme bit à additionner\n",
    "    parametre Cin (str) : retenue entrante\n",
    "    Préconditions sur les paramètres : A, B et Cin ne peuvent être que des chaînes de caractères \n",
    "                                        égales à '0' ou '1'\n",
    "    return (tuple) : (S, Cout) avec S et Cout de type (str) ne pouvant être que des chaînes de caractères \n",
    "                                        égales à '0' ou '1'\n",
    "    \"\"\""
   ]
  },
  {
   "cell_type": "markdown",
   "metadata": {},
   "source": [
    "> Ainsi addComplet_1bit('1','0','1') devra renvoyer ('0', '1')."
   ]
  }
 ],
 "metadata": {
  "kernelspec": {
   "display_name": "Python 3",
   "language": "python",
   "name": "python3"
  },
  "language_info": {
   "codemirror_mode": {
    "name": "ipython",
    "version": 3
   },
   "file_extension": ".py",
   "mimetype": "text/x-python",
   "name": "python",
   "nbconvert_exporter": "python",
   "pygments_lexer": "ipython3",
   "version": "3.7.2"
  }
 },
 "nbformat": 4,
 "nbformat_minor": 2
}
