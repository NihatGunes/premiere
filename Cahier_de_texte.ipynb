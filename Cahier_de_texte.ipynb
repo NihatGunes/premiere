{
 "cells": [
  {
   "cell_type": "markdown",
   "metadata": {},
   "source": [
    "# Séance 1 : ... septembre 2020 de ...h à ...h\n",
    "## Activité en classe :\n",
    "* Rentrée :\n",
    "\t* (1) Informations générales sur la spécialité NSI et création d'un _repository_ privé sur **github**\n",
    "* bloc1 :\n",
    "\t* (2) Cours Introduction à la représentation des données\n",
    "* bloc6 :\n",
    "\t* (3) Cours Introduction au langage python\n",
    "\t* TP de découverte de Python et synthèse\n",
    "* bloc4 :\n",
    "  * TP HTML\n",
    "\n",
    "## Pour la prochaine séance :\n",
    "  * **Avoir son BLOC NOTE (format A4) à partir de la semaine prochaine**\n",
    "  * **Installer THONNY à la maison**\n",
    "  * **Installer ATOM à la maison**\n",
    "\t* Prendre connaissance des documents suivants \n",
    "\t\t* règles de vie en classe\n",
    "\t\t*\n",
    "  * Revoir/refaire les activités de la séance 1\n",
    "  * *Dispositif \"classe inversée\"* : lire"
   ]
  }
 ],
 "metadata": {
  "kernelspec": {
   "display_name": "Python 3",
   "language": "python",
   "name": "python3"
  },
  "language_info": {
   "codemirror_mode": {
    "name": "ipython",
    "version": 3
   },
   "file_extension": ".py",
   "mimetype": "text/x-python",
   "name": "python",
   "nbconvert_exporter": "python",
   "pygments_lexer": "ipython3",
   "version": "3.7.2"
  }
 },
 "nbformat": 4,
 "nbformat_minor": 4
}
