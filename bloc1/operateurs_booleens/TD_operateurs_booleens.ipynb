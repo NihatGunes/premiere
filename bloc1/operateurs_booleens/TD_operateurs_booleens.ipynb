{
 "cells": [
  {
   "cell_type": "markdown",
   "metadata": {},
   "source": [
    "# Exercice 1\n",
    "\n",
    "A partir de l'équation `S = not (A or B)`, retrouver \"tout le reste\" : nom, symbole, équation\n",
    "\n",
    "\n",
    "# Exercice 2\n",
    "\n",
    "![ET à 3 entrées](img/ET_3entrees.png)\n",
    "\n",
    "A partir du  symbole ci-dessus, retrouver \"tout le reste\" : nom, équation, table de vérité\n",
    "\n",
    "\n",
    "# Exercice 3 \n",
    "\n",
    "* `S1 = True and False`\n",
    "* `S2 = False or not(False)`\n",
    "* `S3 = not(True and (False or True))`\n",
    "* `S4 = True and (False or True)`\n",
    "* `S5 = True and (False or True)`\n",
    "\n",
    "# Exercice 4\n",
    "\n",
    "\n",
    "1. On donne a = 1, b = 0, c = 1. Donner le résultat des expressions booléennes suivantes :\n",
    "    * `S6 = not(a) xor b`\n",
    "    * `S7 = a xor b xor c`\n",
    "    * `S8 = ((a or b) and c) xor c`\n",
    "    * `S9 = not(a) and (b or not(c))`\n",
    "    * `S10 = a or b and c`\n",
    "\n",
    "\n",
    "2. Ecrire la table de vérité des expressions booléennes ci-dessus. Conseil : Quand l'expression booléenne se complique, ajouter des colonnes dans la table de vérité permettant de faire des calculs intermédiaires.\n",
    "\n",
    "# Exercice 5\n",
    "\n",
    "Simplifier les expressions booléennes suivantes :\n",
    "\n",
    "* `S11 = x or x`\n",
    "* `S12 = e or not(e)`\n",
    "* `S13 = a and not(a)`\n",
    "* `S14 = y and (not(y) + x)`\n",
    "* `S15 = a or (not(a) and b)`\n",
    "\n",
    "# Exercice 6\n",
    "\n",
    "Pour chaque circuit combinatoire ci-dessous, donner l'équation booléenne de la sortie en fonction des entrées\n",
    "\n",
    "![logigramme2 norme US](img/logigramme2.png)\n",
    "![logigramme3 norme US](img/logigramme3.png)\n",
    "\n",
    "# Exercice 7\n",
    "\n",
    "Donner la table de vérité correspondant au circuit logique ci-dessous  \n",
    "*(Conseil : Ajouter des colonnes dans la table de vérité permettant de faire des calculs intermédiaires.)*\n",
    "\n",
    "![logigramme1 norme Eu](img/logigramme1.png)\n",
    "\n",
    "# Exercice 8\n",
    "\n",
    "Pour chaque expression booléenne ci-dessous, dessiner le circuit combinatoire correspondant.\n",
    "\n",
    "* En norme US : `S6 = not(a) xor b`\n",
    "* En norme internationale : `S8 = ((a or b) and c) xor b`\n",
    "* En norme US :  `S9 = not(a) and (b or not(c))`\n",
    "* En norme internationale : `S10 = a or b and c`\n",
    "\n",
    "# Exercice 9\n",
    "\n",
    "Ecrire en python, 2 versions de la **fonction xor(x,y)** qui réalise l'opérateur du même nom. La fonction devra **renvoyer** le résultat.\n",
    "\n",
    "* Version 1 : En utilisant une structure conditionnelle (`if`)\n",
    "* Version 2 : En utilisant une seule expression booléenne (sans `if`). Pour cela, compléter d'abord l'égalité ci-dessous en observant la table de vérité de la porte logique `xor`,\n",
    "\n",
    "`a xor b = (not(a) and b) or ....`\n",
    "\n",
    "# Exercice 10\n",
    "\n",
    "*A faire **d'abord** sur feuille puis vérifier **ensuite** la réponse à l'aide de Thonny.*\n",
    "\n",
    "Remarque : \n",
    "* Si nécessaire revoir le cours sur la représentation des entiers positifs et le TD numération dans le bloc 1.\n",
    "* attention lorsque vous vérifiez vos résultats sous thonny, python renvoie systématiquement le résultat en forme décimale. Vous pouvez utiliser les fonctions bin() et hex() pour convertir votre résultat dans le base souhaitée\n",
    "\n",
    "Donner le résultat de l'évaluation des expressions suivantes en python.\n",
    "\n",
    "* `0b1010 << 3`\n",
    "* `45 >> 1`\n",
    "* `0b110101 & 0b1100`\n",
    "* `0xE445 & 0x00FF`\n",
    "* `0b110101 | 0b1100`\n",
    "* `0xE445 | 0x00FF`\n",
    "* `0b110101 ^ 0b1100`\n",
    "* `85 ^ 47`\n",
    "\n",
    "# Exercice 11 : année bissextile (sur ordinateur)\n",
    "\n",
    "On donne la fonction `est_bissextile` suivante qui renvoie un booléen égal à `True` si et seulement si l'année (type `int`) passée en paramètre est bissextile. Remarque : une année bissextile n'est pas juste une année divisible par 4, c'est un peu plus compliqué que cela et c'est ce que réalise cette fonction."
   ]
  },
  {
   "cell_type": "code",
   "execution_count": 1,
   "metadata": {},
   "outputs": [],
   "source": [
    "def est_bissextile(annee):\n",
    "    if annee % 4 == 0:\n",
    "            if annee % 100 == 0:\n",
    "                    if annee % 400 == 0:\n",
    "                            return True\n",
    "                    else:\n",
    "                            return False\n",
    "            else:\n",
    "                    return True\n",
    "    else:\n",
    "            return False"
   ]
  },
  {
   "cell_type": "code",
   "execution_count": 12,
   "metadata": {},
   "outputs": [
    {
     "data": {
      "text/plain": [
       "False"
      ]
     },
     "execution_count": 12,
     "metadata": {},
     "output_type": "execute_result"
    }
   ],
   "source": [
    "est_bissextile(2000)"
   ]
  },
  {
   "cell_type": "code",
   "execution_count": 10,
   "metadata": {},
   "outputs": [
    {
     "data": {
      "text/plain": [
       "False"
      ]
     },
     "execution_count": 10,
     "metadata": {},
     "output_type": "execute_result"
    }
   ],
   "source": [
    "est_bissextile(1000)"
   ]
  },
  {
   "cell_type": "markdown",
   "metadata": {},
   "source": [
    "Le code de cette fonction est assez mal écrit : on peut l'écrire de manière beaucoup plus lisible et compacte en utilisant une expression booléenne. Compléter la fonction `est_bissextile_v2` en utilisant une seule expresssion booléenne."
   ]
  },
  {
   "cell_type": "code",
   "execution_count": 9,
   "metadata": {},
   "outputs": [],
   "source": [
    "def est_bissextile_v2(annee):\n",
    "    return ....."
   ]
  }
 ],
 "metadata": {
  "kernelspec": {
   "display_name": "Python 3",
   "language": "python",
   "name": "python3"
  },
  "language_info": {
   "codemirror_mode": {
    "name": "ipython",
    "version": 3
   },
   "file_extension": ".py",
   "mimetype": "text/x-python",
   "name": "python",
   "nbconvert_exporter": "python",
   "pygments_lexer": "ipython3",
   "version": "3.7.2"
  }
 },
 "nbformat": 4,
 "nbformat_minor": 2
}
