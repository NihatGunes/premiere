{
 "cells": [
  {
   "cell_type": "markdown",
   "metadata": {},
   "source": [
    "# Exercice 1\n",
    "\n",
    "Correction effectuée en classe\n",
    "\n",
    "# Exercice 2\n",
    "\n",
    "> * La fonction `int` permet de convertir l'objet passé en paramètre en un objet de type **entier**\n",
    "* La fonction `str` permet de convertir l'objet passé en paramètre en un objet de type **chaîne de caractères**\n",
    "* La fonction `float` permet de convertir l'objet passé en paramètre en un objet de type **nombre réel**  \n",
    "(*Bien sûr quand la conversion demandée n'a pas de sens, une erreur sera générée*)\n",
    "\n",
    "1. Ecrire sur feuille les instructions python permettant de :\n",
    "    * Convertir `'5.3'` en `5.3`\n",
    "    * Convertir `1234` en `'1234'`\n",
    "    * Stocker dans une variable `res` la conversion de `'45'` en `45`\n",
    "    * Convertir `6.7` en `6`\n",
    "\n",
    "2. Vérifier vos réponses à la question précédente en les testant dans le shell de Thonny"
   ]
  },
  {
   "cell_type": "code",
   "execution_count": null,
   "metadata": {},
   "outputs": [],
   "source": [
    "float('5.3')\n",
    "str(1234)\n",
    "res = int('45')\n",
    "int(6.7)"
   ]
  },
  {
   "cell_type": "markdown",
   "metadata": {},
   "source": [
    "# Exercice 3\n",
    "\n",
    "1. Ecrire dans le shell de Thonny les instructions permettant d'obtenir la **documentation** des fonctions `hex` et `bin`"
   ]
  },
  {
   "cell_type": "code",
   "execution_count": 3,
   "metadata": {},
   "outputs": [
    {
     "name": "stdout",
     "output_type": "stream",
     "text": [
      "Help on built-in function bin in module builtins:\n",
      "\n",
      "bin(number, /)\n",
      "    Return the binary representation of an integer.\n",
      "    \n",
      "    >>> bin(2796202)\n",
      "    '0b1010101010101010101010'\n",
      "\n",
      "Help on built-in function hex in module builtins:\n",
      "\n",
      "hex(number, /)\n",
      "    Return the hexadecimal representation of an integer.\n",
      "    \n",
      "    >>> hex(12648430)\n",
      "    '0xc0ffee'\n",
      "\n"
     ]
    }
   ],
   "source": [
    "help(bin)\n",
    "help(hex)"
   ]
  },
  {
   "cell_type": "markdown",
   "metadata": {},
   "source": [
    "2. A l'aide de cette documentation, prédire l'affichage des instructions suivantes tappées dans le shell de Thonny.\n",
    "\n",
    "    * ```python\n",
    "          bin(65)\n",
    "       ```\n",
    "    * ```python\n",
    "          bin(0xA9)\n",
    "       ```\n",
    "    * ```python\n",
    "          hex(30)\n",
    "       ```\n",
    "    * ```python\n",
    "          hex(0b11110000)\n",
    "       ```\n",
    "\n",
    "3. Vérifier vos réponses à la question précédente en les testant dans le shell de Thonny\n",
    "\n",
    "**Vous connaissez maintenant le moyen de vous entraîner autant que nécessaire à faire des conversions entre base 2, 10 et 16 et de vous auto-corriger à l'aide de Thonny**\n",
    "\n",
    "**Réponse :** A tester sur thonny !!\n",
    "\n",
    "\n",
    "# Exercice 4 : la fonction `print`\n",
    "\n",
    "1. Ecrire l'instruction permettant d'obtenir la documentation de la fonction `print`"
   ]
  },
  {
   "cell_type": "code",
   "execution_count": 4,
   "metadata": {},
   "outputs": [
    {
     "name": "stdout",
     "output_type": "stream",
     "text": [
      "Help on built-in function print in module builtins:\n",
      "\n",
      "print(...)\n",
      "    print(value, ..., sep=' ', end='\\n', file=sys.stdout, flush=False)\n",
      "    \n",
      "    Prints the values to a stream, or to sys.stdout by default.\n",
      "    Optional keyword arguments:\n",
      "    file:  a file-like object (stream); defaults to the current sys.stdout.\n",
      "    sep:   string inserted between values, default a space.\n",
      "    end:   string appended after the last value, default a newline.\n",
      "    flush: whether to forcibly flush the stream.\n",
      "\n"
     ]
    }
   ],
   "source": [
    "help(print)"
   ]
  },
  {
   "cell_type": "markdown",
   "metadata": {},
   "source": [
    "2. Exécutez les instructions suivantes puis observez l'affichage obtenu."
   ]
  },
  {
   "cell_type": "code",
   "execution_count": 5,
   "metadata": {},
   "outputs": [
    {
     "name": "stdout",
     "output_type": "stream",
     "text": [
      "nom Alice\n",
      "note 16\n",
      "nom Alice note 16\n"
     ]
    }
   ],
   "source": [
    "nom = 'Alice'\n",
    "note = 16\n",
    "print('nom', nom)\n",
    "print('note', note)\n",
    "print('nom', nom, 'note', note)"
   ]
  },
  {
   "cell_type": "markdown",
   "metadata": {},
   "source": [
    "3. En une courte phrase, expliquer la différence entre mettre des guillemets ou pas dans la fonction `print`\n",
    "\n",
    "**Reponse :**\n",
    "* paramètre avec guillemets : on affiche un **objet** de type chaine de caractères. (on obtient donc l'affichage 'tel quel')\n",
    "* paramètre sans guillemets : on affiche le contenu d'une variable\n",
    "\n",
    "\n",
    "4. En utilisant les 2 variables `nom` et `note`, écrire l'instruction python permettant d'obtenir l'affichage suivant : `Alice a obtenu 16 à son devoir`  \n",
    "Bien sûr il ne s'agit pas d'écrire `print('Alice a obtenu 16 à son devoir')` !!  "
   ]
  },
  {
   "cell_type": "code",
   "execution_count": 6,
   "metadata": {},
   "outputs": [
    {
     "name": "stdout",
     "output_type": "stream",
     "text": [
      "Alice a obtenu 16 à son devoir\n"
     ]
    }
   ],
   "source": [
    "print(nom,'a obtenu',note,'à son devoir')"
   ]
  },
  {
   "cell_type": "markdown",
   "metadata": {},
   "source": [
    "5. Combien de paramètres a pris la fonction `print` ? Par quoi la fonction `print` sépare-t'elle l'affichage des paramètres lorsqu'il y en a plusieurs ? Où est-ce écrit dans la documentation ?\n",
    "\n",
    "> **Lorsque vous utiliserez la fonction `print`, garder en tête qu'il faudra bien faire attention aux guillemets**"
   ]
  },
  {
   "cell_type": "markdown",
   "metadata": {},
   "source": [
    "**Reponse :** 4 paramètres  \n",
    "`print` sépare chaque affichage par un espace. Cela correspond au paramètre `sep` dans la documentation (dont la valeur par défaut est le caractère espace)\n",
    "\n"
   ]
  }
 ],
 "metadata": {
  "kernelspec": {
   "display_name": "Python 3",
   "language": "python",
   "name": "python3"
  },
  "language_info": {
   "codemirror_mode": {
    "name": "ipython",
    "version": 3
   },
   "file_extension": ".py",
   "mimetype": "text/x-python",
   "name": "python",
   "nbconvert_exporter": "python",
   "pygments_lexer": "ipython3",
   "version": "3.7.2"
  }
 },
 "nbformat": 4,
 "nbformat_minor": 4
}
