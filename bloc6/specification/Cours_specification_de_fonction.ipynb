{
 "cells": [
  {
   "cell_type": "markdown",
   "metadata": {},
   "source": [
    "# Mon programme fonctionne t-il ? (1er cours)\n",
    "\n",
    "C'est une question très importante :la preuve !!\n",
    "\n",
    "Le vol 501 d'Ariane 5 : le bug le plus cher de l'histoire de l'informatique...\n",
    "![vol501](img/vol501.gif)\n",
    "_Source : https://www.supinfo.com_\n",
    "\n",
    "Une vidéo plus nette du crash est disponible [ici](https://www.youtube.com/watch?v=PK_yguLapgA&t=108s)\n",
    "\n",
    "## Constats\n",
    "\n",
    "#### Constat 0 : Pour savoir si son programme fonctionne, un élève demande à son professeur...\n",
    "\n",
    "$\\Longrightarrow$ Ceci n'a pas de sens : dans la \"vraie vie\" des informaticiens, aucun professeur omniscient ne va valider votre programme et encore moins le corriger \n",
    "\n",
    "**Exemple 1:**\n",
    "\n",
    "programme de calcul accélération moyenne\n",
    "\n",
    "#### Constat 1 : Un programme qui plante est moins grave qu'un programme qui vous donne un mauvais résultat...\n",
    "\n",
    "Oui et cela contrairement à vos réflexes d'élèves... Pourquoi ?\n",
    "\n",
    "En **phase de développement** :\n",
    "\n",
    "* Une fonction qui plante, on sait qu'elle ne fonctionne pas ! \n",
    "* Alors qu'une fonction qui renvoie un résultat faux (surtout quand c'est seulement de temps en temps), cela peut passer inaperçu et entraîner des conséquences fâcheuses dans la suite du programme...\n",
    "\n",
    "\n",
    "**Exemple 2:**\n",
    "\n",
    "indice du minimum d'une liste\n",
    "\n",
    "#### Constat 2 : Dans certaine situation, il est nécessaire que le programme plante...\n",
    "\n",
    "\n",
    "#### Constat 3 : L'utilisateur d'un module ou d'une fonction n'est pas la même personne que celui qui en a écrit le code\n",
    "\n",
    "_Comment ces 2 personnes peuvent-elles se faire confiance ?_\n",
    "\n",
    "\n",
    "## La programmation par contrat"
   ]
  },
  {
   "cell_type": "code",
   "execution_count": 8,
   "metadata": {},
   "outputs": [
    {
     "data": {
      "text/plain": [
       "254"
      ]
     },
     "execution_count": 8,
     "metadata": {},
     "output_type": "execute_result"
    }
   ],
   "source": [
    "def poussee501(a,b):\n",
    "    pass\n",
    "\n",
    "(-5+3) & 255"
   ]
  },
  {
   "cell_type": "markdown",
   "metadata": {},
   "source": [
    "* Toute fonction définie doit être documentée !! On utilise des **docstring** délimitées par des `\"\"\"`\n",
    "* Ecrire la documentation AVANT d'écrire le code source de la fonction (cela aide à l'écriture du code source)\n",
    "\n",
    "Modèle (à compléter) de documentation à écrire directement SOUS l'instruction `def` : "
   ]
  },
  {
   "cell_type": "code",
   "execution_count": null,
   "metadata": {},
   "outputs": [],
   "source": [
    "def nom_de_la_fonction(parametre1,parametre2):\n",
    "    \"\"\"\n",
    "    Description de la fonction : \n",
    "    parametre parametre1 (type) : \n",
    "    parametre parametre2 (type) :\n",
    "    Préconditions sur les paramètres :\n",
    "    return (type) :\n",
    "    Postcondition sur le résultat : \n",
    "    Effet de bord : \n",
    "    \"\"\"\n",
    "    pass"
   ]
  },
  {
   "cell_type": "markdown",
   "metadata": {},
   "source": [
    "Une fonction peut être vue comme un [contrat](https://fr.wikipedia.org/wiki/Programmation_par_contrat) passé entre le concepteur de la fonction et ses utilisateurs :  \n",
    "**SI** l'utilisateur répond aux préconditions sur les arguments passés à la fonction lors de son appel  \n",
    "**ALORS** le concepteur garantit les postconditions sur le résultat\n",
    "\n",
    "Exemple : Voir documentation de la fonction `est_majeur()` dans le cours Appel de fonction"
   ]
  },
  {
   "cell_type": "code",
   "execution_count": null,
   "metadata": {},
   "outputs": [],
   "source": [
    "def est_majeur(jour,mois,annee):\n",
    "    \"\"\"\n",
    "    Description de la fonction : Détermine si l'individu dont la date de naissance est passée en paramètre est majeur\n",
    "    parametre : jour (int)\n",
    "    parametre : mois (int)\n",
    "    parametre : annee (int)\n",
    "    Préconditions sur les paramètres : 1<=jour<=31     1<=mois<=12      1<=annee<=9999\n",
    "    return (bool)\n",
    "    Postcondition sur le résultat : True si l'individu a plus de 18 ans\n",
    "    Effet de bord : Aucun\n",
    "    \"\"\"\n",
    "    import datetime\n",
    "    return datetime.date.today() - datetime.date(annee,mois,jour) >= datetime.timedelta(days=18*365)"
   ]
  },
  {
   "cell_type": "code",
   "execution_count": null,
   "metadata": {},
   "outputs": [],
   "source": [
    "help(est_majeur) # la fonction help() affiche la documentation écrite par le concepteur sous forme de docstring"
   ]
  }
 ],
 "metadata": {
  "kernelspec": {
   "display_name": "Python 3",
   "language": "python",
   "name": "python3"
  },
  "language_info": {
   "codemirror_mode": {
    "name": "ipython",
    "version": 3
   },
   "file_extension": ".py",
   "mimetype": "text/x-python",
   "name": "python",
   "nbconvert_exporter": "python",
   "pygments_lexer": "ipython3",
   "version": "3.7.2"
  }
 },
 "nbformat": 4,
 "nbformat_minor": 4
}
