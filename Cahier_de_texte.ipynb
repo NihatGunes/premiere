{
 "cells": [
  {
   "cell_type": "markdown",
   "metadata": {},
   "source": [
    "# Séance 1 : ... septembre 2020 de ...h à ...h\n",
    "## Activité en classe :\n",
    "* Rentrée :\n",
    "\t* (1) Création d'un _repository_ privé sur **github**\n",
    "* bloc6 :\n",
    "\t* (2) Cours Introduction au langage python\n",
    "    * (3) Cours Découverte de Python\n",
    "    * (4) TD Le shell de python\n",
    "    * (5) Cours Variable et types simples en python\n",
    "    * (6) TD les bases de python\n",
    "* bloc1 :\n",
    "\t* (7) Cours Introduction à la représentation des données\n",
    "\n",
    "## Pour la prochaine séance :\n",
    "(*Evidemment commencer le travail la veille au soir, c'est trop tard !! Car alors le dernier cours sera évidemment un lointain souvenir et vous allez trouver cela trop long. Il faut découper ce travail sur toute la semaine !!*)\n",
    "  * Lire les 7 fichiers disponibles dans informations_diverses. Ceux qui ne le font pas risquent de désagréables surprises la semaine prochaine.\n",
    "  * Installer THONNY à la maison\n",
    "  * Revoir/refaire les activités de la séance 1\n",
    "  * Terminer le TD les bases de python\n",
    "  * *Dispositif \"classe inversée\"* : lire"
   ]
  }
 ],
 "metadata": {
  "kernelspec": {
   "display_name": "Python 3",
   "language": "python",
   "name": "python3"
  },
  "language_info": {
   "codemirror_mode": {
    "name": "ipython",
    "version": 3
   },
   "file_extension": ".py",
   "mimetype": "text/x-python",
   "name": "python",
   "nbconvert_exporter": "python",
   "pygments_lexer": "ipython3",
   "version": "3.7.2"
  }
 },
 "nbformat": 4,
 "nbformat_minor": 4
}
