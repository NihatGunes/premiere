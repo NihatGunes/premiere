{
 "cells": [
  {
   "cell_type": "markdown",
   "metadata": {},
   "source": [
    "# Compréhension de listes\n",
    "\n",
    "La construction par compréhension est un autre procédé **utile** de construction d'une liste. Imaginons que l'on souhaite la liste des carrés..."
   ]
  },
  {
   "cell_type": "code",
   "execution_count": 2,
   "metadata": {},
   "outputs": [
    {
     "name": "stdout",
     "output_type": "stream",
     "text": [
      "[0, 1, 4, 9, 16, 25, 36, 49, 64, 81]\n"
     ]
    }
   ],
   "source": [
    "# Méthode \"classique\" utilisant une boucle for\n",
    "liste =[]\n",
    "for i in range(10):\n",
    "    liste.append(i**2)\n",
    "\n",
    "print(liste)"
   ]
  },
  {
   "cell_type": "code",
   "execution_count": 3,
   "metadata": {},
   "outputs": [
    {
     "name": "stdout",
     "output_type": "stream",
     "text": [
      "[0, 1, 4, 9, 16, 25, 36, 49, 64, 81]\n"
     ]
    }
   ],
   "source": [
    "# Méthode par compréhension de liste : beaucoup plus court ! ... et plus lisible (la plupart du temps)\n",
    "liste2 = [i**2 for i in range(10)]\n",
    "print(liste2)"
   ]
  },
  {
   "cell_type": "markdown",
   "metadata": {},
   "source": [
    "L'avantage des compréhensions de liste, c'est que le code ressemble à du langage humain parlé (en anglais)\n",
    "`[i**2 for i in range(10)]` se lit \"la liste des i² pour i compris entre 0 et 9\""
   ]
  },
  {
   "cell_type": "markdown",
   "metadata": {},
   "source": [
    "Imaginons maintenant que l'on souhaite la liste des carrés des nombres pairs..."
   ]
  },
  {
   "cell_type": "code",
   "execution_count": 4,
   "metadata": {},
   "outputs": [
    {
     "name": "stdout",
     "output_type": "stream",
     "text": [
      "[0, 4, 16, 36, 64]\n"
     ]
    }
   ],
   "source": [
    "# Méthode \"classique\"\n",
    "for i in range(10):\n",
    "    if i % 2 == 0 :\n",
    "        liste.append(i**2)\n",
    "\n",
    "print(liste)"
   ]
  },
  {
   "cell_type": "code",
   "execution_count": 5,
   "metadata": {},
   "outputs": [
    {
     "name": "stdout",
     "output_type": "stream",
     "text": [
      "[0, 4, 16, 36, 64]\n"
     ]
    }
   ],
   "source": [
    "# Méthode par compréhension de liste : beaucoup plus court ! ... et plus lisible (selon les points de vue)\n",
    "liste2 = [i**2 for i in range(10) if i % 2 == 0]\n",
    "print(liste2)"
   ]
  },
  {
   "cell_type": "markdown",
   "metadata": {},
   "source": [
    "Encore une fois, cette construction ressemble à du langage parlé \n",
    "`[i**2 for i in range(10) if i % 2 == 0]` se lit \"la liste des i² pour i compris entre 0 et 9 si i est pair\" "
   ]
  },
  {
   "cell_type": "markdown",
   "metadata": {},
   "source": [
    "**Retenir** : syntaxe d'une compréhension de liste"
   ]
  },
  {
   "cell_type": "code",
   "execution_count": null,
   "metadata": {},
   "outputs": [],
   "source": [
    "[expression(i) for i in objet]"
   ]
  },
  {
   "cell_type": "markdown",
   "metadata": {},
   "source": [
    "avec :\n",
    "* expression(i) : une expression dépendant de i\n",
    "* objet : objet sur lequel on peut itérer (parcourir par une boucle for)\n"
   ]
  }
 ],
 "metadata": {
  "kernelspec": {
   "display_name": "Python 3",
   "language": "python",
   "name": "python3"
  },
  "language_info": {
   "codemirror_mode": {
    "name": "ipython",
    "version": 3
   },
   "file_extension": ".py",
   "mimetype": "text/x-python",
   "name": "python",
   "nbconvert_exporter": "python",
   "pygments_lexer": "ipython3",
   "version": "3.7.2"
  }
 },
 "nbformat": 4,
 "nbformat_minor": 2
}
