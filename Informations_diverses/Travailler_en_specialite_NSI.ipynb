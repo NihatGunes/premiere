{
 "cells": [
  {
   "cell_type": "markdown",
   "metadata": {},
   "source": [
    "# Qualité et quantité de travail à fournir en NSI\n",
    "\n",
    "> L'expérience de l'année dernière montre qu'un élève qui ne travaille pas chez lui en NSI est **très vite décroché, parfois définitivement et parfois dès les premières semaines**. Souvent un mauvais choix de spécialité en est à l'origine.  \n",
    "Bien souvent le mot \"Travail\" pour un élève et \"Travail\" pour un professeur ne veut pas dire la même chose. Se contenter de lire son cours est largement insuffisant : C'est du \"Travail\" pour certains élèves mais certainement pas pour moi.\n",
    "\n",
    "* Une attention toute particulière doit être portée sur le **langage python**. Il faut **pratiquer pratiquer pratiquer et encore pratiquer** pour progresser. Cela signifie : écrire du code, le tester, bidouiller, debugger.\n",
    "\n",
    "\n",
    "* Le premier trimestre sera **fondamental** pour la suite. Car on y aborde les bases qui seront utilisées sans arrêt durant le reste de l'année de première et aussi en terminale. Les cours **ne sont pas** indépendants les uns des autres !\n",
    "\n",
    "\n",
    "* Lire le cours et se dire _\"j'ai compris !\"_ est trompeur et c'est largement insuffisant. Ne vous faîtes pas avoir ! Un bon test pour savoir si on a vraiment compris c'est de refaire un exercice ou un TP une semaine ou 2 après sans aide et sans regarder la correction...\n",
    "\n",
    "\n",
    "* La quantité de travail à fournir varie d'un élève à l'autre. C'est injuste mais c'est la vie ! Ainsi je ne peux pas vous donner un nombre d'heures de travail à fournir recommandé par semaine. D'autant plus que la qualité prime sur la quantité. Ce qui est sûr, c'est que vous devrez travailler (beaucoup) plus qu'en seconde !\n",
    "\n",
    "\n",
    "* Le programme est **trèèèèèèèèès dense** et il ne peut être correctement digéré que si du travail **personnel et régulier** est fourni durant la semaine. Ainsi le **travail à faire à la maison** chaque semaine, noté dans le cahier de texte, est **fondamental**. Vous n'avez qu'une seule séance par semaine, et une semaine sans faire de NSI sans pratiquer à la maison est catastrophique : le cerveau oublie vite.... Il faut le faire petit à petit plutôt que de le faire _\"à la râche\"_ pour le lendemain.\n",
    "\n",
    "\n",
    "* En cas d'absence, justifiée ou non (cela n'est pas le problème), vous devez rattraper votre retard **AVANT** de revenir en classe. Rattraper son retard ne consiste pas à se contenter de lire le cours...\n",
    "\n",
    "\n",
    "* Même si les cours sont disponibles sur **github**, toutes les explications n'y figurent pas. Commencez à devenir des étudiants : prenez l'initiative de prendre des notes en classe."
   ]
  }
 ],
 "metadata": {
  "kernelspec": {
   "display_name": "Python 3",
   "language": "python",
   "name": "python3"
  },
  "language_info": {
   "codemirror_mode": {
    "name": "ipython",
    "version": 3
   },
   "file_extension": ".py",
   "mimetype": "text/x-python",
   "name": "python",
   "nbconvert_exporter": "python",
   "pygments_lexer": "ipython3",
   "version": "3.7.2"
  }
 },
 "nbformat": 4,
 "nbformat_minor": 4
}
