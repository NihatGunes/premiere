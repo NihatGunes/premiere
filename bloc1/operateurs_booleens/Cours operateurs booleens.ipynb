{
 "cells": [
  {
   "cell_type": "markdown",
   "metadata": {},
   "source": [
    "# Un peu d'électronique : considération Hardware\n",
    "\n",
    "* Lorsqu'un ordinateur fonctionne et exécute des programmes, ses circuits (notamment le [processeur](https://fr.wikipedia.org/wiki/Processeur),) manipulent uniquement des valeurs booléeennes True, False (encore notées 0 ou 1)\n",
    "* En fait 0 et 1 sont des représentations symboliques de niveau de tension :\n",
    "\t* Le chiffre 0 (ou False) est représenté une tension nulle (0 volt)\n",
    "\t* Le chiffre 1 (ou True) est représenté une tension positive (par exemple 5 volt)\n",
    "\t\n",
    "* Pour manipuler ces 0 et 1, le processeur utilise des composants électroniques : les [transistors](https://fr.wikipedia.org/wiki/Transistor).\n",
    "\n",
    "<img src=\"img/processeur.jpeg\" width=\"30%\"/> *Vue interne d'un processeur (Source : wikipedia)*\n",
    "\n",
    "* On peut voir le processeur comme un lego possédant plusieurs milliards de pièces :\n",
    "\t* La pièce de base : Les transitors\n",
    "\t* Les portes logiques (ou opérateurs logiques) réalisées en associant quelques transistors à quelques dizaines de transistors\n",
    "\t\t* porte NON\n",
    "\t\t* porte ET\n",
    "\t\t* porte OU \n",
    "\t\t* etc... (voir suite du cours)\n",
    "\t* Les circuits plus complexes réalisés en associant quelques portes logiques à quelques milliers de portes logiques\n",
    "\t\t* Circuits combinatoires : additionneur, comparateur, décalage de bits\n",
    "\t\t* Circuits séquentiels : registre à décalage, transfert vers/depuis la mémoire ....\n",
    "\t* Enfin les unités composant le processeur réalisées en associant ces circuits plus complexes\n",
    "\t\t* Unité Arithmétique et Logique\n",
    "\t\t* Unité de contrôle\n",
    "\t\t* etc .... (voir cours sur l'architecture des ordinateurs)\n",
    "\n",
    "# Les portes logiques\n",
    "Les portes logiques sont des circuits électroniques permettant de réaliser des fonctions binaires élémentaires. Ces fonctions prennent 1 ou plusieurs bits en entrée et produisent 1 bit en sortie dont l'état (0 ou 1) ne dépend que de l'état des entrées (les fonctions sont dites combinatoires)\n",
    "\n",
    "![porte logique](img/porte_logique.gif)\n",
    "*(Source : http://mpsmathsphysique.canalblog.com)*\n",
    "\n",
    "## Apprendre son cours intelligemment\n",
    "* Connaître par coeur le nom des opérateurs logiques : NON (encore appelé inverseur), ET, OU, NON-ET, NON-OU, OU-Exclusif (NOT, AND, OR, NAND, NOR, XOR)\n",
    "* Connaître par coeur le symbole graphique des opérateurs logiques\n",
    "* Savoir ce qu'est une table de vérité et comment on la représente\n",
    "* Surtout, ne pas apprendre par coeur les tables de vérités !!!\n",
    "* **Savoir retrouver rapidement la table de vérité des opérateurs logiques A PARTIR DE LEUR NOM !**\n",
    "\n",
    "## Table de vérité\n",
    "* Tableau représentant les différents états (0 ou 1) de la sortie en fonction des différents états des entrées de la porte logique\n",
    "* Chaque ligne représente une combinaisons d'états des entrées unique\n",
    "* Toutes les combinaisons possible d'états des entrées doivent apparaître : il y en a $2^{nb\\; d'entrées}$ (voir cours sur la représentation binaire des entiers)\n",
    "* Les lignes doivent être classées dans l'ordre croissant\n",
    "\n",
    "## Savoir retrouver la table de vérité d'une porte logique...\n",
    "\n",
    "### Exemple 1\n",
    "\n",
    "![ET à 3 entrées](img/ET_3entrees.png)\n",
    "\n",
    "1. Symbole & : porte ET\n",
    "2. 3 entrées : porte logique ET à 3 entrées\n",
    "3. La table de vérité comporte $(2^{3} = 8)$ lignes\n",
    "4. On remplit les lignes (pour les entrées uniquement) et dans l'ordre sans oublier de lignes et en s'assurant que toutes les lignes sont différentes\n",
    "5. Il s'agit d'une porte ET. Ce nom **ET** veut dire : la sortie vaut 1 uniquement si l'entrée A vaut 1 **ET** l'entrée B vaut 1 **ET** l'entrée C vaut 1\n",
    "\n",
    "### Exemple 2\n",
    "\n",
    "![NOR](img/NOR.png)\n",
    "\n",
    "1. Le symbole correspond à celui d'une porte OU-NON (NOR) à 2 entrées\n",
    "2. La table de vérité comporte $(2^{2} = 4)$ lignes\n",
    "3. On remplit les lignes (pour les entrées uniquement) et dans l'ordre sans oublier de lignes et en s'assurant que toutes les lignes sont différentes\n",
    "4. Il s'agit d'une porte OU-NON. On va d'abord faire comme si c'était une porte OU\n",
    "\t* Ce nom **OU** veut dire : la sortie vaut 1 uniquement si l'entrée A vaut 1 **OU** l'entrée B vaut 1 **OU** l'entrée C vaut 1.\n",
    "\t* Attention, il s'agit d'un \"OU large\" et pas d'un \"OU exclusif\"\n",
    "5. Pour avoir la sortie correspondant à une porte OU-NON, il suffit de permuter les 0 et 1 dans la colonne de sortie\n",
    "\n",
    "# Les expressions booléennes\n",
    "\n",
    "* On peut associer à chaque porte logique une expression mathématique correspondante.\n",
    "\n",
    "* On utilise des symboles mathématiques dans les expressions booléennes\n",
    "\n",
    "|opérateur|notation|autre notation|autre notation|\n",
    "|:------------:|:------------:|:------------------:|:------------------:|\n",
    "|NON a|$\\bar a$|$\\lnot a$|NOT a|\n",
    "| a ET b| $a . b$| $a \\land b$| a AND b|\n",
    "| a OU b| $a + b$| $a \\lor b$|a OR b|\n",
    "| a OUexclusif b | $a \\oplus  b$|a XOR b|\n",
    "\n",
    "Exemple :\n",
    "* $\\text{S = A and (B or not(C))}$ est une expression booléenne utilisant le premier système de notation.\n",
    "* La même expression booléeene avec le deuxième système de notation $S = A . (B + \\bar C)$\n",
    "\n",
    "Le ET est prioritaire sur le OU (comme en mathématiques, la multiplication est prioritaire sur l'addition). La première notation est plus intuitive à manipuler\n",
    "\n",
    "En associant plusieurs portes logiques, on peut construire des expressions booléennes plus complexes (voir TD)...\n",
    "\n",
    "## Opérateur booléen en python\n",
    "\n",
    "|opérateur|syntaxe python|\n",
    "|:-------------:|:--------------------:|\n",
    "|opérateur ET| a `and` b|\n",
    "|opérateur OU| a `or` b|\n",
    "|opérateur NON| `not` a|\n",
    "|opérateur ET-NON| `not` (a `and` b)|\n",
    "|opérateur OU-NON| `not` ( a `or` b)|\n",
    "\n",
    "**Remarque : depuis le début du cours, a et b sont de type booléen et pas entier**\n",
    "\n",
    "* Expression qui a du sens : `True and False`\n",
    "* Expression qui n'a pas de sens : ` 1 and 0` (expression pourtant évaluée par python mais qui ne correspond pas à ce que l'on imagine... voir [doc](https://docs.python.org/fr/3/reference/expressions.html#boolean-operations))\n",
    "\n",
    "## Utilisation des expressions booléennes en python...\n",
    "\n",
    "* ...directement"
   ]
  },
  {
   "cell_type": "code",
   "execution_count": 1,
   "metadata": {},
   "outputs": [],
   "source": [
    "def multiple_de_2_ou_3(nb):\n",
    "    return ((nb % 2 == 0) or (nb % 3 == 0))"
   ]
  },
  {
   "cell_type": "code",
   "execution_count": 2,
   "metadata": {},
   "outputs": [
    {
     "data": {
      "text/plain": [
       "True"
      ]
     },
     "execution_count": 2,
     "metadata": {},
     "output_type": "execute_result"
    }
   ],
   "source": [
    "multiple_de_2_ou_3(8)"
   ]
  },
  {
   "cell_type": "code",
   "execution_count": 3,
   "metadata": {
    "code_folding": []
   },
   "outputs": [],
   "source": [
    "def EtudeIngenieurPossible(spe_terminale):\n",
    "    \"\"\"\n",
    "    Description de la fonction : détermine si oui ou non, il est possible de faire des études d'ingénieur \n",
    "    avec les spécialités choisies en terminales\n",
    "    paramètre spe_terminale (list): liste de spécialité choisies en terminale (chaîne de caractères)\n",
    "    return (bool) :\n",
    "    \"\"\"\n",
    "    return (('math' in spe_terminale) and (('nsi' in spe_terminale) or ('physique' in spe_terminale)))"
   ]
  },
  {
   "cell_type": "code",
   "execution_count": null,
   "metadata": {},
   "outputs": [],
   "source": [
    "help(EtudeIngenieurPossible)"
   ]
  },
  {
   "cell_type": "code",
   "execution_count": 4,
   "metadata": {},
   "outputs": [
    {
     "data": {
      "text/plain": [
       "True"
      ]
     },
     "execution_count": 4,
     "metadata": {},
     "output_type": "execute_result"
    }
   ],
   "source": [
    "choix = ['math', 'physique']\n",
    "EtudeIngenieurPossible(choix)"
   ]
  },
  {
   "cell_type": "markdown",
   "metadata": {},
   "source": [
    "* ...comme condition dans un test (`if`) ou une boucle (`while`)"
   ]
  },
  {
   "cell_type": "code",
   "execution_count": 5,
   "metadata": {},
   "outputs": [],
   "source": [
    "def oral_rattrapage(note_bac):\n",
    "    if (note_bac >= 8) and (note_bac < 10):\n",
    "        print(\"Vous allez à l'oral de rattrapage\")\n",
    "    else :\n",
    "        print(\"Vous êtes en vacances\")\n",
    "    \n",
    "        "
   ]
  },
  {
   "cell_type": "code",
   "execution_count": 6,
   "metadata": {},
   "outputs": [
    {
     "name": "stdout",
     "output_type": "stream",
     "text": [
      "Vous êtes en vacances\n"
     ]
    }
   ],
   "source": [
    "oral_rattrapage(7.2)"
   ]
  },
  {
   "cell_type": "code",
   "execution_count": 7,
   "metadata": {
    "code_folding": []
   },
   "outputs": [],
   "source": [
    "# On utilise la fonction définie dans le TP précédent\n",
    "def verifier_numero_securite_sociale(numero_secu):\n",
    "    \"\"\"\n",
    "    Description de la fonction : Vérifie la validité du numéro de sécurité sociale en examinant si il y a correspondance\n",
    "                                entre la clé et le numéro de sécurité sociale\n",
    "    parametre : numero_secu (int)\n",
    "    Préconditions sur les paramètres : numero_secu doit être un nombre de 15 chiffres\n",
    "    return (bool)\n",
    "    Postcondition sur le résultat : True si le numéro de sécurité sociale est valide\n",
    "    Effet de bord : Aucun\n",
    "    \"\"\"\n",
    "    from securiteSociale import retirer_cle, extraire_cle\n",
    "    cle = extraire_cle(numero_secu)\n",
    "    numero_sans_cle = retirer_cle(numero_secu)\n",
    "    return cle == (97 - (numero_sans_cle % 97))"
   ]
  },
  {
   "cell_type": "code",
   "execution_count": null,
   "metadata": {},
   "outputs": [],
   "source": [
    "help(verifier_numero_securite_sociale)"
   ]
  },
  {
   "cell_type": "code",
   "execution_count": 8,
   "metadata": {},
   "outputs": [
    {
     "name": "stdout",
     "output_type": "stream",
     "text": [
      "Entrez votre numéro de sécurité sociale\n",
      "269054958815781\n",
      "Entrez votre numéro de sécurité sociale\n",
      "269054958815782\n",
      "Entrez votre numéro de sécurité sociale\n",
      "269054958815780\n",
      "merci!\n"
     ]
    }
   ],
   "source": [
    "# 269054958815780 est un numéro valide\n",
    "numero_secu = 269054958815781\n",
    "while not(verifier_numero_securite_sociale(numero_secu)):\n",
    "    numero_secu = int(input(\"Entrez votre numéro de sécurité sociale\\n\"))\n",
    "print (\"merci!\")"
   ]
  },
  {
   "cell_type": "markdown",
   "metadata": {},
   "source": [
    "### Séquentialité des opérateurs"
   ]
  },
  {
   "cell_type": "code",
   "execution_count": 9,
   "metadata": {},
   "outputs": [],
   "source": [
    "def commence_par_1(liste) :\n",
    "    \"\"\"\n",
    "    Description de la fonction : Détermine si la liste commence par l'entier 1\n",
    "    parametre : liste (list)\n",
    "    Préconditions sur les paramètres : Néant\n",
    "    return (bool)\n",
    "    Postcondition sur le résultat : True si et seulement si la liste commence par 1\n",
    "    Effet de bord : Aucun\n",
    "    \"\"\"    \n",
    "    return (liste[0] == 1)"
   ]
  },
  {
   "cell_type": "code",
   "execution_count": 10,
   "metadata": {},
   "outputs": [
    {
     "data": {
      "text/plain": [
       "True"
      ]
     },
     "execution_count": 10,
     "metadata": {},
     "output_type": "execute_result"
    }
   ],
   "source": [
    "# ça marche....\n",
    "ma_liste = [1,2,3]\n",
    "commence_par_1(ma_liste)"
   ]
  },
  {
   "cell_type": "code",
   "execution_count": 11,
   "metadata": {},
   "outputs": [
    {
     "data": {
      "text/plain": [
       "False"
      ]
     },
     "execution_count": 11,
     "metadata": {},
     "output_type": "execute_result"
    }
   ],
   "source": [
    "# ça marche....\n",
    "ma_liste = [2,3,4]\n",
    "commence_par_1(ma_liste)"
   ]
  },
  {
   "cell_type": "code",
   "execution_count": 12,
   "metadata": {},
   "outputs": [
    {
     "ename": "IndexError",
     "evalue": "list index out of range",
     "output_type": "error",
     "traceback": [
      "\u001b[0;31m---------------------------------------------------------------------------\u001b[0m",
      "\u001b[0;31mIndexError\u001b[0m                                Traceback (most recent call last)",
      "\u001b[0;32m<ipython-input-12-cc9784c11ad0>\u001b[0m in \u001b[0;36m<module>\u001b[0;34m\u001b[0m\n\u001b[1;32m      1\u001b[0m \u001b[0;31m# ça ne marche plus....\u001b[0m\u001b[0;34m\u001b[0m\u001b[0;34m\u001b[0m\u001b[0;34m\u001b[0m\u001b[0m\n\u001b[1;32m      2\u001b[0m \u001b[0mma_liste\u001b[0m \u001b[0;34m=\u001b[0m \u001b[0;34m[\u001b[0m\u001b[0;34m]\u001b[0m\u001b[0;34m\u001b[0m\u001b[0;34m\u001b[0m\u001b[0m\n\u001b[0;32m----> 3\u001b[0;31m \u001b[0mcommence_par_1\u001b[0m\u001b[0;34m(\u001b[0m\u001b[0mma_liste\u001b[0m\u001b[0;34m)\u001b[0m\u001b[0;34m\u001b[0m\u001b[0;34m\u001b[0m\u001b[0m\n\u001b[0m",
      "\u001b[0;32m<ipython-input-9-cda8ff5804c1>\u001b[0m in \u001b[0;36mcommence_par_1\u001b[0;34m(liste)\u001b[0m\n\u001b[1;32m      8\u001b[0m     \u001b[0mEffet\u001b[0m \u001b[0mde\u001b[0m \u001b[0mbord\u001b[0m \u001b[0;34m:\u001b[0m \u001b[0mAucun\u001b[0m\u001b[0;34m\u001b[0m\u001b[0;34m\u001b[0m\u001b[0m\n\u001b[1;32m      9\u001b[0m     \"\"\"    \n\u001b[0;32m---> 10\u001b[0;31m     \u001b[0;32mreturn\u001b[0m \u001b[0;34m(\u001b[0m\u001b[0mliste\u001b[0m\u001b[0;34m[\u001b[0m\u001b[0;36m0\u001b[0m\u001b[0;34m]\u001b[0m \u001b[0;34m==\u001b[0m \u001b[0;36m1\u001b[0m\u001b[0;34m)\u001b[0m\u001b[0;34m\u001b[0m\u001b[0;34m\u001b[0m\u001b[0m\n\u001b[0m",
      "\u001b[0;31mIndexError\u001b[0m: list index out of range"
     ]
    }
   ],
   "source": [
    "# ça ne marche plus....\n",
    "ma_liste = []\n",
    "commence_par_1(ma_liste)"
   ]
  },
  {
   "cell_type": "code",
   "execution_count": 13,
   "metadata": {},
   "outputs": [],
   "source": [
    "# On corrige le bug : il suffit de s'assurer que la liste n'est pas vide !\n",
    "def commence_par_1(liste) :\n",
    "    \"\"\"\n",
    "    Description de la fonction : Détermine si la liste commence par l'entier 1\n",
    "    parametre : liste (list)\n",
    "    Préconditions sur les paramètres : Néant\n",
    "    return (bool)\n",
    "    Postcondition sur le résultat : True si et seulement si la liste commence par 1\n",
    "    Effet de bord : Aucun\n",
    "    \"\"\"    \n",
    "    return (liste[0] == 1 and liste !=[])"
   ]
  },
  {
   "cell_type": "code",
   "execution_count": 14,
   "metadata": {},
   "outputs": [
    {
     "ename": "IndexError",
     "evalue": "list index out of range",
     "output_type": "error",
     "traceback": [
      "\u001b[0;31m---------------------------------------------------------------------------\u001b[0m",
      "\u001b[0;31mIndexError\u001b[0m                                Traceback (most recent call last)",
      "\u001b[0;32m<ipython-input-14-4d3dcefde66c>\u001b[0m in \u001b[0;36m<module>\u001b[0;34m\u001b[0m\n\u001b[1;32m      1\u001b[0m \u001b[0;31m# Mais ça ne marche toujours pas, le bug est toujours là.... Que se passe-t'il ?\u001b[0m\u001b[0;34m\u001b[0m\u001b[0;34m\u001b[0m\u001b[0;34m\u001b[0m\u001b[0m\n\u001b[1;32m      2\u001b[0m \u001b[0mma_liste\u001b[0m \u001b[0;34m=\u001b[0m \u001b[0;34m[\u001b[0m\u001b[0;34m]\u001b[0m\u001b[0;34m\u001b[0m\u001b[0;34m\u001b[0m\u001b[0m\n\u001b[0;32m----> 3\u001b[0;31m \u001b[0mcommence_par_1\u001b[0m\u001b[0;34m(\u001b[0m\u001b[0mma_liste\u001b[0m\u001b[0;34m)\u001b[0m\u001b[0;34m\u001b[0m\u001b[0;34m\u001b[0m\u001b[0m\n\u001b[0m",
      "\u001b[0;32m<ipython-input-13-a5887984d2c2>\u001b[0m in \u001b[0;36mcommence_par_1\u001b[0;34m(liste)\u001b[0m\n\u001b[1;32m      9\u001b[0m     \u001b[0mEffet\u001b[0m \u001b[0mde\u001b[0m \u001b[0mbord\u001b[0m \u001b[0;34m:\u001b[0m \u001b[0mAucun\u001b[0m\u001b[0;34m\u001b[0m\u001b[0;34m\u001b[0m\u001b[0m\n\u001b[1;32m     10\u001b[0m     \"\"\"    \n\u001b[0;32m---> 11\u001b[0;31m     \u001b[0;32mreturn\u001b[0m \u001b[0;34m(\u001b[0m\u001b[0mliste\u001b[0m\u001b[0;34m[\u001b[0m\u001b[0;36m0\u001b[0m\u001b[0;34m]\u001b[0m \u001b[0;34m==\u001b[0m \u001b[0;36m1\u001b[0m \u001b[0;32mand\u001b[0m \u001b[0mliste\u001b[0m \u001b[0;34m!=\u001b[0m\u001b[0;34m[\u001b[0m\u001b[0;34m]\u001b[0m\u001b[0;34m)\u001b[0m\u001b[0;34m\u001b[0m\u001b[0;34m\u001b[0m\u001b[0m\n\u001b[0m",
      "\u001b[0;31mIndexError\u001b[0m: list index out of range"
     ]
    }
   ],
   "source": [
    "# Mais ça ne marche toujours pas, le bug est toujours là.... Que se passe-t'il ?\n",
    "ma_liste = []\n",
    "commence_par_1(ma_liste)"
   ]
  },
  {
   "cell_type": "markdown",
   "metadata": {},
   "source": [
    "Quse passe t'il ? Pour le comprendre il suffit d'exécuter les lignes de code suivantes avec le debuger de Thonny"
   ]
  },
  {
   "cell_type": "code",
   "execution_count": null,
   "metadata": {},
   "outputs": [],
   "source": [
    "a = True\n",
    "b = True\n",
    "c = True\n",
    "\n",
    "print(a and b and c)"
   ]
  },
  {
   "cell_type": "markdown",
   "metadata": {},
   "source": [
    "Les expressions booléennes sont évaluées par python de manière ~~paresseuse~~ efficace : dès que le résultat est connu l'évaluation est stoppée.\n",
    "Par exemple avec a ET b ET c. Si a est faux, b et c ne sont même pas évaluées puisque le résultat sera nécessairement faux.\n",
    "\n",
    "L'ordre dans lequel les expressions sont écrites est donc important !!\n",
    "\n",
    "Ainsi dans la fonction commence_par_1(), il faut **d'abord** vérifier que la liste n'est pas vide **avant** de regarder si le premier élément de la liste est égal à 1"
   ]
  },
  {
   "cell_type": "code",
   "execution_count": 15,
   "metadata": {},
   "outputs": [],
   "source": [
    "# Bug corrigé !\n",
    "def commence_par_1(liste) :\n",
    "    \"\"\"\n",
    "    Description de la fonction : Détermine si la liste commence par l'entier 1\n",
    "    parametre : liste (list)\n",
    "    Préconditions sur les paramètres : Néant\n",
    "    return (bool)\n",
    "    Postcondition sur le résultat : True si et seulement si la liste commence par 1\n",
    "    Effet de bord : Aucun\n",
    "    \"\"\"    \n",
    "    return (liste !=[] and liste[0] == 1)"
   ]
  },
  {
   "cell_type": "code",
   "execution_count": 16,
   "metadata": {},
   "outputs": [
    {
     "data": {
      "text/plain": [
       "False"
      ]
     },
     "execution_count": 16,
     "metadata": {},
     "output_type": "execute_result"
    }
   ],
   "source": [
    "# Mais ça ne marche toujours pas, le bug est toujours là.... Que se passe-t'il ?\n",
    "ma_liste = []\n",
    "commence_par_1(ma_liste)"
   ]
  },
  {
   "cell_type": "markdown",
   "metadata": {},
   "source": [
    "# Opérateur binaire en python\n",
    "\n",
    "Ces opérateurs s'effectuent entre objets s'écrivant sur plusieurs bits (exemple : variable de type entier)\n",
    "\n",
    "* `>>` : décalage à droite\n",
    "* `<<` : décalage à droite\n",
    "* `&` : ET bit-à-bit\n",
    "* `|` :  OU bit-à-bit\n",
    "* `^` : XOR bit-à-bit\n",
    "* `~` : NOT bit-à-bit (en codage complément à 2)"
   ]
  },
  {
   "cell_type": "code",
   "execution_count": 17,
   "metadata": {},
   "outputs": [
    {
     "data": {
      "text/plain": [
       "'0b101'"
      ]
     },
     "execution_count": 17,
     "metadata": {},
     "output_type": "execute_result"
    }
   ],
   "source": [
    "# on décale le nombre 10110 (exprimé en base 2) à droite de 2 rangs\n",
    "resultat = 0b10100 >> 2\n",
    "\n",
    "# On affiche le résultat en binaire\n",
    "bin(resultat)"
   ]
  },
  {
   "cell_type": "code",
   "execution_count": 18,
   "metadata": {},
   "outputs": [
    {
     "data": {
      "text/plain": [
       "5"
      ]
     },
     "execution_count": 18,
     "metadata": {},
     "output_type": "execute_result"
    }
   ],
   "source": [
    "# la même chose en exprimant les nombres en base 10\n",
    "20 >> 2"
   ]
  },
  {
   "cell_type": "code",
   "execution_count": 19,
   "metadata": {},
   "outputs": [
    {
     "data": {
      "text/plain": [
       "'0b1010000'"
      ]
     },
     "execution_count": 19,
     "metadata": {},
     "output_type": "execute_result"
    }
   ],
   "source": [
    "# décalage à gauche de 2 rangs\n",
    "bin(0b10100 << 2)"
   ]
  },
  {
   "cell_type": "code",
   "execution_count": 20,
   "metadata": {},
   "outputs": [
    {
     "data": {
      "text/plain": [
       "80"
      ]
     },
     "execution_count": 20,
     "metadata": {},
     "output_type": "execute_result"
    }
   ],
   "source": [
    "# la même chose en exprimant les nombres en base 10\n",
    "20 << 2"
   ]
  },
  {
   "cell_type": "code",
   "execution_count": 21,
   "metadata": {},
   "outputs": [
    {
     "data": {
      "text/plain": [
       "True"
      ]
     },
     "execution_count": 21,
     "metadata": {},
     "output_type": "execute_result"
    }
   ],
   "source": [
    "# Décaler un nombre d'un rang à gauche revient à le multiplier par 2\n",
    "\n",
    "a = 53\n",
    "(a * 2) == (a << 1) "
   ]
  },
  {
   "cell_type": "code",
   "execution_count": 22,
   "metadata": {},
   "outputs": [
    {
     "data": {
      "text/plain": [
       "True"
      ]
     },
     "execution_count": 22,
     "metadata": {},
     "output_type": "execute_result"
    }
   ],
   "source": [
    "# Décaler un nombre d'un rang à droite revient à le diviser par 2 (division entière !!)\n",
    "\n",
    "a = 53\n",
    "(a // 2) == (a >> 1) "
   ]
  },
  {
   "cell_type": "code",
   "execution_count": 23,
   "metadata": {},
   "outputs": [],
   "source": [
    "# L'opérateur ET est très utile pour isoler un \"paquet de bit\"\n",
    "# Exemple d'un pixel dont la couleur est codée en RVB\n",
    "\n",
    "couleur = 0b10000000_00001110_10101010"
   ]
  },
  {
   "cell_type": "code",
   "execution_count": 24,
   "metadata": {},
   "outputs": [
    {
     "name": "stdout",
     "output_type": "stream",
     "text": [
      "128\n"
     ]
    }
   ],
   "source": [
    "r = couleur & 0b11111111_00000000_00000000\n",
    "rouge = r >> 16\n",
    "print(rouge)"
   ]
  }
 ],
 "metadata": {
  "kernelspec": {
   "display_name": "Python 3",
   "language": "python",
   "name": "python3"
  },
  "language_info": {
   "codemirror_mode": {
    "name": "ipython",
    "version": 3
   },
   "file_extension": ".py",
   "mimetype": "text/x-python",
   "name": "python",
   "nbconvert_exporter": "python",
   "pygments_lexer": "ipython3",
   "version": "3.7.2"
  }
 },
 "nbformat": 4,
 "nbformat_minor": 2
}
