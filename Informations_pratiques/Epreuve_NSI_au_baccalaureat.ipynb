{
 "cells": [
  {
   "cell_type": "markdown",
   "metadata": {},
   "source": [
    "# Poids de la spécialité dans le baccalauréat\n",
    "\n",
    "## 2 cas de figures suivant que la spécialité est conservée ou non en terminale :\n",
    "\n",
    "* Abandon de la spécialité NSI en terminale :\n",
    "    * Bulletins scolaires de première : coefficient 10/100 réparti entre toutes les disciplines\n",
    "    * Epreuve de spécialité en fin de première ([de type QCM][QCM]) : coefficient 5/100\n",
    "\n",
    "\n",
    "* Conservation de la spécialité NSI en terminale :\n",
    "    * Bulletins scolaires de première et de terminale : coefficient 10/100 réparti entre toutes les disciplines\n",
    "    * Epreuve de spécialité en fin de terminale : coefficient 16/100\n",
    "    * Epreuve de grand oral : coefficient 10/100\n",
    "\n",
    "<div align=\"center\">\n",
    "<img src=\"Bac2021_epreuves_general.jpg\" width=\"70%\">\n",
    "</div>\n",
    "\n",
    "## Calendrier des épreuves de NSI :\n",
    "\n",
    "* Epreuve de spécialité en fin de première : au troisième trimestre (courant avril/mai)\n",
    "* Epréuve de spécialité en fin de terminale : au troisième trimestre (courant avril/mai)\n",
    "* Epreuve de grand oral en fin de terminale : courant juin\n",
    "\n",
    "Plus d'informations et Sources : [Quandjepasselebac.education.fr](http://quandjepasselebac.education.fr/nouveau-lycee-1re-et-terminale-des-2019/)\n",
    "\n",
    "# Nature des épreuves\n",
    "\n",
    "## Epreuve de spécialité de fin de première (uniquement pour ceux qui abandonnent NSI en terminale)\n",
    "\n",
    "* Épreuve écrite\\\n",
    "Durée : 2 heures\n",
    "\n",
    "\n",
    "* Structure\n",
    "    * L'épreuve consiste en un [QCM][QCM] de **42 questions** divisé en 7 parties, une pour chaque thématique du [programme](Programme_BO_Premiere_NSI.pdf). Chaque partie comporte 6 questions.\n",
    "    * Pour chaque question, 4 réponses sont proposées dont une **seule est correcte.**\n",
    "    * **L'usage de la calculatrice est interdit.**\n",
    "\n",
    "\n",
    "* Notation\n",
    "    * Bonne réponse : +3 points\n",
    "    * Réponse incorrecte : -1 point\n",
    "    * Absence de réponse ou une réponse multiple : 0 point\n",
    "    * Sur chacune des sept parties, si le total des points obtenu par le candidat est négatif, son résultat est évalué à 0.\n",
    "    * Le résultat obtenu est transformé en note sur 20 selon la formule : $\\frac{\\text{Nombre total de points} * 20}{3 * 42}$\n",
    "\n",
    "## Epreuve de spécialité de fin de terminale (uniquement pour ceux qui conservent NSI en terminale)\n",
    "\n",
    "Sous forme de proposition à l'heure actuelle (rien de définitif) :\n",
    "[projet épreuves NSI en terminale](https://cache.media.education.gouv.fr/file/CSP/61/6/Projet_Epreuves_examen_NSI_Tle_Voie_G_1126616.pdf).\n",
    "\n",
    "[QCM]: https://www.education.gouv.fr/pid285/bulletin_officiel.html?cid_bo=141199 \"Bulletin officiel\""
   ]
  }
 ],
 "metadata": {
  "kernelspec": {
   "display_name": "Python 3",
   "language": "python",
   "name": "python3"
  },
  "language_info": {
   "codemirror_mode": {
    "name": "ipython",
    "version": 3
   },
   "file_extension": ".py",
   "mimetype": "text/x-python",
   "name": "python",
   "nbconvert_exporter": "python",
   "pygments_lexer": "ipython3",
   "version": "3.7.2"
  }
 },
 "nbformat": 4,
 "nbformat_minor": 4
}
