{
 "cells": [
  {
   "cell_type": "markdown",
   "metadata": {},
   "source": [
    "> Si cela ne tenait qu'à moi je ne mettrai aucune note pour des raisons que je ne vais pas expliquer ici. Malheureusement ce n'est pas moi qui décide et je suis obligé de mettre des notes. Tout le monde ou presque en réclame (l'administration, les parents, les élèves). Et on va même plus loin car maintenant avec le nouveau bac, toutes vos notes comptent pour le bac dès la première. Vous êtes donc \"quasiment en évaluation permanente\". Il paraît que c'est mieux !!\n",
    "\n",
    "Les notes seront donc composées de :\n",
    "\n",
    "* QCM, puisque c'est le type d'épreuve en fin de première\n",
    "\n",
    "\n",
    "* Devoirs surveillés, ou des TP en totale autonomie, puisque c'est le type d'épreuves en fin de terminale\n",
    "\n",
    "\n",
    "* Projets à réaliser, puisque le grand oral de fin de terminale sera basé sur la réalisation d'un projet\n",
    "\n",
    "\n",
    "* chaque semaine ou presque **je tire au sort** quelques élèves pour noter tout ou partie du travail qui devait être fait à la maison ou le travail qui a été fait pendant la séance. Dans le cadre du travail réalisé à la maison, **la moyenne est garantie si TOUT l'exercice noté est fait, même s'il y a des erreurs. le zéro est garanti si le travail n'a pas été fait peu importe la raison** (\"je ne savais pas\", \"j'ai eu un problème d'ordinateur\", \"j'ai oublié\", \"j'ai pas compris\", \"je pouvais pas faire la suite car je suis bloqué à la question 3\" ou toutes les autres _\"bonnes\"_ raisons que les élèves ~~inventent~~ donnent). Dans le cas notamment du \"j'ai pas compris\" ou du \"je suis bloqué\", vous aviez une semaine pour vous entraider ou me contacter par mail à r.seynave59[at]gmail.com. Je regarde environ 1 fois/jour... Mais c'est sûr que je ne répondrai pas à un message reçu le soir pour un travail à faire pour le lendemain.\n",
    "\n",
    "\n",
    "> Pourquoi ce tirage au sort ? Encore une fois, l'expérience de l'année dernière montre que certains élèves ne travaillent pas du tout ou pas assez. (L'unique) but de ce tirage au sort est de vous _\"forcer\"_ à travailler puisque vous ne pouvez pas savoir à l'avance qui sera noté. Je rappelle la définition du hasard sur lequel se base le tirage au sort : le hasard est imprévisible, indépendant de ma volonté ou de la vôtre. Ainsi, il se peut qu'un élève soit tiré au sort plusieurs fois alors qu'un autre ne l'a jamais été.\n",
    "\n",
    "\n",
    "* Avis aux spécialistes qui évitent les évaluations : **Tout élève absent (pour raisons valables ou non, ce n'est pas le problème) à un QCM ou un devoir surveillé rattrapera SYSTEMATIQUEMENT son évaluation la prochaine fois qu'il revient en classe, même si c'est plusieurs semaines après...**"
   ]
  }
 ],
 "metadata": {
  "kernelspec": {
   "display_name": "Python 3",
   "language": "python",
   "name": "python3"
  },
  "language_info": {
   "codemirror_mode": {
    "name": "ipython",
    "version": 3
   },
   "file_extension": ".py",
   "mimetype": "text/x-python",
   "name": "python",
   "nbconvert_exporter": "python",
   "pygments_lexer": "ipython3",
   "version": "3.7.2"
  }
 },
 "nbformat": 4,
 "nbformat_minor": 4
}
