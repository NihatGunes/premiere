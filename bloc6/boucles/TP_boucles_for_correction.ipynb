{
 "cells": [
  {
   "cell_type": "markdown",
   "metadata": {},
   "source": [
    "> **Très important :** Dans ce TD, ne pas hésiter à recourir aux outils de \"debuggage\" pour bien comprendre les boucles et trouver les problèmes :\n",
    "* Thonny en mode debug\n",
    "* [Pythontutor en ligne](http://pythontutor.com/live.html#mode=edit)\n",
    "* Pythontutor dans un Notebook jupyter\n",
    "\n",
    "\n",
    "# Exercice 1 : niveau facile\n",
    "\n",
    "1. Pour chaque séquence ci-dessous, écrire l'instruction python permettant de la générer (on utilisera la fonction `range`) :\n",
    "\n",
    "* 2, 3, 4, 5, 6, 7, 8\n",
    "* 0, 4, 8, 12, 16, 20, 24\n",
    "* les chiffres de 1 à n inclus (n étant le nombre de caractères d'une chaîne de caractère appelée `maChaine`):\n",
    "    * Par exemple si `maChaine = informatique`, on veut obtenir la séquence 1, 2, 3, 4, 5, 6, 7, 8, 9, 10, 11, 12\n",
    "    \n",
    "2. Parcourir chaque séquence ci-dessus à l'aide d'une boucle `for` afin d'afficher chaque valeur de la séquence"
   ]
  },
  {
   "cell_type": "code",
   "execution_count": null,
   "metadata": {},
   "outputs": [],
   "source": [
    "range(2, 9)\n",
    "range(0, 25, 4)\n",
    "range(1, len(\"maChaine\") + 1)"
   ]
  },
  {
   "cell_type": "code",
   "execution_count": null,
   "metadata": {},
   "outputs": [],
   "source": [
    "for i in range(2,9):\n",
    "    print(i)\n",
    "    \n",
    "for i in range(0, 25, 4):\n",
    "    print(i)\n",
    "    \n",
    "for i in range(1, len(\"maChaine\") + 1):\n",
    "    print(i)"
   ]
  },
  {
   "cell_type": "markdown",
   "metadata": {},
   "source": [
    "# Exercice : niveau facile\n",
    "\n",
    "Le code suivant permet d'afficher **10 fois** le message \"Pour progresser en programmation, la pratique est le plus important\". Malheureusement, plusieurs erreurs se sont glissées dans le code, corrigez-les et tester !"
   ]
  },
  {
   "cell_type": "code",
   "execution_count": null,
   "metadata": {},
   "outputs": [],
   "source": [
    "for i in len(10)\n",
    "print(Pour progresser en programmation, la pratique est le plus important)\n",
    "print(Pour progresser en programmation, la pratique est le plus important)\n",
    "print(Pour progresser en programmation, la pratique est le plus important)\n",
    "print(Pour progresser en programmation, la pratique est le plus important)\n",
    "print(Pour progresser en programmation, la pratique est le plus important)\n",
    "print(Pour progresser en programmation, la pratique est le plus important)\n",
    "print(Pour progresser en programmation, la pratique est le plus important)\n",
    "print(Pour progresser en programmation, la pratique est le plus important)\n",
    "print(Pour progresser en programmation, la pratique est le plus important)\n",
    "print(Pour progresser en programmation, la pratique est le plus important)"
   ]
  },
  {
   "cell_type": "code",
   "execution_count": null,
   "metadata": {},
   "outputs": [],
   "source": [
    "for i in range(10) :\n",
    "    print(\"Pour progresser en programmation, la pratique est le plus important\")"
   ]
  },
  {
   "cell_type": "markdown",
   "metadata": {},
   "source": [
    "# Exercice : niveau facile\n",
    "\n",
    "1. Ecrire une boucle `for` permettant d'**afficher** la table de multiplication par 7. L'affichage attendu est donné ci-dessous :\n",
    "\n",
    "7  \n",
    "14  \n",
    "21  \n",
    "28  \n",
    "35  \n",
    "42  \n",
    "49  \n",
    "56  \n",
    "63  \n",
    "70  \n",
    "\n",
    "2. Modifier le code ci-dessus afin que l'affichage soit celui donné ci-dessous :\n",
    "\n",
    "7 * 1 = 7  \n",
    "7 * 2 = 14  \n",
    "7 * 3 = 21  \n",
    "7 * 4 = 28  \n",
    "7 * 5 = 35  \n",
    "7 * 6 = 42  \n",
    "7 * 7 = 49  \n",
    "7 * 8 = 56  \n",
    "7 * 9 = 63  \n",
    "7 * 10 = 70  \n",
    "\n",
    "3. \"Encapsuler\" le code précédent dans une fonction `tableMultiplication` qui :\n",
    "    * prend en **paramètre** l'entier dont on veut la table de multiplication\n",
    "    * **affiche** la table de multiplication\n",
    "\n",
    "Un exemple d'appel de la fonction `tableMultiplication` est donné ci-dessous :"
   ]
  },
  {
   "cell_type": "code",
   "execution_count": 7,
   "metadata": {},
   "outputs": [
    {
     "name": "stdout",
     "output_type": "stream",
     "text": [
      "9 * 1 = 9\n",
      "9 * 2 = 18\n",
      "9 * 3 = 27\n",
      "9 * 4 = 36\n",
      "9 * 5 = 45\n",
      "9 * 6 = 54\n",
      "9 * 7 = 63\n",
      "9 * 8 = 72\n",
      "9 * 9 = 81\n",
      "9 * 10 = 90\n"
     ]
    }
   ],
   "source": [
    "tableMultiplication(9)"
   ]
  },
  {
   "cell_type": "markdown",
   "metadata": {},
   "source": [
    "4.  Écrire une fonction `plusieursTablesMultiplication` qui :\n",
    "    * prend deux entiers a et b en **paramètre**\n",
    "    * **affiche** toutes les tables de multiplication pour les entiers de a à b.\n",
    "    \n",
    "Un exemple d'appel de la fonction `plusieursTablesMultiplication` est donné ci-dessous :  \n",
    "*(Consigne: utiliser la fonction `tableMultiplication` pour écrire le code de `plusieursTablesMultiplication`)*"
   ]
  },
  {
   "cell_type": "code",
   "execution_count": 9,
   "metadata": {},
   "outputs": [
    {
     "name": "stdout",
     "output_type": "stream",
     "text": [
      "3 * 1 = 3\n",
      "3 * 2 = 6\n",
      "3 * 3 = 9\n",
      "3 * 4 = 12\n",
      "3 * 5 = 15\n",
      "3 * 6 = 18\n",
      "3 * 7 = 21\n",
      "3 * 8 = 24\n",
      "3 * 9 = 27\n",
      "3 * 10 = 30\n",
      "4 * 1 = 4\n",
      "4 * 2 = 8\n",
      "4 * 3 = 12\n",
      "4 * 4 = 16\n",
      "4 * 5 = 20\n",
      "4 * 6 = 24\n",
      "4 * 7 = 28\n",
      "4 * 8 = 32\n",
      "4 * 9 = 36\n",
      "4 * 10 = 40\n",
      "5 * 1 = 5\n",
      "5 * 2 = 10\n",
      "5 * 3 = 15\n",
      "5 * 4 = 20\n",
      "5 * 5 = 25\n",
      "5 * 6 = 30\n",
      "5 * 7 = 35\n",
      "5 * 8 = 40\n",
      "5 * 9 = 45\n",
      "5 * 10 = 50\n"
     ]
    }
   ],
   "source": [
    "plusieursTablesMultiplication(3,5)"
   ]
  },
  {
   "cell_type": "markdown",
   "metadata": {},
   "source": [
    "> Si vous avez suivi les consignes, vous avez utiliser la fonction `tableMultiplication`  pour écrire le code de `plusieursTablesMultiplication`\n",
    "\n",
    "5. Dans le corps de la fonction `plusieursTablesMultiplication`, remplacer l'appel de la fonction `tableMultiplication` par son code. Tester la fonction `plusieursTablesMultiplication`\n",
    "\n",
    "> On a maintenant une boucle `for` (interne) imbriquée dans une boucle `for` (externe). Exécuter ce code en mode debug ou avec pythontutor."
   ]
  },
  {
   "cell_type": "code",
   "execution_count": 1,
   "metadata": {},
   "outputs": [
    {
     "name": "stdout",
     "output_type": "stream",
     "text": [
      "7\n",
      "14\n",
      "21\n",
      "28\n",
      "35\n",
      "42\n",
      "49\n",
      "56\n",
      "63\n",
      "70\n"
     ]
    }
   ],
   "source": [
    "for i in range(1,11):\n",
    "    print(7*i)"
   ]
  },
  {
   "cell_type": "code",
   "execution_count": 2,
   "metadata": {},
   "outputs": [
    {
     "name": "stdout",
     "output_type": "stream",
     "text": [
      "7 * 1 = 7\n",
      "7 * 2 = 14\n",
      "7 * 3 = 21\n",
      "7 * 4 = 28\n",
      "7 * 5 = 35\n",
      "7 * 6 = 42\n",
      "7 * 7 = 49\n",
      "7 * 8 = 56\n",
      "7 * 9 = 63\n",
      "7 * 10 = 70\n"
     ]
    }
   ],
   "source": [
    "for i in range(1,11):\n",
    "    print(\"7 *\",i,\"=\",7*i)"
   ]
  },
  {
   "cell_type": "code",
   "execution_count": 5,
   "metadata": {},
   "outputs": [],
   "source": [
    "def tableMultiplication(n):    \n",
    "    for i in range(1, 11):\n",
    "        print(n, \"*\",i,\"=\",n*i)"
   ]
  },
  {
   "cell_type": "code",
   "execution_count": 8,
   "metadata": {},
   "outputs": [],
   "source": [
    "def plusieursTablesMultiplication(a,b):\n",
    "    for i in range(a,b+1):\n",
    "        tableMultiplication(i)"
   ]
  },
  {
   "cell_type": "code",
   "execution_count": 10,
   "metadata": {},
   "outputs": [],
   "source": [
    "def plusieursTablesMultiplication(a,b):\n",
    "    for i in range(a,b+1):\n",
    "        for j in range(1, 11):\n",
    "            print(i, \"*\",j,\"=\",i*j)"
   ]
  },
  {
   "cell_type": "code",
   "execution_count": 11,
   "metadata": {},
   "outputs": [
    {
     "name": "stdout",
     "output_type": "stream",
     "text": [
      "3 * 1 = 3\n",
      "3 * 2 = 6\n",
      "3 * 3 = 9\n",
      "3 * 4 = 12\n",
      "3 * 5 = 15\n",
      "3 * 6 = 18\n",
      "3 * 7 = 21\n",
      "3 * 8 = 24\n",
      "3 * 9 = 27\n",
      "3 * 10 = 30\n",
      "4 * 1 = 4\n",
      "4 * 2 = 8\n",
      "4 * 3 = 12\n",
      "4 * 4 = 16\n",
      "4 * 5 = 20\n",
      "4 * 6 = 24\n",
      "4 * 7 = 28\n",
      "4 * 8 = 32\n",
      "4 * 9 = 36\n",
      "4 * 10 = 40\n",
      "5 * 1 = 5\n",
      "5 * 2 = 10\n",
      "5 * 3 = 15\n",
      "5 * 4 = 20\n",
      "5 * 5 = 25\n",
      "5 * 6 = 30\n",
      "5 * 7 = 35\n",
      "5 * 8 = 40\n",
      "5 * 9 = 45\n",
      "5 * 10 = 50\n"
     ]
    }
   ],
   "source": [
    "plusieursTablesMultiplication(3,5)"
   ]
  },
  {
   "cell_type": "markdown",
   "metadata": {},
   "source": [
    "# Exercice\n",
    "\n",
    "Ecrire une fonction `nombreCaracteres` \n",
    "    * qui prend en paramètres\n",
    "    * qui renvoie la longueur de cette chaîne de caractères \n",
    "    \n",
    "> L'utilisation de la fonction `len` est interdite !"
   ]
  },
  {
   "cell_type": "code",
   "execution_count": 43,
   "metadata": {},
   "outputs": [],
   "source": [
    "def nombreCaracteres(chaine):\n",
    "    compteur = 0\n",
    "    for c in chaine:\n",
    "        compteur = compteur + 1\n",
    "    return compteur"
   ]
  },
  {
   "cell_type": "code",
   "execution_count": 44,
   "metadata": {},
   "outputs": [
    {
     "data": {
      "text/plain": [
       "6"
      ]
     },
     "execution_count": 44,
     "metadata": {},
     "output_type": "execute_result"
    }
   ],
   "source": [
    "nombreCaracteres(\"Python\")"
   ]
  },
  {
   "cell_type": "markdown",
   "metadata": {},
   "source": [
    "# Exercice\n",
    "\n",
    "On considère la fonction `mystere` ci dessous."
   ]
  },
  {
   "cell_type": "code",
   "execution_count": 17,
   "metadata": {},
   "outputs": [],
   "source": [
    "def mystere(n):\n",
    "    s = 0\n",
    "    n = str(n)\n",
    "    for i in range(len(n)):\n",
    "        s = s + int(n[i])\n",
    "    return s"
   ]
  },
  {
   "cell_type": "markdown",
   "metadata": {},
   "source": [
    "1. Exécuter **à la main (sans ordinateur)** l'appel `mystere(63847)`. Pour cela, il faut dresser un tableau regroupant les valeurs successives de `i` et `s`\n",
    "\n",
    "\n",
    "2. Vérifier en exécutant l'appel `mystere(63847)` en mode debug sous Thonny ou avec pythontutor\n",
    "\n",
    "\n",
    "3. Maintenant que l'on a découvert le fonctionnement de la fonction, plutôt que \"mystere\" comment pourrait-on mieux nommer cette fonction ?\n",
    "\n",
    "\n",
    "4. Ecrire le code d'une fonction `produitChiffres` qui :\n",
    "    * prend un entier n en **paramètre**\n",
    "    * **renvoie** le produit de tous les chiffres de n\n",
    "*(Indication : on pourra s'inspirer du code de `mystere`)*"
   ]
  },
  {
   "cell_type": "markdown",
   "metadata": {},
   "source": [
    "|i|s|\n",
    "|:-:|:-:|\n",
    "||0|\n",
    "|6|6|\n",
    "|3|9|\n",
    "|8|17|\n",
    "|4|21|\n",
    "|7|28|\n",
    "\n",
    "On pourra appeler cette fonction `sommeChiffres`"
   ]
  },
  {
   "cell_type": "code",
   "execution_count": 21,
   "metadata": {},
   "outputs": [
    {
     "data": {
      "text/plain": [
       "28"
      ]
     },
     "execution_count": 21,
     "metadata": {},
     "output_type": "execute_result"
    }
   ],
   "source": [
    "mystere(63847)"
   ]
  },
  {
   "cell_type": "code",
   "execution_count": 19,
   "metadata": {},
   "outputs": [],
   "source": [
    "def produitChiffres(n):\n",
    "    s = 1\n",
    "    n = str(n)\n",
    "    for i in range(len(n)):\n",
    "        s = s * int(n[i])\n",
    "    return s"
   ]
  },
  {
   "cell_type": "code",
   "execution_count": 20,
   "metadata": {},
   "outputs": [
    {
     "data": {
      "text/plain": [
       "24"
      ]
     },
     "execution_count": 20,
     "metadata": {},
     "output_type": "execute_result"
    }
   ],
   "source": [
    "produitChiffres(4132)"
   ]
  },
  {
   "cell_type": "code",
   "execution_count": 27,
   "metadata": {},
   "outputs": [],
   "source": [
    "def verlan(chaine):\n",
    "    m = \"\"\n",
    "    for c in chaine:\n",
    "        m = c + m\n",
    "    return m"
   ]
  },
  {
   "cell_type": "code",
   "execution_count": 28,
   "metadata": {},
   "outputs": [
    {
     "data": {
      "text/plain": [
       "'nohtyP'"
      ]
     },
     "execution_count": 28,
     "metadata": {},
     "output_type": "execute_result"
    }
   ],
   "source": [
    "verlan(\"Python\")"
   ]
  },
  {
   "cell_type": "markdown",
   "metadata": {},
   "source": [
    "# Exercice"
   ]
  },
  {
   "cell_type": "code",
   "execution_count": 36,
   "metadata": {},
   "outputs": [],
   "source": [
    "def est_premier(n):\n",
    "    for i in range(2,n):\n",
    "        if n % i == 0:\n",
    "            return False\n",
    "    return True"
   ]
  },
  {
   "cell_type": "code",
   "execution_count": 40,
   "metadata": {},
   "outputs": [
    {
     "data": {
      "text/plain": [
       "False"
      ]
     },
     "execution_count": 40,
     "metadata": {},
     "output_type": "execute_result"
    }
   ],
   "source": [
    "est_premier(8)"
   ]
  },
  {
   "cell_type": "markdown",
   "metadata": {},
   "source": [
    "# Exercice\n",
    "\n",
    "Compléter le code de la fonction `repetition` qui permet de **renvoyer** une chaîne de caractère dont chaque caractère est répété n fois. Ainsi dans l'appel ci-dessous, chaque lettre du mot Python est répétée 4 fois"
   ]
  },
  {
   "cell_type": "code",
   "execution_count": null,
   "metadata": {},
   "outputs": [],
   "source": [
    "def repetition(chaine,n):\n",
    "    m = \"\"\n",
    "    for c in chaine:\n",
    "        "
   ]
  },
  {
   "cell_type": "code",
   "execution_count": 26,
   "metadata": {},
   "outputs": [
    {
     "data": {
      "text/plain": [
       "'PPPPyyyytttthhhhoooonnnn'"
      ]
     },
     "execution_count": 26,
     "metadata": {},
     "output_type": "execute_result"
    }
   ],
   "source": [
    "repetition(\"Python\",4)"
   ]
  },
  {
   "cell_type": "code",
   "execution_count": 25,
   "metadata": {},
   "outputs": [],
   "source": [
    "def repetition(chaine,n):\n",
    "    m = \"\"\n",
    "    for c in chaine:\n",
    "        for i in range(n):\n",
    "            m = m + c\n",
    "    return m"
   ]
  }
 ],
 "metadata": {
  "kernelspec": {
   "display_name": "Python 3",
   "language": "python",
   "name": "python3"
  },
  "language_info": {
   "codemirror_mode": {
    "name": "ipython",
    "version": 3
   },
   "file_extension": ".py",
   "mimetype": "text/x-python",
   "name": "python",
   "nbconvert_exporter": "python",
   "pygments_lexer": "ipython3",
   "version": "3.7.2"
  }
 },
 "nbformat": 4,
 "nbformat_minor": 4
}
