{
 "cells": [
  {
   "cell_type": "markdown",
   "metadata": {},
   "source": [
    "# Exercice 1\n",
    "\n",
    "Cet exercice doit être fait avec Thonny en mode interactif. Ouvrir le fichier **Memento python**. \n",
    "\n",
    "A l'aide de ce mememto, écrire les instructions correspondant aux 4 situations suivantes :\n",
    "\n",
    "1. Machine, Enlève 6 de 20\n",
    "2. Machine, Multiple 8 et 31\n",
    "3. Machine, Combien de lettres possède le mot Python (s'aider de l'exemple donné dans la demo)\n",
    "4. Machine, Calcule-moi 3% de 50 (dans ce dernier cas, il faut se souvenir comment, en mathématiques, on calcule des pourcentages)\n",
    "\n",
    "\n",
    "# Exercice 2\n",
    "\n",
    "Même chose sous Jupyter\n",
    "\n",
    "\n",
    "# Exercice 3\n",
    "\n",
    "1. Ouvrir la page sur la [division euclidienne](https://fr.wikipedia.org/wiki/Division_euclidienne)\n",
    "\n",
    "> Remarque : la division euclidienne n'est pas seulement une _curiosité inutile pour amuser les matheux_. En informatique la division euclidienne est l'opération de base permettant le cryptage des mots de passe ou le chiffrement/déchiffrement des communications sécurisées sur internet. C'est donc une opération fondamentale en informatique qu'on utilisera souvent cette année et vous devrez donc la retenir !!\n",
    "\n",
    "2. A l'aide de la page wikipedia que vous venez d'ouvrir, écrire la division euclidienne de 33 par 5\n",
    "\n",
    "3. Tappez dans le Shell de Thonny les 3 instructions suivantes et observez le résultat"
   ]
  },
  {
   "cell_type": "code",
   "execution_count": 1,
   "metadata": {},
   "outputs": [
    {
     "data": {
      "text/plain": [
       "2.625"
      ]
     },
     "execution_count": 1,
     "metadata": {},
     "output_type": "execute_result"
    }
   ],
   "source": [
    "21 / 8"
   ]
  },
  {
   "cell_type": "code",
   "execution_count": 2,
   "metadata": {},
   "outputs": [
    {
     "data": {
      "text/plain": [
       "2"
      ]
     },
     "execution_count": 2,
     "metadata": {},
     "output_type": "execute_result"
    }
   ],
   "source": [
    "21 // 8"
   ]
  },
  {
   "cell_type": "code",
   "execution_count": 3,
   "metadata": {},
   "outputs": [
    {
     "data": {
      "text/plain": [
       "5"
      ]
     },
     "execution_count": 3,
     "metadata": {},
     "output_type": "execute_result"
    }
   ],
   "source": [
    "21 % 8"
   ]
  },
  {
   "cell_type": "markdown",
   "metadata": {},
   "source": [
    "4. Compléter ci-dessous en français l'ordre correspondant à chacune de ces instructions (comme dans l'énoncé de l'exercice 1)\n",
    "\n",
    "**Instruction 1**\n",
    "\n",
    "    Machine,......\n",
    "    \n",
    "**Instruction 2**\n",
    "\n",
    "    Machine,......\n",
    "    \n",
    "**Instruction 3**\n",
    "\n",
    "    Machine,......\n",
    "    \n",
    "    \n",
    "Ouvrir la page wikipedia suivante : [Commentaires en programmation](https://fr.wikipedia.org/wiki/Commentaire_(informatique))\n",
    "\n",
    "5. En langage Python, quel symbole permet d'écrire un commentaire ?\n",
    "\n",
    "6. Dans le Shell de Thonny réécrire les 3 instructions précédentes en ajoutant à la suite de l'instruction un commentaire python. Ce commentaire sera la phrase correspondante écrite en français à la question 4. Observez que l'ajout des commentaires ne change rien au résultat affiché par la machine.\n",
    "\n",
    "# Exercice\n",
    "\n",
    "Leur faire faire un compte rendu en Markdown"
   ]
  }
 ],
 "metadata": {
  "kernelspec": {
   "display_name": "Python 3",
   "language": "python",
   "name": "python3"
  },
  "language_info": {
   "codemirror_mode": {
    "name": "ipython",
    "version": 3
   },
   "file_extension": ".py",
   "mimetype": "text/x-python",
   "name": "python",
   "nbconvert_exporter": "python",
   "pygments_lexer": "ipython3",
   "version": "3.7.2"
  }
 },
 "nbformat": 4,
 "nbformat_minor": 4
}
