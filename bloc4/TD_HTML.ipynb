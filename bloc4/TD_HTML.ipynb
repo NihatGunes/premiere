{
 "cells": [
  {
   "cell_type": "markdown",
   "metadata": {},
   "source": [
    "1. Quels sont les langages à utiliser pour réaliser les actions suivantes :\n",
    "    * Mettre les titres en gras, en rouge et les souligner\n",
    "    * Insérer une image dans la page web\n",
    "    * Compter le nombres de visiteur de la page\n",
    "    * Mettre un hyperlien\n",
    "    * Créer un paragraphe avec du texte\n",
    "    * Positionner une image à l'endroit voulu sur la page\n",
    "    * Créer un bouton \"Valider\" sur lequel on peut cliquer  \n",
    "    * Rédiger les questions d'un QCM en ligne (avec des cases à cocher)\n",
    "    * Corriger les réponses d'un QCM en ligne et calculer la note obtenue\n",
    "\n",
    "\n",
    "2. Classez les 3 langages du web (HTML, CSS, Javascript) dans 2 catégories :\n",
    "    * Langage de description\n",
    "    * Langage de programmation"
   ]
  }
 ],
 "metadata": {
  "kernelspec": {
   "display_name": "Python 3",
   "language": "python",
   "name": "python3"
  },
  "language_info": {
   "codemirror_mode": {
    "name": "ipython",
    "version": 3
   },
   "file_extension": ".py",
   "mimetype": "text/x-python",
   "name": "python",
   "nbconvert_exporter": "python",
   "pygments_lexer": "ipython3",
   "version": "3.7.2"
  }
 },
 "nbformat": 4,
 "nbformat_minor": 4
}
