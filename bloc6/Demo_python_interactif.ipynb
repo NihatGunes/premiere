{
 "cells": [
  {
   "cell_type": "markdown",
   "metadata": {},
   "source": [
    "# Python en mode interactif\n",
    "\n",
    "Le mode interactif instaure un **dialogue entre le programmeur (l'informaticien) et la machine**. Ce dialogue s'établit selon la règle suivante : \n",
    "1. Le programmeur pose une **question** ou donne un **ordre** à Python. Pour cela l'humain écrit une **INSTRUCTION**\n",
    "2. Python obéit : elle **EXECUTE** l'instruction demandée et **affiche le résulat SI il y en a un** (parfois il n'y a pas de résultat)\n",
    "3. Et ainsi de suite\n",
    "\n",
    "Dans ce dialogue, il y a un **maître** (le programmeur) et un **esclave** (la machine). C'est toujours le maître qui donne les ordres, jamais le contraire : la machine obéit toujours (si elle comprend l'instruction). La machine ne donne jamais d'ordre à l'informaticien.\n",
    "\n",
    "Pour que l'instruction donnée par l'informaticien soit comprise par la machine, il faut parler _la langue de la machine_. Cette langue c'est **python**. L'informaticien doit donc apprendre à _parler python_ pour se faire comprendre de la machine. **Apprendre à _parler à la machine en Python_ c'est apprendre à PROGRAMMER EN LANGAGE PYTHON**. \n",
    "\n",
    "* Dans Thonny, le mode interactif se déroule dans la fenêtre du bas : le **shell**. Le symbole `>>>` signifie que c'est au tour du programmeur (l'être humain) de parler. Le programmeur donne un ordre à Python. Il écrit donc une **instruction en langage python**\n",
    "\n",
    "\n",
    "* Dans les Notebook Jupyter (ce que j'utilise pour écrire les cours, TD et TP), `In` ou `Entrée` signifie que c'est au tour du programmeur de parler et `Out` ou `Sortie` montre la réponse de la machine.\n",
    "\n",
    "\n",
    "## Exemples\n",
    "\n",
    "Programmeur : >>> Machine, additionne 5 et 8\n",
    "Machine : 13"
   ]
  },
  {
   "cell_type": "code",
   "execution_count": 2,
   "metadata": {},
   "outputs": [
    {
     "data": {
      "text/plain": [
       "13"
      ]
     },
     "execution_count": 2,
     "metadata": {},
     "output_type": "execute_result"
    }
   ],
   "source": [
    "5 + 8"
   ]
  },
  {
   "cell_type": "markdown",
   "metadata": {},
   "source": [
    "Programmeur : >>> Machine, multiple 3 et 7\n",
    "Machine : 21"
   ]
  },
  {
   "cell_type": "code",
   "execution_count": 3,
   "metadata": {},
   "outputs": [
    {
     "data": {
      "text/plain": [
       "21"
      ]
     },
     "execution_count": 3,
     "metadata": {},
     "output_type": "execute_result"
    }
   ],
   "source": [
    "3 * 7"
   ]
  },
  {
   "cell_type": "markdown",
   "metadata": {},
   "source": [
    "Programmeur : >>> Machine, combien de lettres comportent le mot informatique\n",
    "Machine : 12"
   ]
  },
  {
   "cell_type": "code",
   "execution_count": 4,
   "metadata": {},
   "outputs": [
    {
     "data": {
      "text/plain": [
       "12"
      ]
     },
     "execution_count": 4,
     "metadata": {},
     "output_type": "execute_result"
    }
   ],
   "source": [
    "len('informatique')"
   ]
  },
  {
   "cell_type": "markdown",
   "metadata": {},
   "source": [
    "Cette dernière instruction est sans doute inconnue pour vous : c'est normal, vous commencez votre apprentissage de Python...\n",
    "\n",
    "En mode interactif, Python se comporte un peu comme une calculatrice plus évoluée car, comme le montre le dernier exemple, on peut faire faire à Python des choses bien plus complexes qu'avec une calculatrice"
   ]
  }
 ],
 "metadata": {
  "kernelspec": {
   "display_name": "Python 3",
   "language": "python",
   "name": "python3"
  },
  "language_info": {
   "codemirror_mode": {
    "name": "ipython",
    "version": 3
   },
   "file_extension": ".py",
   "mimetype": "text/x-python",
   "name": "python",
   "nbconvert_exporter": "python",
   "pygments_lexer": "ipython3",
   "version": "3.7.2"
  }
 },
 "nbformat": 4,
 "nbformat_minor": 4
}
