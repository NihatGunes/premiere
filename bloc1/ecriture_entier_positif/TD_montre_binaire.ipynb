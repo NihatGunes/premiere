{
 "cells": [
  {
   "cell_type": "markdown",
   "metadata": {},
   "source": [
    "# L’heure en binaire\n",
    "Cette montre affiche l’heure en binaire :\n",
    "* une ligne affiche les minutes\n",
    "* une autre ligne affiche les heures\n",
    "![montre](img/montre1.png)\n",
    "1. Quelle est la valeur maximale en décimal que peut afficher la ligne du haut ? en binaire ? en hexadécimal ?\n",
    "2. Quelle est la valeur maximale en décimal que peut afficher la ligne du bas ? en binaire ? en hexadécimal ?\n",
    "3. En déduire quelle ligne indique les minutes et quelle ligne indique les heures ?\n",
    "4. Dans quel format les heures sont-elles données au 12H(am/pm) ou 24H ?\n",
    "5. Quelle valeur maximale en décimal sera réellement affichée sur la ligne des heures ? en binaire ? en hexadécimal ?\n",
    "6. Quelle valeur maximale en décimal sera réellement affichée sur la ligne des minutes ? en binaire ? en hexadécimal ?\n",
    "7. Quelle est l’heure donnée par les montre ci-dessous ?\n",
    "![montre](img/montre2.png)\n",
    "8. Complétez les cadrans suivants dans le cas où la montre indique :\n",
    "![montre](img/montre3.png)\n",
    "9. Quelle modification faudrait-il faire pour que les heures soient affichées sur un format 24h ?\n",
    "10. Quelle modification faudrait-il faire pour afficher également les secondes ?"
   ]
  }
 ],
 "metadata": {
  "kernelspec": {
   "display_name": "Python 3",
   "language": "python",
   "name": "python3"
  },
  "language_info": {
   "codemirror_mode": {
    "name": "ipython",
    "version": 3
   },
   "file_extension": ".py",
   "mimetype": "text/x-python",
   "name": "python",
   "nbconvert_exporter": "python",
   "pygments_lexer": "ipython3",
   "version": "3.7.2"
  }
 },
 "nbformat": 4,
 "nbformat_minor": 4
}
