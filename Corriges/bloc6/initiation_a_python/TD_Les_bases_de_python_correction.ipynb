{
 "cells": [
  {
   "cell_type": "markdown",
   "metadata": {},
   "source": [
    "> Pensez à ouvrir `premiere/Outils_et_environnement_informatiques/Thonny` pour avoir de l'aide sur l'utilisation de Thonny\n",
    "\n",
    "\n",
    "# Activité 0\n",
    "\n",
    "Lire attentivement le document `premiere/Outils_et_environnement_informatiques/Comment_organiser_ses_fichiers_et_dossiers` et le document `premiere/Outils_et_environnement_informatiques/Comment_présenter_un_programme_sous_thonny`. Il faudra **impérativement** appliquer les procédures qui y sont expliquées dans ce TD mais aussi **systématiquement** pendant toute l'année.\n",
    "\n",
    "$\\Longrightarrow$Tous les exercices faits en mode d'édition (ou mode programme) de ce TD doivent être enregistrés dans un fichier d'extention `.py` réalisé avec Thonny. Ce fichier devra être déposé dans votre _repository_ **travail** sur **github** en respectant la bonne arborescence !\n",
    "\n",
    "$\\Longrightarrow$Certaines questions de ce TD ne sont pas des questions où il faut écrire du code. Ces questions doivent être faites sur feuille !\n",
    "\n",
    "# Exercice 1\n",
    "\n",
    "1. Sans utiliser python, prédire quel est le type des objets suivants :\n",
    "    * 'trois'\n",
    "    * 4\n",
    "    * '5'\n",
    "    * \"6\"\n",
    "    \n",
    "    \n",
    "2. Vérifier vos réponses précédentes en utilisant Python en mode interactif"
   ]
  },
  {
   "cell_type": "code",
   "execution_count": 1,
   "metadata": {},
   "outputs": [
    {
     "data": {
      "text/plain": [
       "str"
      ]
     },
     "execution_count": 1,
     "metadata": {},
     "output_type": "execute_result"
    }
   ],
   "source": [
    "type('trois')"
   ]
  },
  {
   "cell_type": "code",
   "execution_count": 2,
   "metadata": {},
   "outputs": [
    {
     "data": {
      "text/plain": [
       "int"
      ]
     },
     "execution_count": 2,
     "metadata": {},
     "output_type": "execute_result"
    }
   ],
   "source": [
    "type(4)"
   ]
  },
  {
   "cell_type": "code",
   "execution_count": 3,
   "metadata": {},
   "outputs": [
    {
     "data": {
      "text/plain": [
       "str"
      ]
     },
     "execution_count": 3,
     "metadata": {},
     "output_type": "execute_result"
    }
   ],
   "source": [
    "type('5')"
   ]
  },
  {
   "cell_type": "code",
   "execution_count": 4,
   "metadata": {},
   "outputs": [
    {
     "data": {
      "text/plain": [
       "str"
      ]
     },
     "execution_count": 4,
     "metadata": {},
     "output_type": "execute_result"
    }
   ],
   "source": [
    "type(\"6\")"
   ]
  },
  {
   "cell_type": "markdown",
   "metadata": {},
   "source": [
    "> Soit le calcul suivant : $\\frac{4,2 + 2}{2}$. \n",
    "\n",
    "3. Un élève a écrit l'instruction python ci-dessous afin de réaliser le calcul. Exécutez l'instruction. Le résultat affiché est-il correct ?"
   ]
  },
  {
   "cell_type": "code",
   "execution_count": 5,
   "metadata": {},
   "outputs": [
    {
     "data": {
      "text/plain": [
       "(4, 3.0)"
      ]
     },
     "execution_count": 5,
     "metadata": {},
     "output_type": "execute_result"
    }
   ],
   "source": [
    "4,2 + 2 / 2"
   ]
  },
  {
   "cell_type": "markdown",
   "metadata": {},
   "source": [
    "> En programmation, ce n'est pas parce qu'il n'y a aucune erreur qui s'affiche que le code est correct !! (On reviendra un peu plus tard dans l'annnée sur la nécessité des tests en programmation). **Souvent les bugs les plus difficiles à corriger et les plus dangereux sont ceux qui ne génèrent pas de message d'erreur**, précisemment parce qu'ils peuvent passer inaperçus et les conséquences peuvent alors être très fâcheuses !!\n",
    "Un exemple très célèbre est [le vol 501 d'Ariane 5](https://fr.wikipedia.org/wiki/Vol_501_d%27Ariane_5) dont les conséquences dramatiques sont visibles [en video](https://www.youtube.com/watch?v=t7pe1ph6EI0)\n",
    "\n",
    "4. L'instruction précédente a donc été mal écrite (sans pour autant générer d'erreur) : elle ne correspond pas au calcul souhaité. Corrigez l'instruction et testez à nouveau ! (le résultat attendu est bien sûr `3.1`)"
   ]
  },
  {
   "cell_type": "code",
   "execution_count": 6,
   "metadata": {},
   "outputs": [
    {
     "data": {
      "text/plain": [
       "3.1"
      ]
     },
     "execution_count": 6,
     "metadata": {},
     "output_type": "execute_result"
    }
   ],
   "source": [
    "(4.2 + 2) / 2"
   ]
  },
  {
   "cell_type": "markdown",
   "metadata": {},
   "source": [
    "> Les messages d'erreurs en programmation sont improprement appelés message d'erreurs. On les appelle **Exceptions** et leur gestion constitue un travail du métier de programmeur (mais cette partie n'est pas au programme)\n",
    "\n",
    "# Exercice 2\n",
    "\n",
    "> Cet exercice ne se résoud évidemment pas en supprimant les `'` ou les `\"` qui _\"dérangent\"_. Cet exercice doit se faire dans le mode shell de python\n",
    "\n",
    "1. Ecrire l'instruction python pour que la variable `phrase` prenne la chaîne de caractères `Il a 16 ans.`"
   ]
  },
  {
   "cell_type": "code",
   "execution_count": 7,
   "metadata": {},
   "outputs": [],
   "source": [
    "phrase = 'Il a 16 ans.'"
   ]
  },
  {
   "cell_type": "markdown",
   "metadata": {},
   "source": [
    "2. Ecrire l'instruction python pour que la variable `phrase` prenne la chaîne de caractères `Les cheveux de Jean n'ont pas poussé`"
   ]
  },
  {
   "cell_type": "code",
   "execution_count": 8,
   "metadata": {},
   "outputs": [],
   "source": [
    "phrase = \"Les cheveux de Jean n'ont pas poussé\""
   ]
  },
  {
   "cell_type": "markdown",
   "metadata": {},
   "source": [
    "3. Lire le début de [la page wikipedia sur le caractère d'échappement](https://fr.wikipedia.org/wiki/Caract%C3%A8re_d%27%C3%A9chappement).  \n",
    "Sachant qu'en python le caractère d'échappement est `\\`, écrire l'instruction python pour que la variable `phrase` prenne la chaîne de caractères `Il a crié : \"Oui, j'arrive !\"`."
   ]
  },
  {
   "cell_type": "code",
   "execution_count": 9,
   "metadata": {},
   "outputs": [
    {
     "ename": "SyntaxError",
     "evalue": "EOL while scanning string literal (<ipython-input-9-0035f72c4a5d>, line 3)",
     "output_type": "error",
     "traceback": [
      "\u001b[1;36m  File \u001b[1;32m\"<ipython-input-9-0035f72c4a5d>\"\u001b[1;36m, line \u001b[1;32m3\u001b[0m\n\u001b[1;33m    phrase = 'Il a crié : \"Oui, j\\'arrive !\"''\u001b[0m\n\u001b[1;37m                                              ^\u001b[0m\n\u001b[1;31mSyntaxError\u001b[0m\u001b[1;31m:\u001b[0m EOL while scanning string literal\n"
     ]
    }
   ],
   "source": [
    "# 2 solutions possibles\n",
    "\n",
    "phrase = 'Il a crié : \"Oui, j\\'arrive !\"''\n",
    "\n",
    "phrase = \"Il a crié : \\\"Oui, j'arrive !\\\"\""
   ]
  },
  {
   "cell_type": "markdown",
   "metadata": {},
   "source": [
    "# Exercice 3\n",
    "\n",
    "> Cet exercice doit se faire dans la zone d'édition de Thonny. Tout ce qui se passe dans la zone d'édition peut et doit être enregistré dans un fichier puis déposé dans votre _repository_ **travail** sur github !\n",
    "\n",
    "1. Compte-tenu de ce que vous avez lu lors de l'activité 0, il y a quelquechose à faire **tout de suite** avant même de commencer cet exercice, laquelle ? Faites-le !\n",
    "\n",
    "> On considère les ordres suivants donnés par le programmeur à la machine (les mêmes que dans l'exercice 1) : \n",
    "* Machine, Enlève 6 de 20\n",
    "* Machine, Multiple 2 et 31\n",
    "* Machine, Combien de lettres possède le mot Python\n",
    "* Machine, Calcule-moi 3% de 50\n",
    "\n",
    "2. Réécrire les 4 instructions python correspondantes à ces ordres mais cette fois-ci dans la zone d'édition de Thonny. (vous êtes en train d'écrire le **code source** de votre premier programme de l'année)\n",
    "\n",
    "\n",
    "3. Lancez l'exécution du programme. Python affiche t-il les résultats ? Pourquoi ? (dans l'exercice 1, les résultats étaient bien affichés !)\n",
    "\n",
    "\n",
    "4. Ouvrir si nécessaire la zone _\"Variables\"_ de Thonny pour visualiser la mémoire. Les résultats sont-ils stockés en mémoire ?"
   ]
  },
  {
   "cell_type": "code",
   "execution_count": null,
   "metadata": {},
   "outputs": [],
   "source": [
    "20 - 6\n",
    "2 * 31\n",
    "len('Python')\n",
    "3*50/100"
   ]
  },
  {
   "cell_type": "markdown",
   "metadata": {},
   "source": [
    "> On constate que lorsque python exécute vos 4 instructions, les résultats ne sont ni affichés à l'écran ni stockés en mémoire. Autrement dit, il n'y a aucune trace du travail effectué par python. En effet, en l'état vous n'avez pas utilisé de variables pour stocker les résultats en mémoire et vous n'avez pas demandé non plus à afficher les variables. Donc python n'a rien fait de tout ça : ce qui paraît évident de faire pour un être humain ne l'est pas pour la machine : en programmation, une machine ne fait **que ce que le programmeur lui a demandé et exactement comme le programmeur lui a demandé**. \n",
    "\n",
    "**On vous demande dans les questions suivantes de modifier votre programme. Afin de conserver la réponse des questions précédentes, vous devez copier coller le code et modifier ce copié-collé pour répondre à la nouvelle question**\n",
    "\n",
    "5. Modifier le programme afin de stocker les 4 résultats dans 4 variables puis lancez l'exécution du programme. (*Choisir des noms simples pour les noms de variables.*) Les résultats sont-ils maintenant stockés en mémoire. S'affichent-ils ?"
   ]
  },
  {
   "cell_type": "code",
   "execution_count": null,
   "metadata": {},
   "outputs": [],
   "source": [
    "resultat1 = 20 - 6\n",
    "resultat2 = 2 * 31\n",
    "resultat3 = len('Python')\n",
    "resultat4 = 3*50/100"
   ]
  },
  {
   "cell_type": "markdown",
   "metadata": {},
   "source": [
    "6. Modifier le programme afin que les variables stockées soient affichées à l'écran."
   ]
  },
  {
   "cell_type": "code",
   "execution_count": null,
   "metadata": {},
   "outputs": [],
   "source": [
    "resultat1 = 20 - 6\n",
    "resultat2 = 2 * 31\n",
    "resultat3 = len('Python')\n",
    "resultat4 = 3*50/100\n",
    "\n",
    "print(resultat1)\n",
    "print(resultat2)\n",
    "print(resultat2)\n",
    "print(resultat4)"
   ]
  },
  {
   "cell_type": "markdown",
   "metadata": {},
   "source": [
    "7. Modifier le programme afin que les résultats soient affichés mais pas stockés en mémoire."
   ]
  },
  {
   "cell_type": "code",
   "execution_count": null,
   "metadata": {},
   "outputs": [],
   "source": [
    "print(20 - 6)\n",
    "print(2 * 31)\n",
    "print(len('Python'))\n",
    "print(3*50/100)"
   ]
  },
  {
   "cell_type": "markdown",
   "metadata": {},
   "source": [
    "> Une synthèse sera faite afin de :\n",
    "* ne pas confondre zone _\"Variables\"_ et zone d'affichage dans le **shell**\n",
    "* bien distinguer le rôle du programmeur (vous en NSI) du simple utilisateur du programme\n",
    "* comment utiliser les commentaires afin d'exécuter certaines parties uniquement du code.\n",
    "\n",
    "# Exercice 4\n",
    "\n",
    "> Cet exercice doit se faire en utilisant le mode d'édition de Thonny\n",
    "\n",
    "1. Prédire quel sera les valeurs de a et de b à la fin des instructions suivantes ? (utilisez l'analogie des boîtes comme dans le cours)"
   ]
  },
  {
   "cell_type": "code",
   "execution_count": null,
   "metadata": {},
   "outputs": [],
   "source": [
    "a = 42\n",
    "b = 66\n",
    "a = b\n",
    "b = a"
   ]
  },
  {
   "cell_type": "code",
   "execution_count": null,
   "metadata": {},
   "outputs": [],
   "source": [
    "print(a)\n",
    "print(b)"
   ]
  },
  {
   "cell_type": "markdown",
   "metadata": {},
   "source": [
    "2. Afin de vérifier votre réponse,  écrire les instructions (en mode édition) et exécutez-les en mode **debug** (voir mode d'emploi de Thonny dans le dossier \"outil et environnement informatiques\"\n",
    "\n",
    "\n",
    "3. Prédire quel sera les valeurs de a, b et c à la fin des instructions suivantes ? (utilisez l'analogie des boîtes comme dans le cours)"
   ]
  },
  {
   "cell_type": "code",
   "execution_count": null,
   "metadata": {},
   "outputs": [],
   "source": [
    "a = 12\n",
    "b = 8\n",
    "c = a\n",
    "a = b\n",
    "b = c"
   ]
  },
  {
   "cell_type": "code",
   "execution_count": null,
   "metadata": {},
   "outputs": [],
   "source": [
    "print(a)\n",
    "print(b)\n",
    "print(c)"
   ]
  },
  {
   "cell_type": "markdown",
   "metadata": {},
   "source": [
    "4. Afin de vérifier votre réponse,  écrire les instructions (en mode édition) et exécutez-les en mode **debug** (voir mode d'emploi de Thonny dans le dossier \"outil et environnement informatiques\""
   ]
  },
  {
   "cell_type": "markdown",
   "metadata": {},
   "source": [
    "# Exercice 5\n",
    "\n",
    "> Cet exercice doit se faire en utilisant le shell de Thonny\n",
    "\n",
    "1. Parmi les noms de variables suivantes, lesquelles **ne sont pas autorisées** et vont renvoyées des erreurs ? Donner la raison de l'erreur.\n",
    "    * mavariable \n",
    "    * toi&moi\n",
    "    * essai 1\n",
    "    * 2emeEssai\n",
    "    * LargeurRectangle\n",
    "    * ma-variable\n",
    "    * ma_variable\n",
    "    * _ma_variable\n",
    "    * MAVARIABLE\n",
    "    * nombreéchec\n",
    "    * point de vie\n",
    "\n",
    "2. Vérifiez vos réponses précédentes en utilisant Thonny. Pour cela, il suffira de les tester en leur affectant une donnée au hasard (par exemple 5)\n",
    "\n",
    "\n",
    "3. Parmi les noms de variables suivantes, lesquelles ne respectent pas **les bonnes pratiques** ? Donner la raison.\n",
    "    * x\n",
    "    * maVariable\n",
    "    * nombre\n",
    "    * mot_de_passe\n",
    "    * loginUtilisateur\n",
    "    * LongueurParcours\n",
    "    * prix_séjour"
   ]
  },
  {
   "cell_type": "markdown",
   "metadata": {},
   "source": [
    "**Réponse :**\n",
    "Il suffit de lire son cours !!!"
   ]
  },
  {
   "cell_type": "markdown",
   "metadata": {},
   "source": [
    "# Exercice 6\n",
    "\n",
    "> Cet exercice doit se faire en utilisant le shell de Thonny\n",
    "\n",
    "> Lorsque vous allez écrire du code python, il y aura des erreurs, c'est normal !! **Tous les programmeurs** font des erreurs dans leur code. Mais **ne prenez pas l'habitude de m'appeler dès qu'une erreur s'affiche**. Votre travail consistera toujours en programmation à lire le message d'erreur, le comprendre, essayer de se mettre à la place de la machine pour en déterminer l'origine. Et si on n'a pas d'idée, il faut utiliser le mode **debug**. Parfois même les programmeurs très expérimentés mettent littéralement des heures à trouver le pourquoi d'une erreur et la corriger. C'est le côté un peu \"ingrat\" de l'activité de programmeur. Rassurez-vous je ne vais pas vous laisser chercher plusieurs heures, mais c'est sûr que je vous laisserai toujours chercher avant de vous aider !!\n",
    "\n",
    "Lorsqu'une instruction n'est pas comprise par python, la machine va afficher un message d'erreur. On distingue :\n",
    "* Les erreurs de type : lorsque le type d'un objet n'autorise pas l'opération demandée\n",
    "* Les erreurs de nom : lorsque Python ne trouve pas une variable\n",
    "* Les erreurs de syntaxe : lorsqu'une instruction est mal écrite, incomplète ou n'a pas de sens\n",
    "* Les erreurs d'indentation : lorsque le code écrit n'est pas bien aligné et collé sur le bord gauche (on verra par la suite pourquoi c'est important)\n",
    "* L'erreur `ZeroDivisionError` : qui est très explicite !\n",
    "\n",
    "Les codes suivants vont tous générer des erreurs. C'est fait exprès !!"
   ]
  },
  {
   "cell_type": "markdown",
   "metadata": {},
   "source": [
    "1. Avant de les exécuter, prédire s'il s'agit d'une erreur de type (`TypeError`), d'une erreur de nom (`NameError`), d'une erreur de syntaxe (`SyntaxError`), d'une erreur d'indentation(`IndentationError`) ou d'une erreur `ZeroDivisionError`. Préciser à quel endroit du code, Python ne comprend plus.\n",
    "\n",
    "\n",
    "2. En tappant le code dans python (en mode d'édition), vérifier si vous avez trouvé la bonne erreur et si python s'est arrété à l'endroit que vous avez prédit (python marque d'un symbole `^` l'endroit où il ne comprend plus)\n",
    "\n",
    "\n",
    "3. Corriger le code et vérifier qu'il n'y a plus de message d'erreur"
   ]
  },
  {
   "cell_type": "code",
   "execution_count": 10,
   "metadata": {},
   "outputs": [
    {
     "ename": "SyntaxError",
     "evalue": "EOL while scanning string literal (<ipython-input-10-600a5704cc4f>, line 2)",
     "output_type": "error",
     "traceback": [
      "\u001b[1;36m  File \u001b[1;32m\"<ipython-input-10-600a5704cc4f>\"\u001b[1;36m, line \u001b[1;32m2\u001b[0m\n\u001b[1;33m    mot = 'informatique\u001b[0m\n\u001b[1;37m                       ^\u001b[0m\n\u001b[1;31mSyntaxError\u001b[0m\u001b[1;31m:\u001b[0m EOL while scanning string literal\n"
     ]
    }
   ],
   "source": [
    "# code 1\n",
    "mot = 'informatique"
   ]
  },
  {
   "cell_type": "code",
   "execution_count": 11,
   "metadata": {},
   "outputs": [
    {
     "ename": "SyntaxError",
     "evalue": "can't assign to literal (<ipython-input-11-d7fb8bb2fd20>, line 2)",
     "output_type": "error",
     "traceback": [
      "\u001b[1;36m  File \u001b[1;32m\"<ipython-input-11-d7fb8bb2fd20>\"\u001b[1;36m, line \u001b[1;32m2\u001b[0m\n\u001b[1;33m    3 = variable\u001b[0m\n\u001b[1;37m                ^\u001b[0m\n\u001b[1;31mSyntaxError\u001b[0m\u001b[1;31m:\u001b[0m can't assign to literal\n"
     ]
    }
   ],
   "source": [
    "# code 2\n",
    "3 = variable"
   ]
  },
  {
   "cell_type": "code",
   "execution_count": 12,
   "metadata": {},
   "outputs": [
    {
     "ename": "IndentationError",
     "evalue": "unexpected indent (<ipython-input-12-6c3cab8d5bf3>, line 4)",
     "output_type": "error",
     "traceback": [
      "\u001b[1;36m  File \u001b[1;32m\"<ipython-input-12-6c3cab8d5bf3>\"\u001b[1;36m, line \u001b[1;32m4\u001b[0m\n\u001b[1;33m    y = x\u001b[0m\n\u001b[1;37m    ^\u001b[0m\n\u001b[1;31mIndentationError\u001b[0m\u001b[1;31m:\u001b[0m unexpected indent\n"
     ]
    }
   ],
   "source": [
    "# code 3\n",
    "x = 5\n",
    "x = x + 2\n",
    " y = x"
   ]
  },
  {
   "cell_type": "code",
   "execution_count": 13,
   "metadata": {},
   "outputs": [
    {
     "ename": "TypeError",
     "evalue": "unsupported operand type(s) for +: 'int' and 'str'",
     "output_type": "error",
     "traceback": [
      "\u001b[1;31m---------------------------------------------------------------------------\u001b[0m",
      "\u001b[1;31mTypeError\u001b[0m                                 Traceback (most recent call last)",
      "\u001b[1;32m<ipython-input-13-808be65950fb>\u001b[0m in \u001b[0;36m<module>\u001b[1;34m\u001b[0m\n\u001b[0;32m      1\u001b[0m \u001b[1;31m# code 4\u001b[0m\u001b[1;33m\u001b[0m\u001b[1;33m\u001b[0m\u001b[1;33m\u001b[0m\u001b[0m\n\u001b[1;32m----> 2\u001b[1;33m \u001b[1;36m54\u001b[0m \u001b[1;33m+\u001b[0m \u001b[1;34m'4'\u001b[0m\u001b[1;33m\u001b[0m\u001b[1;33m\u001b[0m\u001b[0m\n\u001b[0m",
      "\u001b[1;31mTypeError\u001b[0m: unsupported operand type(s) for +: 'int' and 'str'"
     ]
    }
   ],
   "source": [
    "# code 4\n",
    "54 + '4'"
   ]
  },
  {
   "cell_type": "code",
   "execution_count": null,
   "metadata": {},
   "outputs": [],
   "source": [
    "# code 5\n",
    "x = (2 * (9 +2)"
   ]
  },
  {
   "cell_type": "code",
   "execution_count": 14,
   "metadata": {},
   "outputs": [
    {
     "ename": "NameError",
     "evalue": "name 'Truc' is not defined",
     "output_type": "error",
     "traceback": [
      "\u001b[1;31m---------------------------------------------------------------------------\u001b[0m",
      "\u001b[1;31mNameError\u001b[0m                                 Traceback (most recent call last)",
      "\u001b[1;32m<ipython-input-14-1bc6acce7aca>\u001b[0m in \u001b[0;36m<module>\u001b[1;34m\u001b[0m\n\u001b[0;32m      1\u001b[0m \u001b[1;31m# code 6\u001b[0m\u001b[1;33m\u001b[0m\u001b[1;33m\u001b[0m\u001b[1;33m\u001b[0m\u001b[0m\n\u001b[0;32m      2\u001b[0m \u001b[0mtruc\u001b[0m \u001b[1;33m=\u001b[0m \u001b[1;36m34\u001b[0m\u001b[1;33m\u001b[0m\u001b[1;33m\u001b[0m\u001b[0m\n\u001b[1;32m----> 3\u001b[1;33m \u001b[0mtruc\u001b[0m \u001b[1;33m=\u001b[0m \u001b[0mTruc\u001b[0m \u001b[1;33m+\u001b[0m \u001b[1;36m6\u001b[0m\u001b[1;33m\u001b[0m\u001b[1;33m\u001b[0m\u001b[0m\n\u001b[0m",
      "\u001b[1;31mNameError\u001b[0m: name 'Truc' is not defined"
     ]
    }
   ],
   "source": [
    "# code 6\n",
    "truc = 34\n",
    "truc = Truc + 6"
   ]
  },
  {
   "cell_type": "code",
   "execution_count": 15,
   "metadata": {},
   "outputs": [
    {
     "ename": "TypeError",
     "evalue": "unsupported operand type(s) for /: 'str' and 'int'",
     "output_type": "error",
     "traceback": [
      "\u001b[1;31m---------------------------------------------------------------------------\u001b[0m",
      "\u001b[1;31mTypeError\u001b[0m                                 Traceback (most recent call last)",
      "\u001b[1;32m<ipython-input-15-f51a21cecc0c>\u001b[0m in \u001b[0;36m<module>\u001b[1;34m\u001b[0m\n\u001b[0;32m      1\u001b[0m \u001b[1;31m# code 7\u001b[0m\u001b[1;33m\u001b[0m\u001b[1;33m\u001b[0m\u001b[1;33m\u001b[0m\u001b[0m\n\u001b[1;32m----> 2\u001b[1;33m \u001b[1;34m'35'\u001b[0m \u001b[1;33m/\u001b[0m \u001b[1;36m2\u001b[0m\u001b[1;33m\u001b[0m\u001b[1;33m\u001b[0m\u001b[0m\n\u001b[0m",
      "\u001b[1;31mTypeError\u001b[0m: unsupported operand type(s) for /: 'str' and 'int'"
     ]
    }
   ],
   "source": [
    "# code 7\n",
    "'35' / 2"
   ]
  },
  {
   "cell_type": "code",
   "execution_count": 16,
   "metadata": {},
   "outputs": [
    {
     "ename": "TypeError",
     "evalue": "object of type 'int' has no len()",
     "output_type": "error",
     "traceback": [
      "\u001b[1;31m---------------------------------------------------------------------------\u001b[0m",
      "\u001b[1;31mTypeError\u001b[0m                                 Traceback (most recent call last)",
      "\u001b[1;32m<ipython-input-16-e856dbd08249>\u001b[0m in \u001b[0;36m<module>\u001b[1;34m\u001b[0m\n\u001b[0;32m      1\u001b[0m \u001b[1;31m# code 8\u001b[0m\u001b[1;33m\u001b[0m\u001b[1;33m\u001b[0m\u001b[1;33m\u001b[0m\u001b[0m\n\u001b[1;32m----> 2\u001b[1;33m \u001b[0mlen\u001b[0m\u001b[1;33m(\u001b[0m\u001b[1;36m1234\u001b[0m\u001b[1;33m)\u001b[0m\u001b[1;33m\u001b[0m\u001b[1;33m\u001b[0m\u001b[0m\n\u001b[0m",
      "\u001b[1;31mTypeError\u001b[0m: object of type 'int' has no len()"
     ]
    }
   ],
   "source": [
    "# code 8\n",
    "len(1234)"
   ]
  },
  {
   "cell_type": "code",
   "execution_count": 17,
   "metadata": {},
   "outputs": [
    {
     "ename": "SyntaxError",
     "evalue": "Missing parentheses in call to 'print'. Did you mean print(4 + 5)? (<ipython-input-17-c459ecc0fc47>, line 2)",
     "output_type": "error",
     "traceback": [
      "\u001b[1;36m  File \u001b[1;32m\"<ipython-input-17-c459ecc0fc47>\"\u001b[1;36m, line \u001b[1;32m2\u001b[0m\n\u001b[1;33m    print 4 + 5\u001b[0m\n\u001b[1;37m          ^\u001b[0m\n\u001b[1;31mSyntaxError\u001b[0m\u001b[1;31m:\u001b[0m Missing parentheses in call to 'print'. Did you mean print(4 + 5)?\n"
     ]
    }
   ],
   "source": [
    "# code 9\n",
    "print 4 + 5"
   ]
  },
  {
   "cell_type": "code",
   "execution_count": 18,
   "metadata": {},
   "outputs": [
    {
     "ename": "NameError",
     "evalue": "name 'var' is not defined",
     "output_type": "error",
     "traceback": [
      "\u001b[1;31m---------------------------------------------------------------------------\u001b[0m",
      "\u001b[1;31mNameError\u001b[0m                                 Traceback (most recent call last)",
      "\u001b[1;32m<ipython-input-18-345bc1909dc2>\u001b[0m in \u001b[0;36m<module>\u001b[1;34m\u001b[0m\n\u001b[0;32m      1\u001b[0m \u001b[1;31m# code 10\u001b[0m\u001b[1;33m\u001b[0m\u001b[1;33m\u001b[0m\u001b[1;33m\u001b[0m\u001b[0m\n\u001b[1;32m----> 2\u001b[1;33m \u001b[0mtype\u001b[0m\u001b[1;33m(\u001b[0m\u001b[0mvar\u001b[0m\u001b[1;33m)\u001b[0m\u001b[1;33m\u001b[0m\u001b[1;33m\u001b[0m\u001b[0m\n\u001b[0m",
      "\u001b[1;31mNameError\u001b[0m: name 'var' is not defined"
     ]
    }
   ],
   "source": [
    "# code 10\n",
    "type(var)"
   ]
  },
  {
   "cell_type": "code",
   "execution_count": 19,
   "metadata": {},
   "outputs": [
    {
     "ename": "SyntaxError",
     "evalue": "invalid syntax (<ipython-input-19-81701813aea2>, line 2)",
     "output_type": "error",
     "traceback": [
      "\u001b[1;36m  File \u001b[1;32m\"<ipython-input-19-81701813aea2>\"\u001b[1;36m, line \u001b[1;32m2\u001b[0m\n\u001b[1;33m    mot = 'l'informatique'\u001b[0m\n\u001b[1;37m                        ^\u001b[0m\n\u001b[1;31mSyntaxError\u001b[0m\u001b[1;31m:\u001b[0m invalid syntax\n"
     ]
    }
   ],
   "source": [
    "# code 11\n",
    "mot = 'l'informatique'"
   ]
  },
  {
   "cell_type": "code",
   "execution_count": 20,
   "metadata": {},
   "outputs": [
    {
     "name": "stdout",
     "output_type": "stream",
     "text": [
      "9\n"
     ]
    }
   ],
   "source": [
    "# Ci dessous les codes corrigés\n",
    "\n",
    "# code 1\n",
    "mot = 'informatique'\n",
    "\n",
    "# code 2\n",
    "variable = 3\n",
    "\n",
    "# code 3\n",
    "x = 5\n",
    "x = x + 2\n",
    "y = x\n",
    "\n",
    "# code 4 : 2 solutions\n",
    "54 + 4\n",
    "'54' + '4'\n",
    "# code 5\n",
    "x = (2 * (9 +2))\n",
    "\n",
    "# code 6\n",
    "truc = 34\n",
    "truc = truc + 6\n",
    "\n",
    "# code 7\n",
    "35 / 2\n",
    "\n",
    "# code 8\n",
    "len('1234')\n",
    "\n",
    "# code 9\n",
    "print(4 + 5)\n",
    "\n",
    "# code 10\n",
    "var = 12 # par exemple\n",
    "type(var)\n",
    "\n",
    "# code 11\n",
    "mot = 'l\\'informatique'"
   ]
  },
  {
   "cell_type": "markdown",
   "metadata": {},
   "source": [
    "# Exercice 7\n",
    "\n",
    "> Cet exercice doit se faire en utilisant le shell de Thonny\n",
    "\n",
    "1. Traduire en langage python les expressions mathématiques suivantes :\n",
    "    * $3^2+2^3$\n",
    "    * $\\frac{5}{3} \\times \\frac{9}{2} + 12$\n",
    "    * $(\\frac{36}{25})^2$\n",
    "    \n",
    "\n",
    "2. Si les résultats affichés par Thonny ne sont pas respectivement 17 19.5 et 2.0736, c'est que vous vous êtes trompés dans leur écriture en langage python. Dans ce cas, trouvez l'erreur !"
   ]
  },
  {
   "cell_type": "code",
   "execution_count": 21,
   "metadata": {},
   "outputs": [
    {
     "data": {
      "text/plain": [
       "17"
      ]
     },
     "execution_count": 21,
     "metadata": {},
     "output_type": "execute_result"
    }
   ],
   "source": [
    "3**2 + 2**3"
   ]
  },
  {
   "cell_type": "code",
   "execution_count": 22,
   "metadata": {},
   "outputs": [
    {
     "data": {
      "text/plain": [
       "19.5"
      ]
     },
     "execution_count": 22,
     "metadata": {},
     "output_type": "execute_result"
    }
   ],
   "source": [
    "5/3 * 9/2 + 12"
   ]
  },
  {
   "cell_type": "code",
   "execution_count": 23,
   "metadata": {},
   "outputs": [
    {
     "data": {
      "text/plain": [
       "2.0736"
      ]
     },
     "execution_count": 23,
     "metadata": {},
     "output_type": "execute_result"
    }
   ],
   "source": [
    "(36/25)**2"
   ]
  },
  {
   "cell_type": "markdown",
   "metadata": {},
   "source": [
    "3. Écrivez les formules mathématiques suivantes sous forme d'expressions Python, et calculez les pour $a=1$, $b=2$, $c=3$ et $d=4$. bien sûr dans le cas où le résultat affiché par python n'est pas le bon, c'est que votre instruction python a été mal écrite et il faut trouver l'erreur !\n",
    "    * $(a + b)^2$\n",
    "    * $a^2 + 2ab + b^2$\n",
    "    * $\\frac{a+b}{c + d}$\n",
    "    * $\\frac{1}{a+1}$"
   ]
  },
  {
   "cell_type": "code",
   "execution_count": 24,
   "metadata": {},
   "outputs": [
    {
     "data": {
      "text/plain": [
       "0.5"
      ]
     },
     "execution_count": 24,
     "metadata": {},
     "output_type": "execute_result"
    }
   ],
   "source": [
    "a = 1\n",
    "b = 2\n",
    "c = 3\n",
    "d = 4\n",
    "(a + b)**2\n",
    "a**2 + 2*a*b + b**2\n",
    "(a + b) / (c + d)\n",
    "1/(a + 1)"
   ]
  },
  {
   "cell_type": "markdown",
   "metadata": {},
   "source": [
    "# Exercice 8\n",
    "\n",
    "1. Prédire les résultats des instructions python suivantes\n",
    "    * 7 + 2 / 3\n",
    "    * 7 + 2 // 3\n",
    "    * 7 + 2 % 3\n",
    "    \n",
    "    \n",
    "2. Vérifier à l'aide de thonny en mode shell que vous avez trouvé le bon résultat à la question précédente. Puis indiquer la signification des trois opérateurs `/`, `//` et `%`"
   ]
  },
  {
   "cell_type": "code",
   "execution_count": 25,
   "metadata": {},
   "outputs": [
    {
     "data": {
      "text/plain": [
       "7.666666666666667"
      ]
     },
     "execution_count": 25,
     "metadata": {},
     "output_type": "execute_result"
    }
   ],
   "source": [
    "7 + 2 / 3 # / division \"classique\""
   ]
  },
  {
   "cell_type": "code",
   "execution_count": 26,
   "metadata": {},
   "outputs": [
    {
     "data": {
      "text/plain": [
       "7"
      ]
     },
     "execution_count": 26,
     "metadata": {},
     "output_type": "execute_result"
    }
   ],
   "source": [
    "7 + 2 // 3 # // quotient de la division euclidienne"
   ]
  },
  {
   "cell_type": "code",
   "execution_count": 27,
   "metadata": {},
   "outputs": [
    {
     "data": {
      "text/plain": [
       "9"
      ]
     },
     "execution_count": 27,
     "metadata": {},
     "output_type": "execute_result"
    }
   ],
   "source": [
    "7 + 2 % 3 # % reste de la division euclidienne"
   ]
  },
  {
   "cell_type": "markdown",
   "metadata": {},
   "source": [
    "3. Prédire les résultats des instructions python suivantes\n",
    "    * 5 + 2\n",
    "    * '5' + '2'\n",
    "    * '5' + 2\n",
    "    * 5 + '2'\n",
    "\n",
    "\n",
    "4. Vérifier à l'aide de thonny en mode shell que vous avez trouvé le bon résultat à la question précédente. Expliquer pourquoi python affiche une erreur sur 2 de ces instructions"
   ]
  },
  {
   "cell_type": "code",
   "execution_count": 28,
   "metadata": {},
   "outputs": [
    {
     "data": {
      "text/plain": [
       "7"
      ]
     },
     "execution_count": 28,
     "metadata": {},
     "output_type": "execute_result"
    }
   ],
   "source": [
    "5 + 2"
   ]
  },
  {
   "cell_type": "code",
   "execution_count": 29,
   "metadata": {},
   "outputs": [
    {
     "data": {
      "text/plain": [
       "'52'"
      ]
     },
     "execution_count": 29,
     "metadata": {},
     "output_type": "execute_result"
    }
   ],
   "source": [
    "'5' + '2'"
   ]
  },
  {
   "cell_type": "code",
   "execution_count": 30,
   "metadata": {},
   "outputs": [
    {
     "ename": "TypeError",
     "evalue": "can only concatenate str (not \"int\") to str",
     "output_type": "error",
     "traceback": [
      "\u001b[1;31m---------------------------------------------------------------------------\u001b[0m",
      "\u001b[1;31mTypeError\u001b[0m                                 Traceback (most recent call last)",
      "\u001b[1;32m<ipython-input-30-26afdbbb5fd1>\u001b[0m in \u001b[0;36m<module>\u001b[1;34m\u001b[0m\n\u001b[1;32m----> 1\u001b[1;33m \u001b[1;34m'5'\u001b[0m \u001b[1;33m+\u001b[0m \u001b[1;36m2\u001b[0m \u001b[1;31m# + opérateur impossible entre une donnée de type chaîne de caractères et une donnée de type entier\u001b[0m\u001b[1;33m\u001b[0m\u001b[1;33m\u001b[0m\u001b[0m\n\u001b[0m",
      "\u001b[1;31mTypeError\u001b[0m: can only concatenate str (not \"int\") to str"
     ]
    }
   ],
   "source": [
    "'5' + 2 # + opérateur impossible entre une donnée de type chaîne de caractères et une donnée de type entier"
   ]
  },
  {
   "cell_type": "code",
   "execution_count": 31,
   "metadata": {},
   "outputs": [
    {
     "ename": "TypeError",
     "evalue": "unsupported operand type(s) for +: 'int' and 'str'",
     "output_type": "error",
     "traceback": [
      "\u001b[1;31m---------------------------------------------------------------------------\u001b[0m",
      "\u001b[1;31mTypeError\u001b[0m                                 Traceback (most recent call last)",
      "\u001b[1;32m<ipython-input-31-f5b96ee5e1c7>\u001b[0m in \u001b[0;36m<module>\u001b[1;34m\u001b[0m\n\u001b[1;32m----> 1\u001b[1;33m \u001b[1;36m5\u001b[0m \u001b[1;33m+\u001b[0m \u001b[1;34m'2'\u001b[0m \u001b[1;31m# + opérateur impossible entre une donnée de type chaîne de caractères et une donnée de type entier\u001b[0m\u001b[1;33m\u001b[0m\u001b[1;33m\u001b[0m\u001b[0m\n\u001b[0m",
      "\u001b[1;31mTypeError\u001b[0m: unsupported operand type(s) for +: 'int' and 'str'"
     ]
    }
   ],
   "source": [
    "5 + '2' # + opérateur impossible entre une donnée de type chaîne de caractères et une donnée de type entier"
   ]
  },
  {
   "cell_type": "markdown",
   "metadata": {},
   "source": [
    "5. Prédire les résultats des instructions python suivantes\n",
    "    * type('Python')\n",
    "    * len('Python')\n",
    "    * type(len('Python'))\n",
    "    \n",
    "    \n",
    "6. Vérifier à l'aide de thonny en mode shell que vous avez trouvé le bon résultat à la question précédente."
   ]
  },
  {
   "cell_type": "code",
   "execution_count": 32,
   "metadata": {},
   "outputs": [
    {
     "data": {
      "text/plain": [
       "str"
      ]
     },
     "execution_count": 32,
     "metadata": {},
     "output_type": "execute_result"
    }
   ],
   "source": [
    "type('Python')"
   ]
  },
  {
   "cell_type": "code",
   "execution_count": 33,
   "metadata": {},
   "outputs": [
    {
     "data": {
      "text/plain": [
       "6"
      ]
     },
     "execution_count": 33,
     "metadata": {},
     "output_type": "execute_result"
    }
   ],
   "source": [
    "len('Python')"
   ]
  },
  {
   "cell_type": "code",
   "execution_count": 34,
   "metadata": {},
   "outputs": [
    {
     "data": {
      "text/plain": [
       "int"
      ]
     },
     "execution_count": 34,
     "metadata": {},
     "output_type": "execute_result"
    }
   ],
   "source": [
    "type(len('Python'))"
   ]
  },
  {
   "cell_type": "markdown",
   "metadata": {},
   "source": [
    "# Exercice 9\n",
    "\n",
    "> Cet exercice doit se faire en utilisant le mode d'édition de Thonny\n",
    "\n",
    "Pour chacun des code source 1 à 4 : \n",
    "\n",
    "1. Prédire quel sera les valeurs de toutes les variables utilisées dans le code source à la fin des instructions suivantes ? (utilisez l'analogie des boîtes comme dans le cours)\n",
    "\n",
    "2. Afin de vérifier votre réponse,  écrire les instructions (en mode édition) et exécutez-les en mode **debug** (voir mode d'emploi de Thonny dans le dossier \"outil et environnement informatiques\""
   ]
  },
  {
   "cell_type": "code",
   "execution_count": 35,
   "metadata": {},
   "outputs": [],
   "source": [
    "# code source 1\n",
    "a = 12\n",
    "b = a + 1\n",
    "c = a\n",
    "a = a + 1\n",
    "b = 13"
   ]
  },
  {
   "cell_type": "code",
   "execution_count": 36,
   "metadata": {},
   "outputs": [
    {
     "name": "stdout",
     "output_type": "stream",
     "text": [
      "13\n",
      "13\n",
      "12\n"
     ]
    }
   ],
   "source": [
    "print(a)\n",
    "print(b)\n",
    "print(c)"
   ]
  },
  {
   "cell_type": "code",
   "execution_count": 37,
   "metadata": {},
   "outputs": [],
   "source": [
    "# code source 2\n",
    "toto = 13.4\n",
    "Toto = 10.5\n",
    "Toto = Toto-5.5"
   ]
  },
  {
   "cell_type": "code",
   "execution_count": 38,
   "metadata": {},
   "outputs": [
    {
     "name": "stdout",
     "output_type": "stream",
     "text": [
      "13.4\n",
      "5.0\n"
     ]
    }
   ],
   "source": [
    "print(toto)\n",
    "print(Toto)"
   ]
  },
  {
   "cell_type": "code",
   "execution_count": 39,
   "metadata": {},
   "outputs": [],
   "source": [
    "# code source 3\n",
    "a = '10'\n",
    "b = '2'\n",
    "c = a + b"
   ]
  },
  {
   "cell_type": "code",
   "execution_count": 40,
   "metadata": {},
   "outputs": [
    {
     "name": "stdout",
     "output_type": "stream",
     "text": [
      "10\n",
      "2\n",
      "102\n"
     ]
    }
   ],
   "source": [
    "print(a)\n",
    "print(b)\n",
    "print(c)"
   ]
  },
  {
   "cell_type": "code",
   "execution_count": 41,
   "metadata": {},
   "outputs": [],
   "source": [
    "# code source 4\n",
    "a = \"4*5\"\n",
    "a = a + '6'"
   ]
  },
  {
   "cell_type": "code",
   "execution_count": 42,
   "metadata": {},
   "outputs": [
    {
     "name": "stdout",
     "output_type": "stream",
     "text": [
      "4*56\n"
     ]
    }
   ],
   "source": [
    "print(a)"
   ]
  },
  {
   "cell_type": "markdown",
   "metadata": {},
   "source": [
    "# Exercice 10\n",
    "\n",
    "> Cet exercice doit être réalisé en utilisant Thonny en mode programme\n",
    "\n",
    "> Cet exercice ne se résoud évidemment pas en écrivant `n2 = 'Un'` et `n1 = 'Deux'`. Pour ceux qui recherchent sur internet, il ne s'agit pas non plus d'écrire `n1, n2 = n2 , n1`\n",
    "\n",
    "Observez les deux lignes de code Python suivantes"
   ]
  },
  {
   "cell_type": "code",
   "execution_count": 43,
   "metadata": {},
   "outputs": [],
   "source": [
    "n1 = 'Un'\n",
    "n2 = 'Deux'"
   ]
  },
  {
   "cell_type": "markdown",
   "metadata": {},
   "source": [
    "Cherchez une méthode pour échanger les valeurs des deux variables : à la fin, n1 doit contenir la valeur 'Deux' et n2 doit contenir 'Un'. Ecrivez les instructions en python  à écrire à la suite de ces deux instructions qui permettent d'appliquer cette méthode puis testez\n",
    "\n",
    "**Indice : Comme dans le cours, imaginez que n1 et n2 sont des boîtes, comment feriez-vous ?**"
   ]
  },
  {
   "cell_type": "code",
   "execution_count": 44,
   "metadata": {},
   "outputs": [],
   "source": [
    "# Il suffit d'utiliser une variable temporaire\n",
    "n1 = 'Un'\n",
    "n2 = 'Deux'\n",
    "\n",
    "tmp = n1\n",
    "n1 = n2\n",
    "n2 =tmp"
   ]
  },
  {
   "cell_type": "code",
   "execution_count": 45,
   "metadata": {},
   "outputs": [
    {
     "name": "stdout",
     "output_type": "stream",
     "text": [
      "Deux\n"
     ]
    }
   ],
   "source": [
    "print (n1)"
   ]
  },
  {
   "cell_type": "code",
   "execution_count": 46,
   "metadata": {},
   "outputs": [
    {
     "name": "stdout",
     "output_type": "stream",
     "text": [
      "Un\n"
     ]
    }
   ],
   "source": [
    "print(n2)"
   ]
  },
  {
   "cell_type": "markdown",
   "metadata": {},
   "source": [
    "# Exercice 11\n",
    "\n",
    "> Cet exercice doit être réalisé en utilisant Thonny en mode programme\n",
    "\n",
    "Soient c1 et c2 les longueurs des deux côtés de l'angle droit d'un triangle rectangle. \n",
    "Supposons que c1 = 4 et c2 = 5\n",
    "\n",
    "Ecrire le code python permettant de calculer d'afficher la valeur de l'hypothénuse h. Pour cela, vous aurez besoin que python calcule une racine carrée : le code ci-dessous devrait vous être utile..."
   ]
  },
  {
   "cell_type": "code",
   "execution_count": 47,
   "metadata": {},
   "outputs": [
    {
     "data": {
      "text/plain": [
       "5.0"
      ]
     },
     "execution_count": 47,
     "metadata": {},
     "output_type": "execute_result"
    }
   ],
   "source": [
    "# Le code ci-dessous permet de calculer la racine carrée de 25\n",
    "from math import sqrt\n",
    "sqrt(25)"
   ]
  },
  {
   "cell_type": "code",
   "execution_count": 48,
   "metadata": {},
   "outputs": [
    {
     "name": "stdout",
     "output_type": "stream",
     "text": [
      "6.4031242374328485\n"
     ]
    }
   ],
   "source": [
    "from math import sqrt\n",
    "\n",
    "c1 = 4\n",
    "c2 = 5\n",
    "\n",
    "h = c1**2 + c2**2\n",
    "h = sqrt(h)\n",
    "\n",
    "print(h)"
   ]
  },
  {
   "cell_type": "markdown",
   "metadata": {},
   "source": [
    "# Exercice 12\n",
    "\n",
    "> Cet exercice doit être réalisé en utilisant Thonny en mode programme\n",
    "\n",
    "Le numéro de sécurité sociale est constitué de 13 chiffres auquel s'ajoute la clé de contrôle (2 chiffres). ![Secu](img/Securite_sociale.png)\n",
    " \n",
    "La clé de contrôle est calculée de la façon suivante :\n",
    "\n",
    "1. On calcule le reste de la division euclidienne du numéro de sécurité sociale (sans les 2 derniers chiffres) par 97\n",
    "2. La clé de contrôle est égale à 97 moins le nombre trouvé au 1.\n",
    "\n",
    "**Travail à faire :**\n",
    "\n",
    "1. Soit `num_secu_sans_cle` la variable stockant un numéro de sécurité sociale sans les 2 derniers chiffres. Ecrire un programme qui calcule et affiche la clé de contrôle.\n",
    "2. Tester votre programme en utilisant votre carte de sécurité sociale : vous devriez retrouver les 2 derniers chiffres\n",
    "3. Modifier 1 seul chiffre de votre carte de sécurité sociale : vous devriez constater que les 2 derniers chiffres ont changé. En déduire l'intérêt que peut avoir la clé de contrôle.\n",
    "4. Aller sur ce [site web](http://mon-convertisseur.fr/calculateur-cle-numero-securite-sociale.php). Vous constaterez que ce site met en oeuvre un programme du même type que vous venez d'écrire car il _\"devine\"_ les 2 derniers chiffres d'un numéro de sécurité sociale\n"
   ]
  },
  {
   "cell_type": "code",
   "execution_count": 49,
   "metadata": {},
   "outputs": [
    {
     "name": "stdout",
     "output_type": "stream",
     "text": [
      "80\n"
     ]
    }
   ],
   "source": [
    "num_secu_sans_cle = 2690549588157 # Pour l'exemple : Comme sur l'image\n",
    "\n",
    "cle = num_secu_sans_cle % 97\n",
    "cle = 97 - cle\n",
    "\n",
    "print(cle) \n",
    "\n",
    "# La clé de contrôle permet de vérifier la validité d'un numéro de sécurité sociale\n",
    "# Il suffit de recalculer la clé de controle et de vérifier si on retrouve bien les 2 derniers chiffres. \n",
    "# Si ce n'est pas le cas, c'est que le numéro n'est pas valide "
   ]
  }
 ],
 "metadata": {
  "kernelspec": {
   "display_name": "Python 3",
   "language": "python",
   "name": "python3"
  },
  "language_info": {
   "codemirror_mode": {
    "name": "ipython",
    "version": 3
   },
   "file_extension": ".py",
   "mimetype": "text/x-python",
   "name": "python",
   "nbconvert_exporter": "python",
   "pygments_lexer": "ipython3",
   "version": "3.7.2"
  }
 },
 "nbformat": 4,
 "nbformat_minor": 4
}
