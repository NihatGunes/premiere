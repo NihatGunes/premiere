{
 "cells": [
  {
   "cell_type": "markdown",
   "metadata": {},
   "source": [
    "# Notion de séquence\n",
    "\n",
    "Une séquence est une **suite d'objets**\n",
    "\n",
    "## Une séquence ordonnée de caractères : le type `str`\n",
    "\n",
    "Tout objet de type `str` peut être considéré comme une suite ordonnée de caractères\n",
    "\n",
    "### Exemple\n",
    "\n",
    "* `\"python\"` est la suite des caractères `'p'`, `'y'`, `'t'`, `'h'`, `'o'`, `'n'`\n",
    "\n",
    "## Une séquence ordonnée d'entiers : la fonction `range`\n",
    "\n",
    "*(Voir [documentation officielle](https://docs.python.org/fr/3/library/stdtypes.html#range) pour plus d'informations)*\n",
    "\n",
    "`range` permet de créer une **séquence ordonnée d'entier** . Les paramètres de la fonction `range` sont toujours des entiers.\n",
    "\n",
    "* Pour créer une séquence ordonnée d'entier de 0 **inclus** à x **exlu** :\n",
    "```python\n",
    "range(x)\n",
    "```\n",
    "\n",
    "\n",
    "* Pour créer une séquence ordonnée d'entier de a **inclus** à b **exlu** :\n",
    "```python\n",
    "range(a,b)\n",
    "```\n",
    "\n",
    "\n",
    "* Pour créer une séquence ordonnée d'entier de a **inclus** à b **exlu** par pas de p :\n",
    "```python\n",
    "range(a,b,p)\n",
    "```\n",
    "\n",
    "### Exemple\n",
    "\n",
    "* `range(10)` est donc la suite `0, 1, 2, 3, 4, 5, 6, 7, 8, 9`\n",
    "* `range(5,10)` est donc la suite `5, 6, 7, 8, 9`\n",
    "* `range(5,10,2)` est donc la suite `5, 7, 9`\n",
    "\n",
    "**Remarque 1 :** Si on tappe `range(10)` dans l'interpréteur python, il n'affiche pas la suite `0, 1, 2, 3, 4, 5, 6, 7, 8, 9`. Ceci est dû au fait que `range` est un itérateur (notion avancée de programmation). En niveau pré-bac, rappelez-vous que c'est équivalent à la suite `0, 1, 2, 3, 4, 5, 6, 7, 8, 9`...\n",
    "\n",
    "**Remarque 2 :** Les **listes** et les **dictionnaires** (qui sont d'autres types d'objets en python que l'on verra plus tard) sont aussi des séquences \n",
    "\n",
    "# Qu'est-ce qu'une boucle ?\n",
    "\n",
    "Une boucle consiste à répéter l'exécution d'un bloc d'instructions un certains nombres de fois\n",
    "\n",
    "## Un peu de vocabulaire\n",
    "\n",
    "* [**Incrémentation**](https://fr.wikipedia.org/wiki/Incr%C3%A9mentation) : C'est **ajouter 1 à une variable**. C'est une action tellement courante en programmation qu'il existe un opérateur particulier pour ça. En python `+=`"
   ]
  },
  {
   "cell_type": "code",
   "execution_count": 2,
   "metadata": {},
   "outputs": [
    {
     "name": "stdout",
     "output_type": "stream",
     "text": [
      "la variable est égale à 5\n",
      "\n",
      "Incrémentation de la variable\n",
      "\n",
      "la variable est égale à 6\n"
     ]
    }
   ],
   "source": [
    "i = 5\n",
    "print (\"la variable est égale à\", i)\n",
    "print(\"\\nIncrémentation de la variable\\n\")\n",
    "i = i + 1\n",
    "print (\"la variable est égale à\", i)"
   ]
  },
  {
   "cell_type": "code",
   "execution_count": 3,
   "metadata": {},
   "outputs": [
    {
     "name": "stdout",
     "output_type": "stream",
     "text": [
      "la variable est égale à 5\n",
      "\n",
      "Incrémentation de la variable\n",
      "\n",
      "la variable est égale à 6\n"
     ]
    }
   ],
   "source": [
    "# Utilisation de l'opérateur +=\n",
    "i = 5\n",
    "print (\"la variable est égale à\", i)\n",
    "print(\"\\nIncrémentation de la variable\\n\")\n",
    "i += 1\n",
    "print (\"la variable est égale à\", i)"
   ]
  },
  {
   "cell_type": "markdown",
   "metadata": {},
   "source": [
    "* **Décrémentation**"
   ]
  },
  {
   "cell_type": "code",
   "execution_count": 3,
   "metadata": {},
   "outputs": [
    {
     "name": "stdout",
     "output_type": "stream",
     "text": [
      "la variable est égale à 5\n",
      "\n",
      "Décrémentation de la variable\n",
      "\n",
      "la variable est égale à 4\n"
     ]
    }
   ],
   "source": [
    "i = 5\n",
    "print (\"la variable est égale à\", i)\n",
    "print(\"\\nDécrémentation de la variable\\n\")\n",
    "i = i - 1\n",
    "print (\"la variable est égale à\", i)"
   ]
  },
  {
   "cell_type": "code",
   "execution_count": 4,
   "metadata": {},
   "outputs": [
    {
     "name": "stdout",
     "output_type": "stream",
     "text": [
      "la variable est égale à 5\n",
      "\n",
      "Décrémentation de la variable\n",
      "\n",
      "la variable est égale à 4\n"
     ]
    }
   ],
   "source": [
    "# Utilisation de l'opérateur -=\n",
    "i = 5\n",
    "print (\"la variable est égale à\", i)\n",
    "print(\"\\nDécrémentation de la variable\\n\")\n",
    "i -= 1\n",
    "print (\"la variable est égale à\", i)"
   ]
  },
  {
   "cell_type": "markdown",
   "metadata": {},
   "source": [
    "* **Itération**\n",
    "\n",
    "La notion d'itération est une notion avancée de Python (*objet itérateur*). A votre niveau, retenez juste :\n",
    "* **Itérer** veut dire parcourir une boucle\n",
    "* **Faire une itération** veut dire faire un tour de boucle\n",
    "\n",
    "# La boucle `for`\n",
    "\n",
    "\n",
    "Rôle de la boucle `for` : \n",
    "* faire parcourir une séquence à une variable appelée \"variable de boucle\".\n",
    "* exécuter un bloc d'instructions à chaque fois que la variable de boucle \"avance dans la séquence\"\n",
    "\n",
    "La syntaxe de la boucle `for` est la suivante :"
   ]
  },
  {
   "cell_type": "code",
   "execution_count": null,
   "metadata": {},
   "outputs": [],
   "source": [
    "du code\n",
    "du code      # Ce code ne fait pas parti de la boucle : il est exécuté normalement\n",
    "du code\n",
    "\n",
    "for variable_de_boucle in sequence :\n",
    "    du code     \n",
    "    du code     # bloc d'instructions de la boucle (délimité par l'indentation) : ici 3 lignes de code\n",
    "    du code \n",
    "    \n",
    "du code\n",
    "du code      # Ce code ne fait pas parti de la boucle : il sera exécuté normalement après la sortie de la boucle\n",
    "du code"
   ]
  },
  {
   "cell_type": "markdown",
   "metadata": {},
   "source": [
    "La boucle `for` réalise **automatiquement** ces actions dans cet ordre : \n",
    "\n",
    "1. **\"variable_de_boucle\"** va prendre la **première** valeur de la **sequence**\n",
    "2. Exécution du bloc d'instruction\n",
    "3. **\"variable_de_boucle\"** va prendre la valeur **suivante** de la **sequence**\n",
    "4. Et ainsi de suite...\n",
    "\n",
    "$\\Longrightarrow$ Lorsque **\"variable_de_boucle\"** a fini avec la **dernière** valeur de la séquence, python sort de la boucle et continue \"normalement\" la suite du programme\n",
    "\n",
    "\n",
    "## Exemples\n",
    "\n",
    "* la variable de boucle `lettre` parcourt la séquence `'b'`, `'o'`, `'n'`, `'j'`, `'o'`, `'u'`, `'r'`"
   ]
  },
  {
   "cell_type": "code",
   "execution_count": 5,
   "metadata": {},
   "outputs": [
    {
     "name": "nbtutor",
     "output_type": "stream",
     "text": [
      "ici, on n'est pas encore entré dans la boucle\n",
      "\n",
      "On affiche la lettre b\n",
      "On affiche la lettre o\n",
      "On affiche la lettre n\n",
      "On affiche la lettre j\n",
      "On affiche la lettre o\n",
      "On affiche la lettre u\n",
      "On affiche la lettre r\n",
      "\n",
      "ici, on est sorti de la boucle\n"
     ]
    }
   ],
   "source": [
    "%%nbtutor -r -f\n",
    "print(\"ici, on n'est pas encore entré dans la boucle\\n\")\n",
    "\n",
    "for lettre in \"bonjour\":\n",
    "    print(\"On affiche la lettre\",lettre)\n",
    "\n",
    "print(\"\\nici, on est sorti de la boucle\")"
   ]
  },
  {
   "cell_type": "markdown",
   "metadata": {},
   "source": [
    "* la variable de boucle `i` parcourt la séquence `0,1,2,3,4,5,6`"
   ]
  },
  {
   "cell_type": "code",
   "execution_count": 6,
   "metadata": {
    "code_folding": []
   },
   "outputs": [
    {
     "name": "nbtutor",
     "output_type": "stream",
     "text": [
      "0\n",
      "1\n",
      "2\n",
      "3\n",
      "4\n"
     ]
    }
   ],
   "source": [
    "%%nbtutor -r -f\n",
    "for i in range(7):\n",
    "    print(i)"
   ]
  },
  {
   "cell_type": "markdown",
   "metadata": {},
   "source": [
    "* la variable de boucle `i` parcourt la séquence `5,6,7,8,9`"
   ]
  },
  {
   "cell_type": "code",
   "execution_count": 7,
   "metadata": {},
   "outputs": [
    {
     "name": "nbtutor",
     "output_type": "stream",
     "text": []
    }
   ],
   "source": [
    "%%nbtutor -r -f\n",
    "for i in range(5,10):\n",
    "    print(i)"
   ]
  },
  {
   "cell_type": "markdown",
   "metadata": {},
   "source": [
    "* la variable de boucle `i` parcourt la séquence `1,3,5,7,9`"
   ]
  },
  {
   "cell_type": "code",
   "execution_count": 8,
   "metadata": {},
   "outputs": [
    {
     "name": "nbtutor",
     "output_type": "stream",
     "text": []
    }
   ],
   "source": [
    "%%nbtutor -r -f\n",
    "for i in range(1,10,2):\n",
    "    print(i)"
   ]
  },
  {
   "cell_type": "markdown",
   "metadata": {},
   "source": [
    "## La variable de boucle\n",
    "\n",
    "Comme son nom l'indique la **\"variable de boucle\"** est une variable. En effet, elle **varie** car elle prend successivement toutes les valeurs de la séquence à chaque tour de boucle\n",
    "\n",
    "* Une erreur fréquente quand on débute est d'écrire quelque chose comme ça (Bien sûr cela ne peut pas fonctionner car `1` et `\"b\"` ne sont pas des variables) :"
   ]
  },
  {
   "cell_type": "code",
   "execution_count": 9,
   "metadata": {},
   "outputs": [
    {
     "ename": "SyntaxError",
     "evalue": "can't assign to literal (<ipython-input-9-24384507e9df>, line 1)",
     "output_type": "error",
     "traceback": [
      "\u001b[1;36m  File \u001b[1;32m\"<ipython-input-9-24384507e9df>\"\u001b[1;36m, line \u001b[1;32m1\u001b[0m\n\u001b[1;33m    for 1 in range(7):\u001b[0m\n\u001b[1;37m       ^\u001b[0m\n\u001b[1;31mSyntaxError\u001b[0m\u001b[1;31m:\u001b[0m can't assign to literal\n"
     ]
    }
   ],
   "source": [
    "%%nbtutor -r -f\n",
    "for 1 in range(7):\n",
    "    print(i)"
   ]
  },
  {
   "cell_type": "code",
   "execution_count": 10,
   "metadata": {},
   "outputs": [
    {
     "ename": "SyntaxError",
     "evalue": "can't assign to literal (<ipython-input-10-9ce0d2d78403>, line 1)",
     "output_type": "error",
     "traceback": [
      "\u001b[1;36m  File \u001b[1;32m\"<ipython-input-10-9ce0d2d78403>\"\u001b[1;36m, line \u001b[1;32m1\u001b[0m\n\u001b[1;33m    for \"b\" in \"bonjour\":\u001b[0m\n\u001b[1;37m       ^\u001b[0m\n\u001b[1;31mSyntaxError\u001b[0m\u001b[1;31m:\u001b[0m can't assign to literal\n"
     ]
    }
   ],
   "source": [
    "%%nbtutor -r -f\n",
    "for \"b\" in \"bonjour\":\n",
    "    print(\"On affiche la lettre\",lettre)"
   ]
  },
  {
   "cell_type": "markdown",
   "metadata": {},
   "source": [
    "* Un autre problème fréquent est que les débutants ne savent pas quoi mettre comme variable de boucle.\n",
    "\n",
    "$\\Longrightarrow$ comme c'est une variable, il suffit de lui choisir un nom : le choix du nom est entièrement libre, donc choisissez !!\n",
    "\n",
    "Les bonnes pratiques veulent qu'on choisisse un nom \"parlant\". Dans les exemples précédents :\n",
    "* `lettre` est un nom bien choisi car cette variable de boucle va parcourir successivement chaque lettre du mot `\"bonjour\"` (mais on aurait très bien pu écrire `machintruc` à la place de `lettre`)\n",
    "* On choisit souvent `i` ou `j` comme nom de variable de boucle lorsque celle-ci parcourt des entiers (mais là encore rien d'obligatoire !)\n",
    "\n",
    "## Parcourir la séquence VS parcourir les indices de la séquence\n",
    "\n",
    "### Rappel\n",
    "\n",
    "Une chaîne de caractère est une **séquence ORDONNEE de caractères**. Ces numéros s'appellent des **INDICES**\n",
    "\n",
    "Exemple pour la chaîne de caractères `\"python\"`:\n",
    "\n",
    "|p|y|t|h|o|n|\n",
    "|-|-|-|-|-|-|\n",
    "|0|1|2|3|4|5|\n",
    "\n",
    "Dans la chaine de caractères `'python'`, le caractère `'p'` est d'indice 0 et le caractère `'h'` est d'indice 3\n",
    "\n",
    "Plus d'information sans le cours `bloc1/representation_du_texte/Cours_Le_Type_chaine_de_caracteres`"
   ]
  },
  {
   "cell_type": "code",
   "execution_count": 37,
   "metadata": {},
   "outputs": [
    {
     "data": {
      "text/plain": [
       "'t'"
      ]
     },
     "execution_count": 37,
     "metadata": {},
     "output_type": "execute_result"
    }
   ],
   "source": [
    "#Accès à un caractère\n",
    "ma_chaine=\"python\"\n",
    "ma_chaine[2]"
   ]
  },
  {
   "cell_type": "markdown",
   "metadata": {},
   "source": [
    "Comparons les 2 programmes suivants : \n",
    "* le premier parcourt la séquence composée des caractères `'p'`, `'y'`, `'t'`, `'h'`, `'o'`, `'n'`\n",
    "* le deuxième parcourt la séquence composée des indices 0, 1, 2, 3, 4, 5"
   ]
  },
  {
   "cell_type": "code",
   "execution_count": 12,
   "metadata": {},
   "outputs": [
    {
     "name": "nbtutor",
     "output_type": "stream",
     "text": [
      "p\n",
      "y\n",
      "t\n",
      "h\n",
      "o\n",
      "n\n"
     ]
    }
   ],
   "source": [
    "%%nbtutor -r -f\n",
    "mot = \"python\"\n",
    "\n",
    "for lettre in mot :\n",
    "    print(lettre)"
   ]
  },
  {
   "cell_type": "code",
   "execution_count": 36,
   "metadata": {},
   "outputs": [
    {
     "name": "nbtutor",
     "output_type": "stream",
     "text": [
      "p est la lettre n° 1 du mot python\n",
      "y est la lettre n° 2 du mot python\n",
      "t est la lettre n° 3 du mot python\n",
      "h est la lettre n° 4 du mot python\n",
      "o est la lettre n° 5 du mot python\n",
      "n est la lettre n° 6 du mot python\n"
     ]
    }
   ],
   "source": [
    "%%nbtutor -r -f\n",
    "mot = \"python\"\n",
    "\n",
    "for i in range(len(mot)) :\n",
    "    print (mot[i],\"est la lettre n°\",i + 1,\"du mot\",mot)"
   ]
  },
  {
   "cell_type": "markdown",
   "metadata": {},
   "source": [
    "Arrêtons-nous sur la syntaxe `range(len(mot))` qui est très courante et qui pose parfois problèmes car on a 2 appels de fonctions imbriqués l'une dans l'autre. Quand cela se présente, il faut commencer par regarder l'appel \"le plus à l'intérieur\" :\n",
    "1. `len(mot)` = `len(\"python\")` = 6\n",
    "2. donc `range(len(mot))` = `range(6)` = 0, 1, 2, 3, 4, 5 $\\Longrightarrow$ Il s'agit bien de la séquence composée des indices de la chaîne de caractères \"python\"\n",
    "\n",
    "Remarque : Une bonne façon d'assimiler cela est d'utiliser Thonny en mode debug : la décomposition en 2 étapes comme ci-dessus est parfaitement visible !\n",
    "\n",
    "**Attention :** Prenez le temps de bien regarder cette syntaxe car il arrive souvent que des élèves écrivent quelquechose comme ci dessous et ne comprennent pas leur erreur."
   ]
  },
  {
   "cell_type": "code",
   "execution_count": 14,
   "metadata": {},
   "outputs": [
    {
     "ename": "TypeError",
     "evalue": "'int' object is not iterable",
     "output_type": "error",
     "traceback": [
      "\u001b[1;31m---------------------------------------------------------------------------\u001b[0m",
      "\u001b[1;31mTypeError\u001b[0m                                 Traceback (most recent call last)",
      "\u001b[1;32m<ipython-input-14-23aa73552899>\u001b[0m in \u001b[0;36m<module>\u001b[1;34m\u001b[0m\n\u001b[1;32m----> 1\u001b[1;33m \u001b[1;32mfor\u001b[0m \u001b[0mi\u001b[0m \u001b[1;32min\u001b[0m \u001b[0mlen\u001b[0m\u001b[1;33m(\u001b[0m\u001b[0mmot\u001b[0m\u001b[1;33m)\u001b[0m \u001b[1;33m:\u001b[0m\u001b[1;33m\u001b[0m\u001b[1;33m\u001b[0m\u001b[0m\n\u001b[0m\u001b[0;32m      2\u001b[0m     \u001b[0mprint\u001b[0m\u001b[1;33m(\u001b[0m\u001b[0mi\u001b[0m\u001b[1;33m)\u001b[0m\u001b[1;33m\u001b[0m\u001b[1;33m\u001b[0m\u001b[0m\n",
      "\u001b[1;31mTypeError\u001b[0m: 'int' object is not iterable"
     ]
    }
   ],
   "source": [
    "for i in len(mot) :\n",
    "    print(i)"
   ]
  },
  {
   "cell_type": "code",
   "execution_count": 15,
   "metadata": {},
   "outputs": [
    {
     "ename": "TypeError",
     "evalue": "'str' object cannot be interpreted as an integer",
     "output_type": "error",
     "traceback": [
      "\u001b[1;31m---------------------------------------------------------------------------\u001b[0m",
      "\u001b[1;31mTypeError\u001b[0m                                 Traceback (most recent call last)",
      "\u001b[1;32m<ipython-input-15-2b54c3a026d5>\u001b[0m in \u001b[0;36m<module>\u001b[1;34m\u001b[0m\n\u001b[1;32m----> 1\u001b[1;33m \u001b[1;32mfor\u001b[0m \u001b[0mi\u001b[0m \u001b[1;32min\u001b[0m \u001b[0mrange\u001b[0m\u001b[1;33m(\u001b[0m\u001b[0mmot\u001b[0m\u001b[1;33m)\u001b[0m \u001b[1;33m:\u001b[0m\u001b[1;33m\u001b[0m\u001b[1;33m\u001b[0m\u001b[0m\n\u001b[0m\u001b[0;32m      2\u001b[0m     \u001b[0mprint\u001b[0m\u001b[1;33m(\u001b[0m\u001b[0mi\u001b[0m\u001b[1;33m)\u001b[0m\u001b[1;33m\u001b[0m\u001b[1;33m\u001b[0m\u001b[0m\n",
      "\u001b[1;31mTypeError\u001b[0m: 'str' object cannot be interpreted as an integer"
     ]
    }
   ],
   "source": [
    "for i in range(mot) :\n",
    "    print(i)"
   ]
  },
  {
   "cell_type": "markdown",
   "metadata": {},
   "source": [
    "### Parcourir la séquence VS parcourir les indices de la séquence : comment choisir ?\n",
    "\n",
    "$\\Longrightarrow$ Tout dépend du programme :\n",
    "* Si on a besoin des indices dans le bloc d'instructions de la boucle $\\Longrightarrow$ Parcourir les indices\n",
    "* Sinon Parcourir la séquence (En effet, cela mobilise souvent moins de ressources machine)"
   ]
  },
  {
   "cell_type": "markdown",
   "metadata": {},
   "source": [
    "## Une boucle `for` dans une fonction\n",
    "\n",
    "Le `return` peut parfois interrompre la boucle `for`. En effet, `return` correspondant au résultat renvoyé par la fonction, celle-ci \"a fin i son travail\" et python ne continue donc pas la boucle `for` puisque c'est devenu inutile.\n",
    "\n",
    "Exemple :"
   ]
  },
  {
   "cell_type": "code",
   "execution_count": 38,
   "metadata": {},
   "outputs": [
    {
     "name": "nbtutor",
     "output_type": "stream",
     "text": [
      "la lettre t est la 3ème lettre dans le mot python\n"
     ]
    }
   ],
   "source": [
    "%%nbtutor -r -f\n",
    "\n",
    "def maFonction(chaine, lettre):\n",
    "    for i in range(len(chaine)):\n",
    "        if chaine[i] == lettre:\n",
    "            return i + 1\n",
    "\n",
    "numeroLettre = maFonction(\"python\",\"t\")\n",
    "\n",
    "print(\"la lettre t est la \", numeroLettre, \"ème lettre dans le mot python\", sep='')"
   ]
  },
  {
   "cell_type": "markdown",
   "metadata": {},
   "source": [
    "## Les boucles `for` imbriquées\n",
    "\n",
    "# Pour aller plus loin : Instruction `break` et `continue` \n",
    "\n",
    "On utilise assez peu ces instructions, mais on ne sait jamais... Il est d'ailleurs recommandé de limiter leur usage...\n",
    "\n",
    "* `break` permet de sortir brutalement d'une boucle\n",
    "* `continue` permet de passer brutalement au tour de boucle suivant\n",
    "\n",
    "Exemples :"
   ]
  },
  {
   "cell_type": "code",
   "execution_count": 34,
   "metadata": {},
   "outputs": [
    {
     "name": "nbtutor",
     "output_type": "stream",
     "text": [
      "Tour de boucle n° 0\n",
      "Tour de boucle n° 1\n",
      "Tour de boucle n° 2\n",
      "Tour de boucle n° 3\n",
      "Tour de boucle n° 4\n",
      "Tour de boucle n° 5\n",
      "Sortie brutale de boucle \n"
     ]
    }
   ],
   "source": [
    "%%nbtutor -r -f\n",
    "\n",
    "for i in range(10):\n",
    "    print (\"Tour de boucle n°\", i)\n",
    "    if i == 5:\n",
    "        break\n",
    "print (\"Sortie brutale de boucle \")"
   ]
  },
  {
   "cell_type": "code",
   "execution_count": 35,
   "metadata": {},
   "outputs": [
    {
     "name": "nbtutor",
     "output_type": "stream",
     "text": [
      "Tour de boucle n° 0\n",
      "Tour de boucle n° 1\n",
      "Tour de boucle n° 2\n",
      "Tour de boucle n° 3\n",
      "Tour de boucle n° 4\n",
      "Tour de boucle n° 6\n",
      "Tour de boucle n° 7\n",
      "Tour de boucle n° 8\n",
      "Tour de boucle n° 9\n"
     ]
    }
   ],
   "source": [
    "%%nbtutor -r -f\n",
    "\n",
    "for i in range(10):\n",
    "    if i == 5:\n",
    "        continue\n",
    "    print (\"Tour de boucle n°\", i)"
   ]
  },
  {
   "cell_type": "markdown",
   "metadata": {},
   "source": [
    "# Méthodes de travail pour bien assimiler cette notion de base tout le temps utilisé en programmation\n",
    "\n",
    "> Constructions élémentaires (la base à connaître parfaitement pour programmer) :\n",
    "* Séquences, variables, types et affectations\n",
    "* Structures conditionnelles\n",
    "* Fonctions\n",
    "* **Boucles** <br><br>\n",
    "$\\Longrightarrow$ Un langage de programmation qui possède ces constructions élémentaires est dit [Turing-complet](https://fr.wikipedia.org/wiki/Turing-complet)<br><br>\n",
    "La notion de boucle pose parfois des problèmes d'assimilation. Pour vous aider à passer ce cap, il convient d'exécuter les cellules en mode pas à pas soit :\n",
    "* directement avec ce notebook ouvert en mode interactif à la maison avec **binder** (voir lien [dans la page d'accueil](https://github.com/seynave/premiere))\n",
    "* avec le mode debug de Thonny (voir `premiere/Outils_et_environnement_informatiques/Thonny`)\n",
    "* en copiant le code dans [pythontutor](http://www.pythontutor.com/live.html#mode=edit)"
   ]
  },
  {
   "cell_type": "code",
   "execution_count": null,
   "metadata": {},
   "outputs": [],
   "source": [
    "#!pip install nbtutor\n",
    "!jupyter nbextension install --overwrite --py nbtutor\n",
    "!jupyter nbextension enable nbtutor --py\n",
    "%load_ext nbtutor"
   ]
  }
 ],
 "metadata": {
  "celltoolbar": "Visualize",
  "kernelspec": {
   "display_name": "Python 3",
   "language": "python",
   "name": "python3"
  },
  "language_info": {
   "codemirror_mode": {
    "name": "ipython",
    "version": 3
   },
   "file_extension": ".py",
   "mimetype": "text/x-python",
   "name": "python",
   "nbconvert_exporter": "python",
   "pygments_lexer": "ipython3",
   "version": "3.7.2"
  }
 },
 "nbformat": 4,
 "nbformat_minor": 2
}
