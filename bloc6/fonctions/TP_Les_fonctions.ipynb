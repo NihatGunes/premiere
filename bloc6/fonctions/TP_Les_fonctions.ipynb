{
 "cells": [
  {
   "cell_type": "markdown",
   "metadata": {},
   "source": [
    "# Exercice 1\n",
    "\n",
    "Ecrire un script qui **demande à l'utilisateur** de saisir son prénom, son nom et son **année** de naissance et qui affiche à l'écran la phrase suivante : \n",
    "\n",
    "`Bonjour prénom nom, vous avez xx ans.`\n",
    "\n",
    "\n",
    "# Exercice 2\n",
    "Ecrire un script qui **demande à l'utilisateur** la taille d'un fichier en kio (*1 kio =1024 octets*) et qui affiche la phrase suivante :\n",
    "\n",
    "`La taille de votre fichier est de xxx octets et xxx bits.`\n",
    "\n",
    "(*Conseil : Utiliser la fonction input()*)\n",
    "\n",
    "# Exercice 3\n",
    "Le numéro de sécurité sociale est constitué de 13 chiffres auquel s'ajoute la clé de contrôle (2 chiffres). ![Secu](../img/Securite_sociale.png)\n",
    " \n",
    "La clé de contrôle est calculée par la formule :\n",
    "\n",
    "*97 - (numéro_de_sécurité_sociale_sans_clé_de_contrôle **modulo** 97)*\n",
    "\n",
    "Conseil : Revoir dans le cours l'opérateur modulo `%`\n",
    "\n",
    "1. Ecrire un programme qui **demande** le numéro de sécurité sociale (sans la clé de contrôle) et qui calcule la clé de contrôle.\n",
    "2. Tester votre programme grâce à ce [site web](http://mon-convertisseur.fr/calculateur-cle-numero-securite-sociale.php)\n",
    "3. Quel est l'intérêt de la clé de contrôle ?\n",
    "\n",
    "\n",
    "# Exercice 5 : Ne pas confondre `return` et `print`\n",
    "\n",
    "1. Exécuter l'instruction suivante :"
   ]
  },
  {
   "cell_type": "code",
   "execution_count": null,
   "metadata": {},
   "outputs": [],
   "source": [
    "res = print('python')"
   ]
  },
  {
   "cell_type": "markdown",
   "metadata": {},
   "source": [
    "2. Ecrire l'instruction permettant d'afficher la valeur de `res`. Que se passe t-il ? pourquoi ? Quel résultat est renvoyé par la fonction `print` ?"
   ]
  }
 ],
 "metadata": {
  "kernelspec": {
   "display_name": "Python 3",
   "language": "python",
   "name": "python3"
  },
  "language_info": {
   "codemirror_mode": {
    "name": "ipython",
    "version": 3
   },
   "file_extension": ".py",
   "mimetype": "text/x-python",
   "name": "python",
   "nbconvert_exporter": "python",
   "pygments_lexer": "ipython3",
   "version": "3.7.2"
  }
 },
 "nbformat": 4,
 "nbformat_minor": 4
}
