{
 "cells": [
  {
   "cell_type": "markdown",
   "metadata": {},
   "source": [
    "> Pensez à aller dans /premiere/outil_et_environnement_informatiques pour avoir de l'aide sur l'utilisation de Thonny ou de Jupyter\n",
    "\n",
    "\n",
    "# Exercice 1\n",
    "\n",
    "> Cet exercice doit être fait avec Thonny en mode interactif. \n",
    "\n",
    "Ouvrir le fichier **Memento python**. On considère les ordres suivants donnés par le programmeur à la machine : \n",
    "\n",
    "1. Machine, Enlève 6 de 20\n",
    "2. Machine, Multiple 8 et 31\n",
    "3. Machine, Combien de lettres possède le mot Python\n",
    "4. Machine, Calcule-moi 3% de 50\n",
    "\n",
    "A l'aide du mememto, traduire ces 4 ordres en 4 instructions écrites en langage python. *(dans le dernier ordre, il faudra se souvenir comment, en mathématiques, on calcule des pourcentages)*\n",
    "\n",
    "\n",
    "# Exercice 2\n",
    "\n",
    "Même chose sous Jupyter\n",
    "\n",
    "\n",
    "# Exercice 3\n",
    "\n",
    "1. Ouvrir la page sur la [division euclidienne](https://fr.wikipedia.org/wiki/Division_euclidienne)\n",
    "\n",
    "> Remarque : la division euclidienne n'est pas seulement une _curiosité inutile pour amuser les matheux_. En informatique la division euclidienne est l'opération de base permettant le cryptage des mots de passe ou le chiffrement/déchiffrement des communications sécurisées sur internet. C'est donc une opération fondamentale en informatique qu'on utilisera souvent cette année et vous devrez donc la retenir !!\n",
    "\n",
    "2. A l'aide de la page wikipedia que vous venez d'ouvrir, écrire sur une feuille la division euclidienne de 33 par 5\n",
    "3. Tappez dans le Shell de Thonny les 3 instructions suivantes et observez le résultat"
   ]
  },
  {
   "cell_type": "code",
   "execution_count": 1,
   "metadata": {},
   "outputs": [
    {
     "data": {
      "text/plain": [
       "2.625"
      ]
     },
     "execution_count": 1,
     "metadata": {},
     "output_type": "execute_result"
    }
   ],
   "source": [
    "21 / 8"
   ]
  },
  {
   "cell_type": "code",
   "execution_count": 2,
   "metadata": {},
   "outputs": [
    {
     "data": {
      "text/plain": [
       "2"
      ]
     },
     "execution_count": 2,
     "metadata": {},
     "output_type": "execute_result"
    }
   ],
   "source": [
    "21 // 8"
   ]
  },
  {
   "cell_type": "code",
   "execution_count": 3,
   "metadata": {},
   "outputs": [
    {
     "data": {
      "text/plain": [
       "5"
      ]
     },
     "execution_count": 3,
     "metadata": {},
     "output_type": "execute_result"
    }
   ],
   "source": [
    "21 % 8"
   ]
  },
  {
   "cell_type": "markdown",
   "metadata": {},
   "source": [
    "4. Compléter ci-dessous la traduction en français de chacune de ces instructions (comme dans l'énoncé de l'exercice 1)\n",
    "\n",
    "**Instruction 1**\n",
    "\n",
    "    Machine,......\n",
    "    \n",
    "**Instruction 2**\n",
    "\n",
    "    Machine,......\n",
    "    \n",
    "**Instruction 3**\n",
    "\n",
    "    Machine,......\n",
    "    \n",
    "    \n",
    "> Ouvrir la page wikipedia suivante : [Commentaires en programmation](https://fr.wikipedia.org/wiki/Commentaire_(informatique))\n",
    "\n",
    "5. En langage Python, quel symbole permet d'écrire un commentaire ?\n",
    "\n",
    "6. Dans le Shell de Thonny réécrire les 3 instructions précédentes en ajoutant à la suite de l'instruction un commentaire python. Ce commentaire sera la phrase correspondante écrite en français à la question 4. Observez que l'ajout des commentaires ne change rien au résultat affiché par la machine : les commentaires sont ignorés par la machine.\n",
    "\n",
    "# Exercice\n",
    "\n",
    "Leur faire faire un compte rendu en Markdown\n",
    "\n",
    "\n",
    "# Exercice\n",
    "\n",
    "Parmi les noms de variables suivantes, lesquelles **ne sont pas autorisées** et vont renvoyées des erreurs ? Donner la raison de l'erreur.\n",
    "\n",
    "* mavariable \n",
    "* toi&moi\n",
    "* essai 1\n",
    "* 2emeEssai\n",
    "* LargeurRectangle\n",
    "* ma-variable\n",
    "* ma_variable\n",
    "* _ma_variable\n",
    "* MAVARIABLE\n",
    "* nombreéchec\n",
    "* point de vie\n",
    "\n",
    "Vérifiez vos réponses précédentes en utilisant Thonny. Pour cela, il suffira de les tester en leur affectant une donnée (par exemple 5)\n",
    "\n",
    "Parmi les noms de variables suivantes, lesquelles ne respectent pas **les bonnes pratiques** ? Donner la raison.\n",
    "\n",
    "\n",
    "* x\n",
    "* maVariable\n",
    "* nombre\n",
    "* mot_de_passe\n",
    "* loginUtilisateur\n",
    "* LongueurParcours\n",
    "* prix_séjour\n",
    "\n",
    "# Exercice\n",
    "\n",
    "1. Traduire en langage python les expressions mathématiques suivantes :\n",
    "\n",
    "$3^2+2^3$\n",
    "\n",
    "$\\frac{5}{3} . \\frac{9}{2} + 12$\n",
    "\n",
    "$(\\frac{36}{25})^2$\n",
    "\n",
    "2. Si les résultats affichés par Thonny ne sont pas respectivement 17 19.5 et 2.0736, c'est que vous vous êtes trompés dans leur écriture en langage python. Dans ce cas, trouvez l'erreur !\n",
    "\n",
    "\n",
    "# Exercice\n",
    "\n",
    "Pour chacun des scripts suivants : \n",
    "\n",
    "* Exécuter le script suivant sur feuille et donner l’affichage à la fin du script\n",
    "vous pouvez réaliser un tableau de ce type :\n",
    "\n",
    "|Variables|Objet (donnée)|\n",
    "|:----------:|:------------------: |\n",
    "\n",
    "* Ecrire le fichier scriptNumi.py sous Thonny et l’exécuter afin de vérifier votre résultat précédent\n",
    "* En cas d’erreur, exécuter le script en mode debug ou avec [pythontutor](http://pythontutor.com/live.html#mode=edit) pour comprendre votre erreur\n",
    "\n",
    "```python\n",
    "# scriptNum1\n",
    "a=12\n",
    "b=a+1\n",
    "c=a\n",
    "a=14\n",
    "b=13\n",
    "print(a,b)\n",
    "```\n",
    "\n",
    "```python\n",
    "# scriptNum2\n",
    "a=12\n",
    "b=8\n",
    "c=a\n",
    "a=b\n",
    "b=c\n",
    "print(a,b)\n",
    "```\n",
    "\n",
    "```python\n",
    "# scriptNum3\n",
    "toto=13.4\n",
    "Toto=10.5\n",
    "Toto=Toto-5.5\n",
    "print(toto)\n",
    "```\n",
    "\n",
    "```python\n",
    "# scriptNum4\n",
    "a='10'\n",
    "b='2'\n",
    "c=a+b\n",
    "print(c)\n",
    "```\n",
    "\n",
    "```python\n",
    "# scriptNum5\n",
    "a=\"4*5\"\n",
    "print(a)\n",
    "```\n",
    "\n",
    "\n",
    "# Exercice\n",
    "\n",
    "1. Prédire quel sera les valeurs de a et de b à la fin des instructions suivantes ? (utilisez l'analogie des boîtes comme dans le cours)"
   ]
  },
  {
   "cell_type": "code",
   "execution_count": null,
   "metadata": {},
   "outputs": [],
   "source": [
    "a = 42\n",
    "b = 66\n",
    "a = b\n",
    "b = a"
   ]
  },
  {
   "cell_type": "markdown",
   "metadata": {},
   "source": [
    "2. Afin de vérifier votre réponse,  écrire les instructions (en mode programme) et exécutez-les en mode **debug** (voir mode d'emploi de Thonny dans le dossier \"outil et environnement informatiques\""
   ]
  },
  {
   "cell_type": "markdown",
   "metadata": {},
   "source": [
    "# Exercice\n",
    "\n",
    "> Lorsque vous allez écrire du code python, il y aura des erreurs, c'est normal !! **Tous les programmeurs** font des erreurs dans leur code. Mais **ne prenez pas l'habitude de m'appeler dès qu'une erreur s'affiche**. Votre travail consistera toujours en programmation à lire le message d'erreur, le comprendre, essayer de se mettre à la place de la machine pour en déterminer l'origine. Et si on n'a pas d'idée, il faut utiliser le mode **debug**. Parfois même les programmeurs très expérimentés mettent littéralement des heures à trouver le pourquoi d'une erreur et la corriger. C'est le côté un peu \"ingrat\" de l'activité de programmeur. Rassurez-vous je ne vais pas vous laisser chercher plusieurs heures, mais c'est sûr que je vous laisserai toujours chercher avant de vous aider !!\n",
    "\n",
    "Lorsqu'une instruction n'est pas comprise par python, la machine va afficher un message d'erreur. On distingue :\n",
    "* Les erreurs de type : lorsque le type d'un objet n'autorise pas l'opération demandée\n",
    "* Les erreurs de nom : lorsque Python ne trouve pas une variable\n",
    "* Les erreurs de syntaxe : lorsqu'une instruction est mal écrite, incomplète ou n'a pas de sens\n",
    "* Les erreurs d'indentation : lorsque le code écrit n'est pas bien aligné et collé sur le bord gauche (on verra par la suite pourquoi c'est important)\n",
    "* L'erreur `ZeroDivisionError` : qui est très explicite !\n",
    "\n",
    "Les codes suivants vont tous générer des erreurs. C'est fait exprès !!"
   ]
  },
  {
   "cell_type": "code",
   "execution_count": null,
   "metadata": {},
   "outputs": [],
   "source": [
    "# code 1\n",
    "mot = 'informatique"
   ]
  },
  {
   "cell_type": "code",
   "execution_count": null,
   "metadata": {},
   "outputs": [],
   "source": [
    "# code 2\n",
    "3 = variable"
   ]
  },
  {
   "cell_type": "code",
   "execution_count": null,
   "metadata": {},
   "outputs": [],
   "source": [
    "# code 3\n",
    "x = 5\n",
    "x = x + 2\n",
    " y = x"
   ]
  },
  {
   "cell_type": "code",
   "execution_count": null,
   "metadata": {},
   "outputs": [],
   "source": [
    "# code 4\n",
    "54 + '4'"
   ]
  },
  {
   "cell_type": "code",
   "execution_count": null,
   "metadata": {},
   "outputs": [],
   "source": [
    "# code 5\n",
    "x = (2 * (9 +2)"
   ]
  },
  {
   "cell_type": "code",
   "execution_count": null,
   "metadata": {},
   "outputs": [],
   "source": [
    "# code 6\n",
    "truc = 34\n",
    "truc = Truc + 6"
   ]
  },
  {
   "cell_type": "code",
   "execution_count": null,
   "metadata": {},
   "outputs": [],
   "source": [
    "# code 7\n",
    "'35' / 2"
   ]
  },
  {
   "cell_type": "code",
   "execution_count": null,
   "metadata": {},
   "outputs": [],
   "source": [
    "# code 8\n",
    "len(1234)"
   ]
  },
  {
   "cell_type": "code",
   "execution_count": null,
   "metadata": {},
   "outputs": [],
   "source": [
    "# code 9\n",
    "print 4 + 5"
   ]
  },
  {
   "cell_type": "code",
   "execution_count": null,
   "metadata": {},
   "outputs": [],
   "source": [
    "# code 10\n",
    "type(var)"
   ]
  },
  {
   "cell_type": "code",
   "execution_count": null,
   "metadata": {},
   "outputs": [],
   "source": [
    "# code 11\n",
    "mot = 'l'informatique'"
   ]
  },
  {
   "cell_type": "markdown",
   "metadata": {},
   "source": [
    "1. Avant de les exécuter, prédire s'il s'agit d'une erreur de type (`TypeError`), d'une erreur de nom (`NameError`), d'une erreur de syntaxe (`SyntaxError`), d'une erreur d'indentation(`IndentationError`) ou dune erreur `ZeroDivisionError`. Préciser à quel endroit du code, Python ne comprend plus.\n",
    "\n",
    "2. En tappant le code dans python (en mode d'édition), vérifier si vous avez trouvé la bonne erreur et si python s'est arrété à l'endroit que vous avez prédit (python marque d'un symbole `^` l'endroit où il ne comprend plus)\n",
    "\n",
    "3. Corriger le code et vérifier qu'il n'y a plus de message d'erreur\n",
    "\n",
    "# Exercice\n",
    "\n",
    "> Cet exercice ne se résoud évidemment pas en supprimant les `'` ou les `\"` qui _\"dérangent\"_\n",
    "\n",
    "1. Ecrire l'instruction python pour que la variable `phrase` prenne la chaîne de caractères `Il a 16 ans.`\n",
    "\n",
    "2. Ecrire l'instruction python pour que la variable `phrase` prenne la chaîne de caractères `Les cheveux de Jean n'ont pas poussé`\n",
    "\n",
    "3. Lire le début de [la page wikipedia sur le caractère d'échappement](https://fr.wikipedia.org/wiki/Caract%C3%A8re_d%27%C3%A9chappement).  \n",
    "Sachant qu'en python le caractère d'échappement est `\\`, écrire l'instruction python pour que la variable `phrase` prenne la chaîne de caractères `Il a crié : \"Oui, j'arrive !\"`.\n",
    "\n",
    "# Exercice\n",
    "\n",
    "1. Sans utiliser python , dire quel est le type des objets suivants :\n",
    "\n",
    "* 'trois'\n",
    "* 4\n",
    "* '5'\n",
    "* \"6\"\n",
    "\n",
    "2. Vérifier vos réponses en utilisant Python\n",
    "\n",
    "# Exercice\n",
    "\n",
    "> Cet exercice ne se résoud évidemment pas en écrivant `n2 = 'Un'` et `n1 = 'Deux'`. Pour ceux qui recherchent sur internet, il ne s'agit pas non plus d'écrire `n1, n2 = n2 , n1`\n",
    "\n",
    "Observez les deux lignes de code Python suivantes"
   ]
  },
  {
   "cell_type": "code",
   "execution_count": null,
   "metadata": {},
   "outputs": [],
   "source": [
    "n1 = 'Un'\n",
    "n2 = 'Deux'"
   ]
  },
  {
   "cell_type": "markdown",
   "metadata": {},
   "source": [
    "Cherchez une méthode pour échanger les valeurs des deux variables : à la fin, n1 doit contenir la valeur 'Deux' et n2 doit contenir 'Un'. Ecrivez les instructions en python qui permettent d'appliquer cette méthode puis testez\n",
    "\n",
    "**Indice : Comme dans le cours, imaginez que n1 et n2 sont des boîtes, comment feriez-vous ?**\n",
    "\n",
    "# Exercice\n",
    "\n",
    "> Cet exercice doit être réalisé en utilisant Thonny en mode programme\n",
    "\n",
    "Soient c1 et c2 les longueurs des deux côtés de l'angle droit d'un triangle rectangle. \n",
    "Supposons que c1 = 4 et c2 = 5\n",
    "\n",
    "Ecrire le code python permettant de calculer d'afficher la valeur de l'hypothénuse h. Pour cela, vous aurez besoin que python calcule une racine carrée : le code ci-dessous devrait vous être utile"
   ]
  },
  {
   "cell_type": "code",
   "execution_count": 2,
   "metadata": {},
   "outputs": [
    {
     "data": {
      "text/plain": [
       "5.0"
      ]
     },
     "execution_count": 2,
     "metadata": {},
     "output_type": "execute_result"
    }
   ],
   "source": [
    "# Le code ci-dessous permet de calculer la racine carrée de 25\n",
    "from math import sqrt\n",
    "sqrt(25)"
   ]
  }
 ],
 "metadata": {
  "kernelspec": {
   "display_name": "Python 3",
   "language": "python",
   "name": "python3"
  },
  "language_info": {
   "codemirror_mode": {
    "name": "ipython",
    "version": 3
   },
   "file_extension": ".py",
   "mimetype": "text/x-python",
   "name": "python",
   "nbconvert_exporter": "python",
   "pygments_lexer": "ipython3",
   "version": "3.7.2"
  }
 },
 "nbformat": 4,
 "nbformat_minor": 4
}
