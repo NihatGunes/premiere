{
 "cells": [
  {
   "cell_type": "markdown",
   "metadata": {},
   "source": [
    "Pour réaliser ce TD, vous aurez besoin de la documentation technique (en fin de TD)\n",
    "\n",
    "\n",
    "# Exercice 1\n",
    "\n",
    "1. Encoder la chaîne de caractère *Linus Torvalds* en ASCII (Donner le résultat sous la forme d'une suite de chiffres hexadécimaux)\n",
    "2. La suite de bit suivante est un texte encodé en ASCII. Décoder le afin de retrouver le texte :\n",
    "01010010011010010110001101101000011000010111001001100100001000000101001101110100011000010110110001101100011011010110000101101110\n",
    "3. Après une petite recherche sur internet, dire en quelques mots qui sont ces personnages ?\n",
    "4. L'instruction suivante `\"été\".encode('ascii')` permet d'encoder la chaîne de caractères \"été\" en ASCII. La syntaxe est correcte pourtant elle renvoie une erreur. Donner la raison (sans tapper l'instruction sous Python dans un premier temps)"
   ]
  },
  {
   "cell_type": "markdown",
   "metadata": {},
   "source": [
    "# Exercice 2\n",
    "\n",
    "On encode le texte 'Noël' en *UTF-8*. \n",
    "\n",
    "1. Combien d'octets sont utilisés pour cet encodage ?\n",
    "\n",
    "## Attention, la suite de cet exercice est d'un niveau avancé !!\n",
    "\n",
    "2. On décode le texte en *latin1*. Quel affichage cela donnera t'il ?\n",
    "\t1.  Faire d'abord cet exercice sans l'aide de l'ordinateur\n",
    "\t2.  Vérifier à l'aide de l'ordinateur en utilisant les méthodes `encode()` et `decode()` définies dans la classe `str`. (utiliser la documentation avec la fonction `help()` si nécessaire)"
   ]
  },
  {
   "cell_type": "markdown",
   "metadata": {},
   "source": [
    "# Exercice 4\n",
    "\n",
    "Ecrire une fonction qui renvoie `True` si la chaine de caractères passée en paramètre commence par une majuscule. Pour cela rechercher une méthode de la classe `str` qui peut vous être utile."
   ]
  },
  {
   "cell_type": "markdown",
   "metadata": {},
   "source": [
    "# EXERCICE\n",
    "\n",
    "Les caractères en UTF-8 doivent avoir une forme particulière décrite dans la table ci-dessous :\n",
    "\n",
    "![codage UTF-8](img/UTF-8.png) _\"Source : Wikipedia\"_\n",
    "\n",
    "-----------\n",
    "\n",
    "## La fin de ce cours est d'un niveau avancé !!\n",
    "\n",
    "**Problème : Pourquoi le 'é' de 'étrange' encodé en UTF-8 apparaît comme 'Ã©' en décodage latin1 ?**\n",
    "\n",
    "En utilisant [la table UTF-8](https://unicode-table.com), on obtient le code UTF-8 du caractère 'é' : U+00E9. \n",
    "Ce qui peut être vérifié par les instructions pythons suivantes :"
   ]
  },
  {
   "cell_type": "code",
   "execution_count": null,
   "metadata": {},
   "outputs": [],
   "source": [
    "s = \"un étrange problème d'affichage\"\n",
    "en = s.encode('utf8')\n",
    "en.decode('latin1')"
   ]
  },
  {
   "cell_type": "code",
   "execution_count": null,
   "metadata": {},
   "outputs": [],
   "source": [
    "ord('é') # la fonction ord() permet d'obtenir le code décimal UTF-8 d'un caractère"
   ]
  },
  {
   "cell_type": "code",
   "execution_count": null,
   "metadata": {},
   "outputs": [],
   "source": [
    "# conversion de 233 en hexadécimal : on retrouve bien 0XE9 !\n",
    "hex(233)"
   ]
  },
  {
   "cell_type": "code",
   "execution_count": null,
   "metadata": {},
   "outputs": [],
   "source": [
    "# Remarque : le \\u permet de trouver le caractère correspondant à un code UTF-8\n",
    "\"\\u00E9\""
   ]
  },
  {
   "cell_type": "markdown",
   "metadata": {},
   "source": [
    "En consultant la documentation ci-dessus, on observe que 'é' doit s'écrire sur 2 octets (16 bits dont 11 bits codants) : "
   ]
  },
  {
   "cell_type": "code",
   "execution_count": 3,
   "metadata": {},
   "outputs": [
    {
     "data": {
      "text/plain": [
       "'000_1110_1001'"
      ]
     },
     "execution_count": 3,
     "metadata": {},
     "output_type": "execute_result"
    }
   ],
   "source": [
    "# OxE9 en binaire sur 11 bits\n",
    "\"{:013_b}\".format(233)"
   ]
  },
  {
   "cell_type": "markdown",
   "metadata": {},
   "source": [
    "Ce qui donne sur 2 octets (en ajoutant les 5 bits *\"d'enrobage\"*) : **110**00011 **10**101001 (voir documentation)"
   ]
  },
  {
   "cell_type": "code",
   "execution_count": 1,
   "metadata": {},
   "outputs": [
    {
     "data": {
      "text/plain": [
       "'0xc3a9'"
      ]
     },
     "execution_count": 1,
     "metadata": {},
     "output_type": "execute_result"
    }
   ],
   "source": [
    "# Conversion de ces 2 octets en hexadécimal\n",
    "hex(0b1100001110101001)"
   ]
  },
  {
   "cell_type": "code",
   "execution_count": 2,
   "metadata": {},
   "outputs": [
    {
     "data": {
      "text/plain": [
       "b'\\xc3\\xa9'"
      ]
     },
     "execution_count": 2,
     "metadata": {},
     "output_type": "execute_result"
    }
   ],
   "source": [
    "# Vérification avec la fonction bytes()\n",
    "bytes('é','UTF-8') # La fonction bytes() renvoie le code MACHINE d'un caractère, pas le code UTF-8...."
   ]
  },
  {
   "cell_type": "markdown",
   "metadata": {},
   "source": [
    "En latin1 (voir tableau précédent):\n",
    "* C3 correspond au caractère Ã\n",
    "* A9 correspond au caractère ©\n",
    "\n",
    "d'où le \"Ã©trange\"..."
   ]
  }
 ],
 "metadata": {
  "kernelspec": {
   "display_name": "Python 3",
   "language": "python",
   "name": "python3"
  },
  "language_info": {
   "codemirror_mode": {
    "name": "ipython",
    "version": 3
   },
   "file_extension": ".py",
   "mimetype": "text/x-python",
   "name": "python",
   "nbconvert_exporter": "python",
   "pygments_lexer": "ipython3",
   "version": "3.7.2"
  }
 },
 "nbformat": 4,
 "nbformat_minor": 2
}
