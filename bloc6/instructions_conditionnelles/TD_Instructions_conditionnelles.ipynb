{
 "cells": [
  {
   "cell_type": "markdown",
   "metadata": {},
   "source": [
    "# Exercice 1\n",
    "\n",
    "> On considère les _propositions à tester_ suivantes :  \n",
    "* Il a eu la moyenne au dernier devoir\n",
    "* Cette fille s'appelle Alice\n",
    "* Cet individu est mineur\n",
    "* Il a obtenu au moins la mention \"assez bien\" au baccalauréat\n",
    "\n",
    "1. Traduire les _propositions à tester_ ci-dessus en **expressions booléennes** python. Pour cela utiliser les **opérateurs de comparaison** et choisir des **noms de variables adaptées**\n",
    "\n",
    "2. Affecter aux variables utilisées ci-dessus des valeurs choisies au hasard puis écrire dans le **shell** de Thonny les expressions booléennes ci-dessus. Observez le résultat. \n",
    "\n",
    "\n",
    "\n",
    "Les exercices 1,2 et 4 consistent à écrire la définition d'une fonction. Il faut bien sûr s'assurer de leur bon fonctionnement en les testant par différents appels...\n",
    "\n",
    "# Exercice 1\n",
    "Ecrire une fonction qui prend deux nombres en paramètre et renvoie le nombre le plus petit\n",
    "\n",
    "# Exercice 2\n",
    "Le numéro de sécurité sociale est constitué de 13 chiffres auquel s'ajoute la clé de contrôle (2 chiffres).\n",
    "\n",
    "![Secu](../img/Securite_sociale.png)\n",
    "\n",
    "La clé de contrôle est calculée par la formule : \n",
    "*97 - (numéroDeSécuritéSocialeSansCléDeContrôle **modulo** 97)*\n",
    "\n",
    "On rappelle que cette clé permet de vérifier la validité d'un numéro de sécurité sociale.\n",
    "Ecrire une fonction qui prend un numéro de sécurité sociale (sur 15 chiffres) en paramètre et qui renvoie un booléen selon que le numéro de sécurité sociale est valide ou pas\n",
    "\n",
    "Pour cela  :\n",
    "* copier le fichier *securiteSociale.py* dans votre dossier de travail\n",
    "* insérer l'instruction ` from securiteSociale import retirer_cle, extraire_cle` en début de définition de votre fonction, juste après l'instruction `def`\n",
    "* Cela vous permettra d'appeler les fonctions `retirer_cle()` et  `extraire_cle()` utiles pour votre code\n",
    "* Se servir de la documentation de ces 2 fonctions (`help()`) pour savoir comment les utiliser...\n",
    "\n",
    "Remarque : \n",
    "* Revoir l'opérateur modulo (`%`) dans le cours\n",
    "* Vous pouvez tester votre fonction grâce à [ce site](http://mon-convertisseur.fr/calculateur-cle-numero-securite-sociale.php)\n",
    "\n",
    "# Exercice 3  : `if` imbriqués\n",
    "\n",
    "On considère la fonction suivante :"
   ]
  },
  {
   "cell_type": "code",
   "execution_count": null,
   "metadata": {},
   "outputs": [],
   "source": [
    "def fonction(a,b,c):\n",
    "    \"\"\"\n",
    "    Les nombres a b et c doivent être différents les uns des autres...\n",
    "    \"\"\"\n",
    "    res=''\n",
    "    if a < b :\n",
    "        if b < c :\n",
    "            res = 'UP'\n",
    "        else :\n",
    "            res = 'MIX'\n",
    "    else :\n",
    "        if b > c :\n",
    "            res = 'DOWN'\n",
    "        else :\n",
    "            res = 'MIX'\n",
    "    return res"
   ]
  },
  {
   "cell_type": "markdown",
   "metadata": {},
   "source": [
    "1. Que vont afficher les appels suivants ?\n",
    "    * A faire **d'abord** sur feuille **sans** l'aide de l'ordinateur\n",
    "    * Vérifier **ensuite** sur ordinateur en exécutant la fonction\n",
    "2. Quel est le rôle de la fonction ?\n",
    "3. A l'aide de la question 2, réécrire proprement la docstring (documentation complète) de la fonction en vous servant du modèle du cours"
   ]
  },
  {
   "cell_type": "code",
   "execution_count": null,
   "metadata": {},
   "outputs": [],
   "source": [
    "fonction (4,9,3)"
   ]
  },
  {
   "cell_type": "code",
   "execution_count": null,
   "metadata": {},
   "outputs": [],
   "source": [
    "fonction (5,7,14)"
   ]
  },
  {
   "cell_type": "code",
   "execution_count": null,
   "metadata": {},
   "outputs": [],
   "source": [
    "fonction (7,0,-7)"
   ]
  },
  {
   "cell_type": "markdown",
   "metadata": {},
   "source": [
    "# Exercice 4\n",
    "Ecrire une fonction qui prend une année en paramètre et qui renvoie un booléen selon que l'année est bissextile ou pas.\n",
    "\n",
    "* Si une année n'est pas multiple de 4, elle n'est pas bissextile. \n",
    "* Si elle est multiple de 4, on regarde si elle est multiple de 100.\n",
    "\t* Si c'est le cas, on regarde si elle est multiple de 400.\n",
    "\t\t* Si c'est le cas, l'année est bissextile.\n",
    "\t\t* Sinon, elle n'est pas bissextile.\n",
    "\t* Sinon, elle est bissextile.\n",
    "\n",
    "Remarque :\n",
    "* Utiliser l'opérateur modulo `%` (voir cours)\n",
    "* Vous pouvez tester votre programme grâce à [ce site](http://cosmos2000.chez.com/Vendredi13/AnneeBissextile.html)"
   ]
  }
 ],
 "metadata": {
  "kernelspec": {
   "display_name": "Python 3",
   "language": "python",
   "name": "python3"
  },
  "language_info": {
   "codemirror_mode": {
    "name": "ipython",
    "version": 3
   },
   "file_extension": ".py",
   "mimetype": "text/x-python",
   "name": "python",
   "nbconvert_exporter": "python",
   "pygments_lexer": "ipython3",
   "version": "3.7.2"
  }
 },
 "nbformat": 4,
 "nbformat_minor": 2
}
