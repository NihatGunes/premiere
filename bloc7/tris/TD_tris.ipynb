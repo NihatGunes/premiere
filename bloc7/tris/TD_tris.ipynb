{
 "cells": [
  {
   "cell_type": "markdown",
   "metadata": {},
   "source": [
    "# Exercice 1 (niveau facile)\n",
    "\n",
    "> Pour cet exercice, ouvrir le fichier `prof/bloc7/tris/Activite_manuelle_decouverte_des_tris_synthese` afin d'obtenir l'algorithme de tris par sélection \n",
    "\n",
    "**Objectif :** En utilisant **le tri par sélection**, trier le tableau suivant. \n",
    "\n",
    "![tableau 1](img/t1.png)\n",
    "\n",
    "\n",
    "Pour cela, compléter les tableaux ci dessous en faisant apparaître le tableau **à chaque étape de l'algorithme** ainsi que la _\"partie déjà triée\"_ et la _\"partie non triée\"_ (la partie triée est vide au début)\n",
    "\n",
    "![tableau 1](img/t1_2.png)\n",
    "\n",
    "\n",
    "# Exercice 2 (niveau facile)\n",
    "\n",
    "> Pour cet exercice, ouvrir le fichier `prof/bloc7/tris/Activite_manuelle_decouverte_des_tris_synthese` afin d'obtenir l'algorithme de tris par insertion \n",
    "\n",
    "**Objectif :** En utilisant **le tri par insertion**, trier le tableau suivant. \n",
    "\n",
    "![tableau 1](img/t1.png)\n",
    "\n",
    "\n",
    "Pour cela, compléter les tableaux ci dessous en faisant apparaître le tableau **à chaque étape de l'algorithme** ainsi que la _\"partie déjà triée\"_ et la _\"partie non triée\"_ (la partie triée est vide au début)\n",
    "\n",
    "![tableau 1](img/t1_3.png)\n",
    "\n",
    "\n",
    "\n",
    "# Exercice 3 (niveau facile)\n",
    "\n",
    "Soit le code python ci-dessous"
   ]
  },
  {
   "cell_type": "code",
   "execution_count": 19,
   "metadata": {},
   "outputs": [],
   "source": [
    "def tri1(t):\n",
    "    for i in range(len(t)):\n",
    "        m = i\n",
    "        for j in range(i + 1, len(t)):\n",
    "            if t[j] < t[m]:\n",
    "                m = j\n",
    "        (t[i], t[m]) = (t[m], t[i])\n",
    "\n",
    "def tri2(t):\n",
    "    for i in range(1, len(t)):\n",
    "        j = i\n",
    "        v = t[i]\n",
    "        while j > 0 and t[j - 1] > v:\n",
    "            t[j] = t[j - 1]\n",
    "            j = j - 1\n",
    "        t[j] = v"
   ]
  },
  {
   "cell_type": "markdown",
   "metadata": {},
   "source": [
    "1. Exécuter à la main sur feuille les 2 appels suivants en faisant appraître les différentes étapes (comme dans l'exercice 1 et 2)\n",
    "    * `tri1([5,8,1,7,4,3,9])`\n",
    "    * `tri2([5,8,1,7,4,3,9])`\n",
    "\n",
    "2. En déduire lequel implémente le tri par sélection et lequel implémente le tri par insertion.\n",
    "\n",
    "# Exercice\n",
    "\n",
    "nb d'étapes ds le pire cas (liste décroissante)\n",
    "nb d'étapes ds le meilleur cas (liste croissante)\n",
    "\n",
    "\n",
    "# Exercice\n",
    "\n",
    "modification tri par ordre décroissant\n",
    "tri par ordre alaphabétique \n",
    "tri par longueur du mot\n",
    "ecrire la documentation et les doctests\n",
    "\n",
    "\n",
    "cours : dcomplexité spatiale constante\n",
    "\n",
    "# Exercice\n",
    "\n",
    "tri renvoyant une nouvelle liste"
   ]
  }
 ],
 "metadata": {
  "kernelspec": {
   "display_name": "Python 3",
   "language": "python",
   "name": "python3"
  },
  "language_info": {
   "codemirror_mode": {
    "name": "ipython",
    "version": 3
   },
   "file_extension": ".py",
   "mimetype": "text/x-python",
   "name": "python",
   "nbconvert_exporter": "python",
   "pygments_lexer": "ipython3",
   "version": "3.7.2"
  }
 },
 "nbformat": 4,
 "nbformat_minor": 4
}
