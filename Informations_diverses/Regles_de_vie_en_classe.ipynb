{
 "cells": [
  {
   "cell_type": "markdown",
   "metadata": {},
   "source": [
    "# Ambiance de classe\n",
    "\n",
    "> **Ce sont les élèves qui font l'ambiance de classe par leur comportement et leur attitude** : Je suis **\"cool\"** si les élèves sont sérieux, matures et responsables mais je suis **\"sans pitié\"** si les élèves qui me cassent les pieds et se comportent comme des gamins. A vous de choisir !!\n",
    "\n",
    "Je suis un promoteur de [la culture du logiciel libre](https://fr.wikipedia.org/wiki/Histoire_du_logiciel_libre) fondée sur la libre diffusion du savoir, l'entraide et la collaboration dans le travail plutôt que le chacun pour soi et la compétition. Ainsi lors des TP, je vous recommande vivement de vous aider les uns les autres, ceci afin que le tout le groupe avance de façon homogène :\n",
    "* Les élèves _\"les plus à l'aise\"_ sont invités à aider _\"ceux qui sont en difficultés\"_\n",
    "* Expliquer à d'autres n'est pas une perte de temps mais renforce ses propres connaissances\n",
    "* Pour ceux qui ne comprennent pas (ou font semblant de ne pas comprendre) la différence entre entraide et collaboration dans le travail avec discussion et amusement : voir la première phrase de ce document et la dernière partie de ce document.\n",
    "\n",
    "# Règles de vie dans la salle informatique\n",
    "\n",
    "* **Nourriture et boisson interdites**. Les ordinateurs ne supportent pas les projections de liquide et digèrent mal les miettes et les restes de gâteaux... \n",
    "* Vous devez respecter le **travail** de ceux qui nettoient la salle : pas de papier qui traîne, les chaises sont rangées en fin de séance, le poste de travail doit rester dans le même état que vous l'avez trouvé.\n",
    "* **écouteurs, portable interdits et rangés DANS LE SAC** (sauf mention contraire explicite du professeur)\n",
    "* **Couvre-chefs interdits**\n",
    "* **clé USB interdite** (sauf mention contraire explicite du professeur). Vous n'en avez pas besoin car nous utiliserons un outil moderne et professionnel comme **Github**\n",
    "* 1 seul élève par poste (pas de binôme)\n",
    "* **Les postes ne sont pas nominatifs, votre place non plus** : Si je vous demande de changer de place, notamment à cause de problèmes de comportement, il vaut mieux pour vous le faire rapidement sans discuter ! (voir première phrase de ce document et la dernière partie de ce document)\n",
    "* **Interdiction formelle de bidouiller les postes informatiques, même pour changer un fond d'écran**. Prévenir si vous constatez un problème plutôt que d'intervenir vous-même. **Toute intervention sur le matériel informatique sera sanctionnée** car maintenir en bon état un parc informatique me demande du temps !!\n",
    "\n",
    "\n",
    "# Sanctions\n",
    "\n",
    "> Les règles de vie citées ci-dessus ne sont pas négociables. En cas de non-respect, vous serez sanctionnés.\n",
    "\n",
    "Bonne nouvelle, vous commencez tous chaque trimestre avec 1 note de **20/20**. Malheureusement elle n'est pas fixée à 20 et va descendre pour les raisons suivantes :\n",
    "* Rappel à l'ordre mineur sur le comportement (bavardage, surfer sur un site non utile au travail, sortir son portable...) : **-1 point**\n",
    "* Oubli de matériel ou pas le bon matériel (crayon, gomme, règle, bloc note, etc..., oubli de son mot de passe github) : **- 2 points**\n",
    "* Rappel à l'ordre majeur sur le comportement (boisson, insolence, amusement, intervention non autorisée sur le matériel informatique...) : **-3 points**\n",
    "* En cas d'**exclusion de cours : -5 points**. D'autre part, toute exclusion de cours est accompagnée d'un travail à faire et à me rendre le jour-même en main propre au sortir de l'exclusion. Ce travail sera noté et **cette note NE sera PAS prise en compte dans la moyenne dans le cas où elle augmenterait votre moyenne**. Bien sûr un travail effectué en exlusion de cours non rendu ou rendu trop tard = 0/20. De plus une exclusion donnera lieu systématiquement à un rapport transmis à l'administration.\n",
    "* Si votre note arrive à 0/20, je commence à augmenter son coefficient en cas de nouvelles sanctions\n",
    "* Les sanctions peuvent se cumuler, **et certainement empirer**, au cours d'une même séance. Ainsi si je dois vous reprendre 2 fois pour bavardage c'est 2 fois -1 point **minimum**.\n",
    "\n",
    "Un conseil : ne commencez pas à contester une sanction vous concernant car cela ne fera qu'agraver votre cas. Je connais par coeur les arguments des élèves allant du simple _\"jai rien fait\"_ au _\"c'est pas juste, il y en a d'autres qui parlent\"_. Il se trouve que quand je vous sanctionne, c'est sur vous que ça tombe de la même façon que lors d'un contrôle routier on peut être pris et recevoir une amende alors que d'autres roulent plus vite. Bref pour les spécialistes du _\"c'est toujours sur moi que ça tombe\"_ , faîtes en sorte que ça ne tombe plus sur vous..."
   ]
  }
 ],
 "metadata": {
  "kernelspec": {
   "display_name": "Python 3",
   "language": "python",
   "name": "python3"
  },
  "language_info": {
   "codemirror_mode": {
    "name": "ipython",
    "version": 3
   },
   "file_extension": ".py",
   "mimetype": "text/x-python",
   "name": "python",
   "nbconvert_exporter": "python",
   "pygments_lexer": "ipython3",
   "version": "3.7.2"
  }
 },
 "nbformat": 4,
 "nbformat_minor": 4
}
